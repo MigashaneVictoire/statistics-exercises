{
 "cells": [
  {
   "cell_type": "markdown",
   "id": "ffcf7e35",
   "metadata": {},
   "source": [
    "# simulation.py"
   ]
  },
  {
   "cell_type": "code",
   "execution_count": 6,
   "id": "318d18be",
   "metadata": {},
   "outputs": [],
   "source": [
    "import numpy as np\n",
    "import pandas as pd\n",
    "import random\n",
    "\n",
    "np.random.seed(9)"
   ]
  },
  {
   "cell_type": "markdown",
   "id": "e1daf5fa",
   "metadata": {},
   "source": [
    "1. How likely is it that you roll doubles when rolling two dice?"
   ]
  },
  {
   "cell_type": "code",
   "execution_count": 7,
   "id": "50cd79fa",
   "metadata": {},
   "outputs": [
    {
     "data": {
      "text/plain": [
       "0.16614"
      ]
     },
     "execution_count": 7,
     "metadata": {},
     "output_type": "execute_result"
    }
   ],
   "source": [
    "dice = np.arange(1,7,1)\n",
    "\n",
    "num_dice = 2\n",
    "iterations = 100_000\n",
    "\n",
    "rand_selection = np.random.choice(dice, (iterations,num_dice))\n",
    "\n",
    "rand_mask = []\n",
    "for i in rand_selection:\n",
    "    rand_mask.append(i[0] == i[1])\n",
    "    \n",
    "np.array(rand_mask).mean()"
   ]
  },
  {
   "cell_type": "markdown",
   "id": "1c760dd2",
   "metadata": {},
   "source": [
    "2. If you flip 8 coins, what is the probability of getting exactly 3 heads?"
   ]
  },
  {
   "cell_type": "code",
   "execution_count": 8,
   "id": "ac566e84",
   "metadata": {},
   "outputs": [
    {
     "data": {
      "text/plain": [
       "(100000, 8)"
      ]
     },
     "execution_count": 8,
     "metadata": {},
     "output_type": "execute_result"
    }
   ],
   "source": [
    "# question 2\n",
    "choices = [\"H\", \"T\"]\n",
    "n_flips = 8\n",
    "iterations = 100_000\n",
    "\n",
    "rand_selection = np.random.choice(choices, (iterations, n_flips))\n",
    "rand_selection.shape"
   ]
  },
  {
   "cell_type": "code",
   "execution_count": 9,
   "id": "2d4bc6de",
   "metadata": {},
   "outputs": [
    {
     "data": {
      "text/plain": [
       "0.21896"
      ]
     },
     "execution_count": 9,
     "metadata": {},
     "output_type": "execute_result"
    }
   ],
   "source": [
    "# Determine the result of each simulation\n",
    "((rand_selection == \"H\").sum(axis = 1) == 3).mean()"
   ]
  },
  {
   "cell_type": "markdown",
   "id": "67ed1de0",
   "metadata": {},
   "source": [
    "What is the probability of getting more than 3 heads?"
   ]
  },
  {
   "cell_type": "code",
   "execution_count": 10,
   "id": "c2d97833",
   "metadata": {},
   "outputs": [
    {
     "data": {
      "text/plain": [
       "0.63636"
      ]
     },
     "execution_count": 10,
     "metadata": {},
     "output_type": "execute_result"
    }
   ],
   "source": [
    "# Determine the result of each simulation\n",
    "((rand_selection == \"H\").sum(axis = 1) > 3).mean()"
   ]
  },
  {
   "cell_type": "markdown",
   "id": "de16a3af",
   "metadata": {},
   "source": [
    "3. There are approximitely 3 web development cohorts for every 1 data science cohort at Codeup. Assuming that Codeup randomly selects an alumni to put on a billboard, what are the odds that the two billboards I drive past both have data science students on them?\n",
    "\n"
   ]
  },
  {
   "cell_type": "code",
   "execution_count": 11,
   "id": "742210e6",
   "metadata": {},
   "outputs": [
    {
     "data": {
      "text/plain": [
       "0.06278"
      ]
     },
     "execution_count": 11,
     "metadata": {},
     "output_type": "execute_result"
    }
   ],
   "source": [
    "choice = [\"web\", \"web\", \"web\", \"data\"]\n",
    "billboards = 2\n",
    "iterations = 100_000\n",
    "\n",
    "# make choices\n",
    "rand_selection = np.random.choice(choice, (iterations,billboards))\n",
    "\n",
    "# Determine the result of each simulation\n",
    "rand_mask = []\n",
    "for i in rand_selection:\n",
    "    rand_mask.append(i[0] == \"data\" and i[1] == \"data\")\n",
    "\n",
    "np.array(rand_mask).mean() # get the mnean"
   ]
  },
  {
   "cell_type": "code",
   "execution_count": 12,
   "id": "c250efc3",
   "metadata": {},
   "outputs": [
    {
     "data": {
      "text/plain": [
       "0.06278"
      ]
     },
     "execution_count": 12,
     "metadata": {},
     "output_type": "execute_result"
    }
   ],
   "source": [
    "# Same solution\n",
    "((rand_selection == \"data\").sum(axis=1) == 2).mean()"
   ]
  },
  {
   "cell_type": "markdown",
   "id": "342bbd63",
   "metadata": {},
   "source": [
    "4. Codeup students buy, on average, 3 poptart packages with a standard deviation of 1.5 a day from the snack vending machine. If on monday the machine is restocked with 17 poptart packages, how likely is it that I will be able to buy some poptarts on Friday afternoon? (Remember, if you have mean and standard deviation, use the np.random.normal) You'll need to make a judgement call on how to handle some of your values"
   ]
  },
  {
   "cell_type": "code",
   "execution_count": 13,
   "id": "8b7623b5",
   "metadata": {},
   "outputs": [
    {
     "data": {
      "text/plain": [
       "0.61725"
      ]
     },
     "execution_count": 13,
     "metadata": {},
     "output_type": "execute_result"
    }
   ],
   "source": [
    "my_mean = 3\n",
    "days = 5\n",
    "std = 1.5\n",
    "iterations = 100_000\n",
    "\n",
    "# populating the nornam distribution curve (observations)\n",
    "rand_norm_selection = np.random.normal(my_mean,std, (iterations, days))\n",
    "\n",
    "# compare the sum to the initial value\n",
    "rand_norm_selection_prob = (rand_norm_selection).sum(axis=1) <= 16\n",
    "\n",
    "rand_norm_selection_prob.mean()"
   ]
  },
  {
   "cell_type": "markdown",
   "id": "49e6c1b7",
   "metadata": {},
   "source": [
    "5. Compare Heights\n",
    "\n",
    "- Men have an average height of 178 cm and standard deviation of 8cm.\n",
    "- Women have a mean of 170, sd = 6cm.\n",
    "- Since you have means and standard deviations, you can use np.random.normal to generate observations.\n",
    "- If a man and woman are chosen at random, what is the likelihood the woman is taller than the man?"
   ]
  },
  {
   "cell_type": "code",
   "execution_count": 27,
   "id": "35f29a27",
   "metadata": {},
   "outputs": [
    {
     "data": {
      "text/plain": [
       "0.21078"
      ]
     },
     "execution_count": 27,
     "metadata": {},
     "output_type": "execute_result"
    }
   ],
   "source": [
    "male_height, male_std = 178, 8\n",
    "female_height, female_std = 170, 6\n",
    "\n",
    "iterations = 100_000\n",
    "rand_norm_selection_male = np.random.normal(male_height,male_std, iterations)\n",
    "rand_norm_selection_female = np.random.normal(female_height,female_std, iterations)\n",
    "\n",
    "(rand_norm_selection_female > rand_norm_selection_male).mean()"
   ]
  },
  {
   "cell_type": "markdown",
   "id": "26e48d8f",
   "metadata": {},
   "source": [
    "6. |When installing anaconda on a student's computer, there's a 1 in 250 chance that the download is corrupted and the installation fails. What are the odds that after having 50 students download anaconda, no one has an installation issue? 100 students?"
   ]
  },
  {
   "cell_type": "code",
   "execution_count": 39,
   "id": "23d0274c",
   "metadata": {},
   "outputs": [
    {
     "data": {
      "text/plain": [
       "0.81924"
      ]
     },
     "execution_count": 39,
     "metadata": {},
     "output_type": "execute_result"
    }
   ],
   "source": [
    "# action = [\"fail\", \"passing\"]\n",
    "\n",
    "# students = 50\n",
    "# chance = [1/250, 249/250]\n",
    "\n",
    "# iterations = 100_000\n",
    "# rand_selection = np.random.choice(action, (iterations,students), p=chance)\n",
    "# rand_selection_check = (rand_selection == \"passing\").sum(axis=1)\n",
    "\n",
    "# rand_selection_check.mean()\n",
    "\n",
    "#number of installations\n",
    "n_installs= 50\n",
    "\n",
    "#outcomes\n",
    "conda_fails= 1\n",
    "success = 0\n",
    "outcomes= [conda_fails, success]\n",
    "\n",
    "#probability\n",
    "prob_fail= 1/250\n",
    "\n",
    "#simulate for 50 installations \n",
    "installs = np.random.choice(outcomes, size = (iterations, n_installs), p = [249/250, 1/250])\n",
    "((installs < prob_fail).sum(axis=1)== 0).mean()"
   ]
  },
  {
   "cell_type": "markdown",
   "id": "e631c920",
   "metadata": {},
   "source": [
    "What is the probability that we observe an installation issue within the first 150 students that download anaconda?"
   ]
  },
  {
   "cell_type": "code",
   "execution_count": 52,
   "id": "9d02c1c9",
   "metadata": {},
   "outputs": [
    {
     "data": {
      "text/plain": [
       "0.59760576"
      ]
     },
     "execution_count": 52,
     "metadata": {},
     "output_type": "execute_result"
    }
   ],
   "source": [
    "# action = [\"fail\", \"passing\"]\n",
    "\n",
    "# students = 150\n",
    "# rand_selection = np.random.choice(action, students, p= chance)\n",
    "# rand_selection_check = (rand_selection == \"fail\").sum()\n",
    "# rand_selection_check.mean()\n",
    "\n",
    "outcomes = [\"s\", \"f\"]\n",
    "n_installs = 150\n",
    "\n",
    "installs_150 = np.random.choice(outcomes, size = (iterations, n_installs), p = [249/250, 1/250])\n",
    "(installs_150 == \"s\").sum(axis=1).mean() / 250"
   ]
  },
  {
   "cell_type": "markdown",
   "id": "bbebfbb9",
   "metadata": {},
   "source": [
    "How likely is it that 450 students all download anaconda without an issue?"
   ]
  },
  {
   "cell_type": "code",
   "execution_count": 41,
   "id": "1dfd3e5a",
   "metadata": {},
   "outputs": [
    {
     "data": {
      "text/plain": [
       "0.81875"
      ]
     },
     "execution_count": 41,
     "metadata": {},
     "output_type": "execute_result"
    }
   ],
   "source": [
    "# students = 450\n",
    "# rand_selection = np.random.choice(action, students, p= chance)\n",
    "# rand_selection_check = (rand_selection == \"fail\").sum()\n",
    "# rand_selection_check.mean()\n",
    "\n",
    "n_installs = 450\n",
    "\n",
    "installs_150 = np.random.choice(outcomes, size = (iterations, n_installs), p = [249/250, 1/250])\n",
    "((installs_100 < prob_fail).sum(axis=1)== 0).mean()"
   ]
  },
  {
   "cell_type": "markdown",
   "id": "afb3412e",
   "metadata": {},
   "source": [
    "7. There's a 70% chance on any given day that there will be at least one food truck at Travis Park. However, you haven't seen a food truck there in 3 days. How unlikely is this?"
   ]
  },
  {
   "cell_type": "code",
   "execution_count": 18,
   "id": "afb4e30f",
   "metadata": {},
   "outputs": [
    {
     "data": {
      "text/plain": [
       "0.02743"
      ]
     },
     "execution_count": 18,
     "metadata": {},
     "output_type": "execute_result"
    }
   ],
   "source": [
    "options = [\"food_tuck\", \"No_food_truck\"]\n",
    "chance = [0.7, 0.3]\n",
    "days = 3\n",
    "iterations = 100_000\n",
    "\n",
    "rand_selection =  np.random.choice(options,(iterations, days), p=chance)\n",
    "rand_selection_check = (rand_selection == \"food_tuck\").sum(axis=1) == 0\n",
    "rand_selection_check.mean()"
   ]
  },
  {
   "cell_type": "markdown",
   "id": "f308d164",
   "metadata": {},
   "source": [
    "How likely is it that a food truck will show up sometime this week?"
   ]
  },
  {
   "cell_type": "code",
   "execution_count": 42,
   "id": "e0dec61f",
   "metadata": {},
   "outputs": [
    {
     "data": {
      "text/plain": [
       "0.99977"
      ]
     },
     "execution_count": 42,
     "metadata": {},
     "output_type": "execute_result"
    }
   ],
   "source": [
    "options = [\"food_tuck\", \"No_food_truck\"]\n",
    "chance = [0.7, 0.3]\n",
    "days = 7\n",
    "iterations = 100_000\n",
    "\n",
    "rand_selection =  np.random.choice(options,(iterations, days), p=chance)\n",
    "rand_selection_check = (rand_selection == \"food_tuck\").sum(axis=1) >= 1\n",
    "rand_selection_check.mean()"
   ]
  },
  {
   "cell_type": "markdown",
   "id": "f7563263",
   "metadata": {},
   "source": [
    "8. If 23 people are in the same room, what are the odds that two of them share a birthday? What if it's 20 people? 40?"
   ]
  },
  {
   "cell_type": "code",
   "execution_count": 45,
   "id": "b10df39e",
   "metadata": {},
   "outputs": [
    {
     "data": {
      "text/plain": [
       "0.41295"
      ]
     },
     "execution_count": 45,
     "metadata": {},
     "output_type": "execute_result"
    }
   ],
   "source": [
    "days = np.arange(1, 365,1)\n",
    "people = 20\n",
    "bithday = 2\n",
    "\n",
    "iterations = 100_000\n",
    "rand_selection = np.random.choice(days, (iterations, people))\n",
    "\n",
    "new_rand_selection = []\n",
    "for i in rand_selection:\n",
    "    new_rand_selection.append(len(set(i)))\n",
    "    \n",
    "\n",
    "(np.array(new_rand_selection) < 20).mean()"
   ]
  },
  {
   "cell_type": "code",
   "execution_count": null,
   "id": "73118cb5",
   "metadata": {},
   "outputs": [],
   "source": []
  }
 ],
 "metadata": {
  "kernelspec": {
   "display_name": "Python 3 (ipykernel)",
   "language": "python",
   "name": "python3"
  },
  "language_info": {
   "codemirror_mode": {
    "name": "ipython",
    "version": 3
   },
   "file_extension": ".py",
   "mimetype": "text/x-python",
   "name": "python",
   "nbconvert_exporter": "python",
   "pygments_lexer": "ipython3",
   "version": "3.10.9"
  }
 },
 "nbformat": 4,
 "nbformat_minor": 5
}

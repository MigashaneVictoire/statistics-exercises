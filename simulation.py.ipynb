{
 "cells": [
  {
   "cell_type": "markdown",
   "id": "300ea69e",
   "metadata": {},
   "source": [
    "# simulation.py"
   ]
  },
  {
   "cell_type": "code",
   "execution_count": 75,
   "id": "c8d7ff26",
   "metadata": {},
   "outputs": [],
   "source": [
    "import numpy as np\n",
    "import pandas as pd\n",
    "import random\n",
    "\n",
    "np.random.seed(9)"
   ]
  },
  {
   "cell_type": "markdown",
   "id": "c04ed984",
   "metadata": {},
   "source": [
    "1. How likely is it that you roll doubles when rolling two dice?"
   ]
  },
  {
   "cell_type": "code",
   "execution_count": 105,
   "id": "1713fc02",
   "metadata": {},
   "outputs": [
    {
     "data": {
      "text/plain": [
       "0.16774"
      ]
     },
     "execution_count": 105,
     "metadata": {},
     "output_type": "execute_result"
    }
   ],
   "source": [
    "dice = np.arange(1,7,1)\n",
    "\n",
    "num_dice = 2\n",
    "iterations = 100_000\n",
    "\n",
    "rand_selection = np.random.choice(dice, (iterations,num_dice))\n",
    "\n",
    "rand_mask = []\n",
    "for i in rand_selection:\n",
    "    rand_mask.append(i[0] == i[1])\n",
    "    \n",
    "np.array(rand_mask).mean()"
   ]
  },
  {
   "cell_type": "code",
   "execution_count": null,
   "id": "ab9b09df",
   "metadata": {},
   "outputs": [],
   "source": []
  },
  {
   "cell_type": "markdown",
   "id": "e2c3c279",
   "metadata": {},
   "source": [
    "2. If you flip 8 coins, what is the probability of getting exactly 3 heads?"
   ]
  },
  {
   "cell_type": "code",
   "execution_count": 77,
   "id": "aca5cab3",
   "metadata": {},
   "outputs": [
    {
     "data": {
      "text/plain": [
       "(100000, 8)"
      ]
     },
     "execution_count": 77,
     "metadata": {},
     "output_type": "execute_result"
    }
   ],
   "source": [
    "# question 2\n",
    "choices = [\"H\", \"T\"]\n",
    "n_flips = 8\n",
    "iterations = 100_000\n",
    "\n",
    "rand_selection = np.random.choice(choices, (iterations, n_flips))\n",
    "rand_selection.shape"
   ]
  },
  {
   "cell_type": "code",
   "execution_count": 78,
   "id": "30326812",
   "metadata": {},
   "outputs": [
    {
     "data": {
      "text/plain": [
       "0.21896"
      ]
     },
     "execution_count": 78,
     "metadata": {},
     "output_type": "execute_result"
    }
   ],
   "source": [
    "# Determine the result of each simulation\n",
    "((rand_selection == \"H\").sum(axis = 1) == 3).mean()"
   ]
  },
  {
   "cell_type": "markdown",
   "id": "91a574b3",
   "metadata": {},
   "source": [
    "What is the probability of getting more than 3 heads?"
   ]
  },
  {
   "cell_type": "code",
   "execution_count": 79,
   "id": "497bf9d5",
   "metadata": {},
   "outputs": [
    {
     "data": {
      "text/plain": [
       "0.63636"
      ]
     },
     "execution_count": 79,
     "metadata": {},
     "output_type": "execute_result"
    }
   ],
   "source": [
    "# Determine the result of each simulation\n",
    "((rand_selection == \"H\").sum(axis = 1) > 3).mean()"
   ]
  },
  {
   "cell_type": "markdown",
   "id": "7096154d",
   "metadata": {},
   "source": [
    "3. There are approximitely 3 web development cohorts for every 1 data science cohort at Codeup. Assuming that Codeup randomly selects an alumni to put on a billboard, what are the odds that the two billboards I drive past both have data science students on them?\n",
    "\n"
   ]
  },
  {
   "cell_type": "code",
   "execution_count": 108,
   "id": "6f72b914",
   "metadata": {},
   "outputs": [
    {
     "data": {
      "text/plain": [
       "0.06224"
      ]
     },
     "execution_count": 108,
     "metadata": {},
     "output_type": "execute_result"
    }
   ],
   "source": [
    "choice = [\"web\", \"web\", \"web\", \"data\"]\n",
    "billboards = 2\n",
    "iterations = 100_000\n",
    "\n",
    "# make choices\n",
    "rand_selection = np.random.choice(choice, (iterations,billboards))\n",
    "\n",
    "# Determine the result of each simulation\n",
    "rand_mask = []\n",
    "for i in rand_selection:\n",
    "    rand_mask.append(i[0] == \"data\" and i[1] == \"data\")\n",
    "\n",
    "np.array(rand_mask).mean() # get the mnean"
   ]
  },
  {
   "cell_type": "code",
   "execution_count": 109,
   "id": "5a691447",
   "metadata": {},
   "outputs": [
    {
     "data": {
      "text/plain": [
       "0.06224"
      ]
     },
     "execution_count": 109,
     "metadata": {},
     "output_type": "execute_result"
    }
   ],
   "source": [
    "# Same solution\n",
    "((rand_selection == \"data\").sum(axis=1) == 2).mean()"
   ]
  },
  {
   "cell_type": "markdown",
   "id": "df82034e",
   "metadata": {},
   "source": [
    "4. Codeup students buy, on average, 3 poptart packages with a standard deviation of 1.5 a day from the snack vending machine. If on monday the machine is restocked with 17 poptart packages, how likely is it that I will be able to buy some poptarts on Friday afternoon? (Remember, if you have mean and standard deviation, use the np.random.normal) You'll need to make a judgement call on how to handle some of your values"
   ]
  },
  {
   "cell_type": "code",
   "execution_count": 139,
   "id": "14592773",
   "metadata": {},
   "outputs": [
    {
     "data": {
      "text/plain": [
       "0.61609"
      ]
     },
     "execution_count": 139,
     "metadata": {},
     "output_type": "execute_result"
    }
   ],
   "source": [
    "my_mean = 3\n",
    "days = 5\n",
    "std = 1.5\n",
    "iterations = 100_000\n",
    "\n",
    "# populating the nornam distribution curve (observations)\n",
    "rand_norm_selection = np.random.normal(my_mean,std, (iterations, days))\n",
    "\n",
    "# compare the sum to the initial value\n",
    "rand_norm_selection_prob = (rand_norm_selection).sum(axis=1) <= 16\n",
    "\n",
    "rand_norm_selection_prob.mean()"
   ]
  },
  {
   "cell_type": "markdown",
   "id": "c334c890",
   "metadata": {},
   "source": [
    "5. Compare Heights\n",
    "\n",
    "- Men have an average height of 178 cm and standard deviation of 8cm.\n",
    "- Women have a mean of 170, sd = 6cm.\n",
    "- Since you have means and standard deviations, you can use np.random.normal to generate observations.\n",
    "- If a man and woman are chosen at random, what is the likelihood the woman is taller than the man?"
   ]
  },
  {
   "cell_type": "code",
   "execution_count": 155,
   "id": "91348e82",
   "metadata": {},
   "outputs": [
    {
     "data": {
      "text/plain": [
       "0.2113"
      ]
     },
     "execution_count": 155,
     "metadata": {},
     "output_type": "execute_result"
    }
   ],
   "source": [
    "male_height, male_std = 178, 8\n",
    "female_height, female_std = 170, 6\n",
    "\n",
    "iterations = 100_000\n",
    "rand_norm_selection_male = np.random.normal(male_height,male_std, iterations)\n",
    "rand_norm_selection_female = np.random.normal(female_height,female_std, iterations)\n",
    "\n",
    "(rand_norm_selection_female > rand_norm_selection_male).mean()"
   ]
  },
  {
   "cell_type": "markdown",
   "id": "9b0c6243",
   "metadata": {},
   "source": [
    "6. |When installing anaconda on a student's computer, there's a 1 in 250 chance that the download is corrupted and the installation fails. What are the odds that after having 50 students download anaconda, no one has an installation issue? 100 students?"
   ]
  },
  {
   "cell_type": "code",
   "execution_count": 172,
   "id": "528892c8",
   "metadata": {},
   "outputs": [
    {
     "data": {
      "text/plain": [
       "array([0., 0., 0., 0., 0., 0., 0., 0., 0., 0., 0., 0., 0., 0., 0., 0., 0.,\n",
       "       0., 0., 0., 0., 0., 0., 0., 0., 0., 0., 0., 0., 0., 0., 0., 0., 0.,\n",
       "       0., 0., 0., 0., 0., 0., 0., 0., 0., 0., 0., 0., 0., 0., 0., 0.])"
      ]
     },
     "execution_count": 172,
     "metadata": {},
     "output_type": "execute_result"
    }
   ],
   "source": [
    "students = np.zeros(50)\n",
    "install_fail = np.array([1/250])\n",
    "\n",
    "students * install_fail\n",
    "\n",
    "# np.random.choice(install_fail, 50)\n",
    "# "
   ]
  },
  {
   "cell_type": "markdown",
   "id": "a64ae576",
   "metadata": {},
   "source": [
    "What is the probability that we observe an installation issue within the first 150 students that download anaconda?"
   ]
  },
  {
   "cell_type": "code",
   "execution_count": null,
   "id": "5fe790ca",
   "metadata": {},
   "outputs": [],
   "source": []
  },
  {
   "cell_type": "markdown",
   "id": "0f9a562e",
   "metadata": {},
   "source": [
    "How likely is it that 450 students all download anaconda without an issue?"
   ]
  },
  {
   "cell_type": "code",
   "execution_count": null,
   "id": "38f59c8d",
   "metadata": {},
   "outputs": [],
   "source": []
  },
  {
   "cell_type": "markdown",
   "id": "6267d0c4",
   "metadata": {},
   "source": [
    "7. There's a 70% chance on any given day that there will be at least one food truck at Travis Park. However, you haven't seen a food truck there in 3 days. How unlikely is this?"
   ]
  },
  {
   "cell_type": "code",
   "execution_count": null,
   "id": "340b2456",
   "metadata": {},
   "outputs": [],
   "source": []
  },
  {
   "cell_type": "markdown",
   "id": "b1762991",
   "metadata": {},
   "source": [
    "How likely is it that a food truck will show up sometime this week?"
   ]
  },
  {
   "cell_type": "code",
   "execution_count": null,
   "id": "c96b537d",
   "metadata": {},
   "outputs": [],
   "source": []
  },
  {
   "cell_type": "markdown",
   "id": "bb4d5552",
   "metadata": {},
   "source": [
    "8. If 23 people are in the same room, what are the odds that two of them share a birthday? What if it's 20 people? 40?"
   ]
  },
  {
   "cell_type": "code",
   "execution_count": 178,
   "id": "f7f2bafb",
   "metadata": {},
   "outputs": [
    {
     "ename": "TypeError",
     "evalue": "unhashable type: 'numpy.ndarray'",
     "output_type": "error",
     "traceback": [
      "\u001b[0;31m---------------------------------------------------------------------------\u001b[0m",
      "\u001b[0;31mTypeError\u001b[0m                                 Traceback (most recent call last)",
      "Cell \u001b[0;32mIn[178], line 7\u001b[0m\n\u001b[1;32m      5\u001b[0m iterations \u001b[38;5;241m=\u001b[39m \u001b[38;5;241m100_000\u001b[39m\n\u001b[1;32m      6\u001b[0m rand_selection \u001b[38;5;241m=\u001b[39m np\u001b[38;5;241m.\u001b[39mrandom\u001b[38;5;241m.\u001b[39mchoice(days, (iterations, people))\n\u001b[0;32m----> 7\u001b[0m \u001b[38;5;28;43mset\u001b[39;49m\u001b[43m(\u001b[49m\u001b[43m[\u001b[49m\u001b[43mrand_selection\u001b[49m\u001b[43m]\u001b[49m\u001b[43m)\u001b[49m\n",
      "\u001b[0;31mTypeError\u001b[0m: unhashable type: 'numpy.ndarray'"
     ]
    }
   ],
   "source": [
    "days = np.arange(1, 365,1)\n",
    "people = 23\n",
    "find = 2\n",
    "\n",
    "iterations = 100_000\n",
    "rand_selection = np.random.choice(days, (iterations, people))\n",
    "set([rand_selection])"
   ]
  },
  {
   "cell_type": "code",
   "execution_count": null,
   "id": "7c315ceb",
   "metadata": {},
   "outputs": [],
   "source": []
  }
 ],
 "metadata": {
  "kernelspec": {
   "display_name": "Python 3 (ipykernel)",
   "language": "python",
   "name": "python3"
  },
  "language_info": {
   "codemirror_mode": {
    "name": "ipython",
    "version": 3
   },
   "file_extension": ".py",
   "mimetype": "text/x-python",
   "name": "python",
   "nbconvert_exporter": "python",
   "pygments_lexer": "ipython3",
   "version": "3.10.9"
  }
 },
 "nbformat": 4,
 "nbformat_minor": 5
}

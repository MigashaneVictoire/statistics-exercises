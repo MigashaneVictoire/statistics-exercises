{
 "cells": [
  {
   "cell_type": "markdown",
   "id": "25a89568",
   "metadata": {},
   "source": [
    "# simulation.py"
   ]
  },
  {
   "cell_type": "code",
   "execution_count": 75,
   "id": "168d16f6",
   "metadata": {},
   "outputs": [],
   "source": [
    "import numpy as np\n",
    "import pandas as pd\n",
    "import random\n",
    "\n",
    "np.random.seed(9)"
   ]
  },
  {
   "cell_type": "markdown",
   "id": "43ffedbc",
   "metadata": {},
   "source": [
    "1. How likely is it that you roll doubles when rolling two dice?"
   ]
  },
  {
   "cell_type": "code",
   "execution_count": 76,
   "id": "6553ac81",
   "metadata": {},
   "outputs": [
    {
     "data": {
      "text/plain": [
       "0.16614"
      ]
     },
     "execution_count": 76,
     "metadata": {},
     "output_type": "execute_result"
    }
   ],
   "source": [
    "dice = np.arange(1,7,1)\n",
    "\n",
    "num_dice = 2\n",
    "iterations = 100_000\n",
    "\n",
    "rand_selection = np.random.choice(dice, (iterations,num_dice))\n",
    "\n",
    "rand_mask = []\n",
    "for i in rand_selection:\n",
    "    rand_mask.append(i[0] == i[1])\n",
    "    \n",
    "np.array(rand_mask).mean()"
   ]
  },
  {
   "cell_type": "markdown",
   "id": "834c6576",
   "metadata": {},
   "source": [
    "2. If you flip 8 coins, what is the probability of getting exactly 3 heads?"
   ]
  },
  {
   "cell_type": "code",
   "execution_count": 77,
   "id": "06ac55d8",
   "metadata": {},
   "outputs": [
    {
     "data": {
      "text/plain": [
       "(100000, 8)"
      ]
     },
     "execution_count": 77,
     "metadata": {},
     "output_type": "execute_result"
    }
   ],
   "source": [
    "# question 2\n",
    "choices = [\"H\", \"T\"]\n",
    "n_flips = 8\n",
    "iterations = 100_000\n",
    "\n",
    "rand_selection = np.random.choice(choices, (iterations, n_flips))\n",
    "rand_selection.shape"
   ]
  },
  {
   "cell_type": "code",
   "execution_count": 78,
   "id": "176d06d7",
   "metadata": {},
   "outputs": [
    {
     "data": {
      "text/plain": [
       "0.21896"
      ]
     },
     "execution_count": 78,
     "metadata": {},
     "output_type": "execute_result"
    }
   ],
   "source": [
    "# Determine the result of each simulation\n",
    "((rand_selection == \"H\").sum(axis = 1) == 3).mean()"
   ]
  },
  {
   "cell_type": "markdown",
   "id": "b4478330",
   "metadata": {},
   "source": [
    "What is the probability of getting more than 3 heads?"
   ]
  },
  {
   "cell_type": "code",
   "execution_count": 79,
   "id": "e3542bd4",
   "metadata": {},
   "outputs": [
    {
     "data": {
      "text/plain": [
       "0.63636"
      ]
     },
     "execution_count": 79,
     "metadata": {},
     "output_type": "execute_result"
    }
   ],
   "source": [
    "# Determine the result of each simulation\n",
    "((rand_selection == \"H\").sum(axis = 1) > 3).mean()"
   ]
  },
  {
   "cell_type": "markdown",
   "id": "c87c6531",
   "metadata": {},
   "source": [
    "3. There are approximitely 3 web development cohorts for every 1 data science cohort at Codeup. Assuming that Codeup randomly selects an alumni to put on a billboard, what are the odds that the two billboards I drive past both have data science students on them?\n",
    "\n"
   ]
  },
  {
   "cell_type": "code",
   "execution_count": 102,
   "id": "02991bd1",
   "metadata": {},
   "outputs": [
    {
     "data": {
      "text/plain": [
       "0.06259"
      ]
     },
     "execution_count": 102,
     "metadata": {},
     "output_type": "execute_result"
    }
   ],
   "source": [
    "choice = [\"web\", \"web\", \"web\", \"data\"]\n",
    "billboards = 2\n",
    "iterations = 100_000\n",
    "\n",
    "rand_selection = np.random.choice(choice, (iterations,billboards))\n",
    "\n",
    "# Determine the result of each simulation\n",
    "rand_mask = []\n",
    "for i in rand_selection:\n",
    "    rand_mask.append(i[0] == \"data\" and i[1] == \"data\")\n",
    "\n",
    "np.array(rand_mask).mean() # get the mnean"
   ]
  },
  {
   "cell_type": "code",
   "execution_count": 103,
   "id": "02f466ed",
   "metadata": {},
   "outputs": [
    {
     "data": {
      "text/plain": [
       "0.06259"
      ]
     },
     "execution_count": 103,
     "metadata": {},
     "output_type": "execute_result"
    }
   ],
   "source": [
    "# Same solution\n",
    "((rand_selection == \"data\").sum(axis=1) == 2).mean()"
   ]
  },
  {
   "cell_type": "code",
   "execution_count": null,
   "id": "4cfec741",
   "metadata": {},
   "outputs": [],
   "source": []
  },
  {
   "cell_type": "code",
   "execution_count": null,
   "id": "65f48ef0",
   "metadata": {},
   "outputs": [],
   "source": []
  },
  {
   "cell_type": "code",
   "execution_count": null,
   "id": "f39a3525",
   "metadata": {},
   "outputs": [],
   "source": []
  }
 ],
 "metadata": {
  "kernelspec": {
   "display_name": "Python 3 (ipykernel)",
   "language": "python",
   "name": "python3"
  },
  "language_info": {
   "codemirror_mode": {
    "name": "ipython",
    "version": 3
   },
   "file_extension": ".py",
   "mimetype": "text/x-python",
   "name": "python",
   "nbconvert_exporter": "python",
   "pygments_lexer": "ipython3",
   "version": "3.10.9"
  }
 },
 "nbformat": 4,
 "nbformat_minor": 5
}

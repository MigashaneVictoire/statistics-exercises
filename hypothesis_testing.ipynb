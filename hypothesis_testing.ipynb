{
 "cells": [
  {
   "cell_type": "markdown",
   "id": "25ea1ed6",
   "metadata": {},
   "source": [
    "# Hypothesis Testing\n",
    "\n",
    "For each of the following questions, formulate a null and alternative hypothesis (be as specific as you can be), then give an example of what a true positive, true negative, type I and type II errors would look like. Note that some of the questions are intentionally phrased in a vague way. It is your job to reword these as more precise questions that could be tested.\n",
    "\n",
    "1. Has the network latency gone up since we switched internet service providers?\n",
    "\n",
    "    - Null Hyp: New network lantency is > old network latency\n",
    "    - Alt Hyp: New network lantency <= old network lantency\n",
    "    \n",
    "        - True positive: Trial result  identify that new network lantency is increased (becoming greater that old network lantency), and result match initial Hypothesis.\n",
    "\n",
    "        - True negative: Trial result  identify that new network lantency is increased (becoming greater that old network lantency), and result don't match initial Hypothesis.\n",
    "\n",
    "        - False negative: Trial result  identify that new network lantency is decreased (becoming less that old network lantency), and result don't match initial Hypothesis.\n",
    "        - False positive: Trial result  identify that new network lantency is decreased (becoming less that old network lantency), and result match initial Hypothesis"
   ]
  },
  {
   "cell_type": "markdown",
   "id": "1674a848",
   "metadata": {},
   "source": [
    "2. Is the website redesign any good?\n",
    "    - Null Hyp: Website redesign is > old website design.\n",
    "    - Alt Hyp: Website redesign is <= old website design\n",
    "        - True positive: Trial result identify website redesign is better (being better than old website design) and match the initial hypothesis.\n",
    "        - True negative: Trial result identify website redesign is better (being better than old website design) and don't match the initial hypothesis.\n",
    "        - False positive: Trial result identify website redesign is worst (being less than than old website design) and match the initial hypothesis.\n",
    "        - False negative: Trial result identify website redesign is worst (being less than than old website design) and don't match the initial hypothesis."
   ]
  },
  {
   "cell_type": "markdown",
   "id": "96bc9ee2",
   "metadata": {},
   "source": [
    "## Compairing the mean"
   ]
  },
  {
   "cell_type": "code",
   "execution_count": 85,
   "id": "a22c1c71",
   "metadata": {},
   "outputs": [],
   "source": [
    "import numpy as np\n",
    "import matplotlib.pyplot as plt\n",
    "from scipy import stats\n",
    "import pydataset as datasets\n",
    "\n",
    "np.random.seed(234)"
   ]
  },
  {
   "cell_type": "markdown",
   "id": "7683172c",
   "metadata": {},
   "source": [
    "1. Answer with the type of test you would use (assume normal distribution):\n",
    "\n",
    "- Is there a difference in grades of students on the second floor compared to grades of all students?\n",
    "    - Since I am comparing **one** observed mean to a theoretical mean (mean of all the data), I need to use the **`One Sample T-Test`**.\n",
    "- Are adults who drink milk taller than adults who dont drink milk?\n",
    "    - Because I am comparing **two** observed means (independent samples), I will use the **`Two Sample T-Test`** or the ***`Independent T-Test`*.\n",
    "- Is the the price of gas higher in texas or in new mexico?\n",
    "    - Because I am comparing **two** observed means (independent samples), I will use the **`Two Sample T-Test`** or the ***`Independent T-Test`*.\n",
    "- Are there differences in stress levels between students who take data science vs students who take web development vs students who take cloud academy?\n",
    "    - Because I am comparing **Three** observed means (independent samples), I will use the **`ANOVA Analysis of Varience`**."
   ]
  },
  {
   "cell_type": "markdown",
   "id": "8225d954",
   "metadata": {},
   "source": [
    "2. Ace Realty wants to determine whether the average time it takes to sell homes is different for its two offices. A sample of 40 sales from office #1 revealed a mean of 90 days and a standard deviation of 15 days. A sample of 50 sales from office #2 revealed a mean of 100 days and a standard deviation of 20 days. Use a .05 level of significance."
   ]
  },
  {
   "cell_type": "code",
   "execution_count": 19,
   "id": "71efee0f",
   "metadata": {},
   "outputs": [],
   "source": [
    "# smaple number 1\n",
    "sales1 =40\n",
    "sales1_mean = 90\n",
    "sales1_std = 15\n",
    "\n",
    "# smape number 2\n",
    "sales2 =50\n",
    "sales2_mean = 100\n",
    "sales2_std = 20"
   ]
  },
  {
   "cell_type": "markdown",
   "id": "affd5bc3",
   "metadata": {},
   "source": [
    "Question: whether the average time it takes to sell homes is different for its two offices.\n",
    "\n",
    "**Step 1: Plot the distributions**"
   ]
  },
  {
   "cell_type": "code",
   "execution_count": 20,
   "id": "cdb20790",
   "metadata": {},
   "outputs": [
    {
     "data": {
      "text/plain": [
       "(array([2., 5., 3., 5., 5., 5., 3., 6., 3., 3.]),\n",
       " array([ 59.99690228,  65.47975861,  70.96261495,  76.44547128,\n",
       "         81.92832761,  87.41118395,  92.89404028,  98.37689661,\n",
       "        103.85975295, 109.34260928, 114.82546561]),\n",
       " <BarContainer object of 10 artists>)"
      ]
     },
     "execution_count": 20,
     "metadata": {},
     "output_type": "execute_result"
    },
    {
     "data": {
      "image/png": "[encoded data removed]",
      "text/plain": [
       "<Figure size 400x200 with 1 Axes>"
      ]
     },
     "metadata": {},
     "output_type": "display_data"
    }
   ],
   "source": [
    "sales1_distribution = stats.norm(sales1_mean, sales1_std)\n",
    "sales1_sample_distribution = sales1_distribution.rvs(sales1)\n",
    "\n",
    "plt.figure(figsize=(4,2))\n",
    "plt.hist(sales1_sample_distribution)"
   ]
  },
  {
   "cell_type": "code",
   "execution_count": 22,
   "id": "898a3e9d",
   "metadata": {},
   "outputs": [
    {
     "data": {
      "text/plain": [
       "(array([ 4.,  5., 12.,  9.,  7.,  6.,  3.,  3.,  0.,  1.]),\n",
       " array([ 65.43683318,  73.913027  ,  82.38922083,  90.86541465,\n",
       "         99.34160847, 107.81780229, 116.29399611, 124.77018993,\n",
       "        133.24638375, 141.72257757, 150.19877139]),\n",
       " <BarContainer object of 10 artists>)"
      ]
     },
     "execution_count": 22,
     "metadata": {},
     "output_type": "execute_result"
    },
    {
     "data": {
      "image/png": "[encoded data removed]",
      "text/plain": [
       "<Figure size 400x200 with 1 Axes>"
      ]
     },
     "metadata": {},
     "output_type": "display_data"
    }
   ],
   "source": [
    "sales2_distribution = stats.norm(sales2_mean, sales2_std)\n",
    "sales2_sample_distribution = sales2_distribution.rvs(sales2)\n",
    "\n",
    "plt.figure(figsize=(4,2))\n",
    "plt.hist(sales2_sample_distribution)"
   ]
  },
  {
   "cell_type": "markdown",
   "id": "99ebf448",
   "metadata": {},
   "source": [
    "**Step 2: Estabish Hypothesis**"
   ]
  },
  {
   "cell_type": "code",
   "execution_count": 92,
   "id": "84cd226f",
   "metadata": {},
   "outputs": [
    {
     "data": {
      "text/plain": [
       "(90.0, 100.0)"
      ]
     },
     "execution_count": 92,
     "metadata": {},
     "output_type": "execute_result"
    }
   ],
   "source": [
    "# look at there mean\n",
    "sales1_distribution.mean(), sales2_distribution.mean()"
   ]
  },
  {
   "cell_type": "markdown",
   "id": "b363c5d2",
   "metadata": {},
   "source": [
    "I will decide my null hypothesis bases on the distributions and the mean.\n",
    "- Null Hypothesis: The average time it takes to sell office one <= the average time it takes to sell office 2\n",
    "- Alternate Hypothesis: The average time it takes to sell office one > the average time it takes to sell office 2\n",
    "\n",
    "**Step 3: Set Significant level**\n",
    "- 0.05 for 95% accuracy"
   ]
  },
  {
   "cell_type": "code",
   "execution_count": 38,
   "id": "35f4eb3a",
   "metadata": {},
   "outputs": [],
   "source": [
    "Alpha = 0.05"
   ]
  },
  {
   "cell_type": "markdown",
   "id": "0e22fd65",
   "metadata": {},
   "source": [
    "**Step 4: Verify Assumptions**\n",
    "- Normal Distribution, or at least 30 observations and \"kinda\" normal. The more observations you have, the less \"normal\" it needs to appear. (CLT)\n",
    "\n",
    "**Step 5: Compute test statistic and probability (t-statistic & p-value) using**"
   ]
  },
  {
   "cell_type": "code",
   "execution_count": 34,
   "id": "88ca7211",
   "metadata": {},
   "outputs": [
    {
     "data": {
      "text/plain": [
       "(0.8377401736416131, 0.36254515991172875)"
      ]
     },
     "execution_count": 34,
     "metadata": {},
     "output_type": "execute_result"
    }
   ],
   "source": [
    "# impliment the two sample T-Test for our example\n",
    "# Equal Variances (the scipy methods we will use has an argument to handle when variances aren't equal).\n",
    "\n",
    "t_stats,p_value = stats.levene(sales1_sample_distribution,sales2_sample_distribution)\n",
    "t_stats,p_value"
   ]
  },
  {
   "cell_type": "markdown",
   "id": "313ba5b6",
   "metadata": {},
   "source": [
    "With my `p_value` being greater the the `Alpha`, It shows that the **varience are equal** in the two groups.\n",
    "\n",
    "**Decide**"
   ]
  },
  {
   "cell_type": "code",
   "execution_count": 39,
   "id": "9d97b8bf",
   "metadata": {},
   "outputs": [
    {
     "name": "stdout",
     "output_type": "stream",
     "text": [
      "we fail to reject the null hypothesis\n"
     ]
    }
   ],
   "source": [
    "if (t_stats > 0) and (p_value < Alpha):\n",
    "    print('We can reject the null hypothesis')\n",
    "else:\n",
    "    print('we fail to reject the null hypothesis')"
   ]
  },
  {
   "cell_type": "markdown",
   "id": "79a559e5",
   "metadata": {},
   "source": [
    "3. Load the mpg dataset and use it to answer the following questions:\n",
    "\n",
    "- Do manual cars get better gas mileage than automatic cars?"
   ]
  },
  {
   "cell_type": "code",
   "execution_count": 86,
   "id": "0093f989",
   "metadata": {
    "scrolled": true
   },
   "outputs": [
    {
     "data": {
      "text/html": [
       "<div>\n",
       "<style scoped>\n",
       "    .dataframe tbody tr th:only-of-type {\n",
       "        vertical-align: middle;\n",
       "    }\n",
       "\n",
       "    .dataframe tbody tr th {\n",
       "        vertical-align: top;\n",
       "    }\n",
       "\n",
       "    .dataframe thead th {\n",
       "        text-align: right;\n",
       "    }\n",
       "</style>\n",
       "<table border=\"1\" class=\"dataframe\">\n",
       "  <thead>\n",
       "    <tr style=\"text-align: right;\">\n",
       "      <th></th>\n",
       "      <th>manufacturer</th>\n",
       "      <th>model</th>\n",
       "      <th>displ</th>\n",
       "      <th>year</th>\n",
       "      <th>cyl</th>\n",
       "      <th>trans</th>\n",
       "      <th>drv</th>\n",
       "      <th>cty</th>\n",
       "      <th>hwy</th>\n",
       "      <th>fl</th>\n",
       "      <th>class</th>\n",
       "    </tr>\n",
       "  </thead>\n",
       "  <tbody>\n",
       "    <tr>\n",
       "      <th>1</th>\n",
       "      <td>audi</td>\n",
       "      <td>a4</td>\n",
       "      <td>1.8</td>\n",
       "      <td>1999</td>\n",
       "      <td>4</td>\n",
       "      <td>auto(l5)</td>\n",
       "      <td>f</td>\n",
       "      <td>18</td>\n",
       "      <td>29</td>\n",
       "      <td>p</td>\n",
       "      <td>compact</td>\n",
       "    </tr>\n",
       "    <tr>\n",
       "      <th>2</th>\n",
       "      <td>audi</td>\n",
       "      <td>a4</td>\n",
       "      <td>1.8</td>\n",
       "      <td>1999</td>\n",
       "      <td>4</td>\n",
       "      <td>manual(m5)</td>\n",
       "      <td>f</td>\n",
       "      <td>21</td>\n",
       "      <td>29</td>\n",
       "      <td>p</td>\n",
       "      <td>compact</td>\n",
       "    </tr>\n",
       "    <tr>\n",
       "      <th>3</th>\n",
       "      <td>audi</td>\n",
       "      <td>a4</td>\n",
       "      <td>2.0</td>\n",
       "      <td>2008</td>\n",
       "      <td>4</td>\n",
       "      <td>manual(m6)</td>\n",
       "      <td>f</td>\n",
       "      <td>20</td>\n",
       "      <td>31</td>\n",
       "      <td>p</td>\n",
       "      <td>compact</td>\n",
       "    </tr>\n",
       "  </tbody>\n",
       "</table>\n",
       "</div>"
      ],
      "text/plain": [
       "  manufacturer model  displ  year  cyl       trans drv  cty  hwy fl    class\n",
       "1         audi    a4    1.8  1999    4    auto(l5)   f   18   29  p  compact\n",
       "2         audi    a4    1.8  1999    4  manual(m5)   f   21   29  p  compact\n",
       "3         audi    a4    2.0  2008    4  manual(m6)   f   20   31  p  compact"
      ]
     },
     "execution_count": 86,
     "metadata": {},
     "output_type": "execute_result"
    }
   ],
   "source": [
    "mpg = datasets.data(\"mpg\")\n",
    "mpg.head(3)"
   ]
  },
  {
   "cell_type": "markdown",
   "id": "326d9b9f",
   "metadata": {},
   "source": [
    "Is there a difference in fuel-efficiency in cars from 2008 vs 1999?\n"
   ]
  },
  {
   "cell_type": "code",
   "execution_count": 87,
   "id": "d6d57891",
   "metadata": {},
   "outputs": [
    {
     "data": {
      "text/html": [
       "<div>\n",
       "<style scoped>\n",
       "    .dataframe tbody tr th:only-of-type {\n",
       "        vertical-align: middle;\n",
       "    }\n",
       "\n",
       "    .dataframe tbody tr th {\n",
       "        vertical-align: top;\n",
       "    }\n",
       "\n",
       "    .dataframe thead th {\n",
       "        text-align: right;\n",
       "    }\n",
       "</style>\n",
       "<table border=\"1\" class=\"dataframe\">\n",
       "  <thead>\n",
       "    <tr style=\"text-align: right;\">\n",
       "      <th></th>\n",
       "      <th>manufacturer</th>\n",
       "      <th>model</th>\n",
       "      <th>displ</th>\n",
       "      <th>year</th>\n",
       "      <th>cyl</th>\n",
       "      <th>trans</th>\n",
       "      <th>drv</th>\n",
       "      <th>cty</th>\n",
       "      <th>hwy</th>\n",
       "      <th>fl</th>\n",
       "      <th>class</th>\n",
       "      <th>total_miles</th>\n",
       "    </tr>\n",
       "  </thead>\n",
       "  <tbody>\n",
       "    <tr>\n",
       "      <th>1</th>\n",
       "      <td>audi</td>\n",
       "      <td>a4</td>\n",
       "      <td>1.8</td>\n",
       "      <td>1999</td>\n",
       "      <td>4</td>\n",
       "      <td>auto(l5)</td>\n",
       "      <td>f</td>\n",
       "      <td>18</td>\n",
       "      <td>29</td>\n",
       "      <td>p</td>\n",
       "      <td>compact</td>\n",
       "      <td>47</td>\n",
       "    </tr>\n",
       "    <tr>\n",
       "      <th>2</th>\n",
       "      <td>audi</td>\n",
       "      <td>a4</td>\n",
       "      <td>1.8</td>\n",
       "      <td>1999</td>\n",
       "      <td>4</td>\n",
       "      <td>manual(m5)</td>\n",
       "      <td>f</td>\n",
       "      <td>21</td>\n",
       "      <td>29</td>\n",
       "      <td>p</td>\n",
       "      <td>compact</td>\n",
       "      <td>50</td>\n",
       "    </tr>\n",
       "    <tr>\n",
       "      <th>3</th>\n",
       "      <td>audi</td>\n",
       "      <td>a4</td>\n",
       "      <td>2.0</td>\n",
       "      <td>2008</td>\n",
       "      <td>4</td>\n",
       "      <td>manual(m6)</td>\n",
       "      <td>f</td>\n",
       "      <td>20</td>\n",
       "      <td>31</td>\n",
       "      <td>p</td>\n",
       "      <td>compact</td>\n",
       "      <td>51</td>\n",
       "    </tr>\n",
       "  </tbody>\n",
       "</table>\n",
       "</div>"
      ],
      "text/plain": [
       "  manufacturer model  displ  year  cyl       trans drv  cty  hwy fl    class  \\\n",
       "1         audi    a4    1.8  1999    4    auto(l5)   f   18   29  p  compact   \n",
       "2         audi    a4    1.8  1999    4  manual(m5)   f   21   29  p  compact   \n",
       "3         audi    a4    2.0  2008    4  manual(m6)   f   20   31  p  compact   \n",
       "\n",
       "   total_miles  \n",
       "1           47  \n",
       "2           50  \n",
       "3           51  "
      ]
     },
     "execution_count": 87,
     "metadata": {},
     "output_type": "execute_result"
    }
   ],
   "source": [
    "mpg[\"total_miles\"] = mpg[\"cty\"] + mpg[\"hwy\"]\n",
    "mpg.head(3)"
   ]
  },
  {
   "cell_type": "markdown",
   "id": "1e5d5cc4",
   "metadata": {},
   "source": [
    "**Step 1**"
   ]
  },
  {
   "cell_type": "code",
   "execution_count": 88,
   "id": "fc29b94d",
   "metadata": {},
   "outputs": [
    {
     "data": {
      "text/plain": [
       "(array([ 1.,  2.,  3., 15., 17., 19., 27., 22.,  6.,  5.]),\n",
       " array([ 9.43496721, 14.94102051, 20.44707381, 25.95312711, 31.45918041,\n",
       "        36.96523371, 42.47128701, 47.97734031, 53.48339361, 58.98944691,\n",
       "        64.49550021]),\n",
       " <BarContainer object of 10 artists>)"
      ]
     },
     "execution_count": 88,
     "metadata": {},
     "output_type": "execute_result"
    },
    {
     "data": {
      "image/png": "[encoded data removed]",
      "text/plain": [
       "<Figure size 400x200 with 1 Axes>"
      ]
     },
     "metadata": {},
     "output_type": "display_data"
    }
   ],
   "source": [
    "# retreive only the total miles column\n",
    "cars1 = mpg[mpg[\"year\"] == 2008].total_miles\n",
    "\n",
    "# get mean and standard deviation to create the normal distribution\n",
    "cars1_mean, cars1_std = cars1.mean(), cars1.std()\n",
    "\n",
    "# get normal distribution\n",
    "cars1_dristribution = stats.norm(cars1_mean, cars1_std)\n",
    "cars1_sample_dristribution = cars1_dristribution.rvs(len(cars1))\n",
    "\n",
    "# visual\n",
    "plt.figure(figsize=(4,2))\n",
    "plt.hist(cars1_sample_dristribution)"
   ]
  },
  {
   "cell_type": "code",
   "execution_count": 89,
   "id": "e79e27aa",
   "metadata": {
    "scrolled": true
   },
   "outputs": [
    {
     "data": {
      "text/plain": [
       "(array([ 2.,  5.,  8., 24., 14., 26., 16., 10., 10.,  2.]),\n",
       " array([16.80129264, 21.32347593, 25.84565922, 30.36784251, 34.8900258 ,\n",
       "        39.41220909, 43.93439239, 48.45657568, 52.97875897, 57.50094226,\n",
       "        62.02312555]),\n",
       " <BarContainer object of 10 artists>)"
      ]
     },
     "execution_count": 89,
     "metadata": {},
     "output_type": "execute_result"
    },
    {
     "data": {
      "image/png": "[encoded data removed]",
      "text/plain": [
       "<Figure size 400x200 with 1 Axes>"
      ]
     },
     "metadata": {},
     "output_type": "display_data"
    }
   ],
   "source": [
    "cars2 = mpg[mpg[\"year\"] == 1999].total_miles\n",
    "\n",
    "# get mean and standard deviation to create the normal distribution\n",
    "cars2_mean, cars2_std = cars2.mean(), cars2.std()\n",
    "\n",
    "# get normal distribution\n",
    "cars2_dristribution = stats.norm(cars2_mean, cars2_std)\n",
    "cars2_sample_dristribution = cars2_dristribution.rvs(len(cars2))\n",
    "\n",
    "# visual\n",
    "plt.figure(figsize=(4,2))\n",
    "plt.hist(cars2_sample_dristribution)"
   ]
  },
  {
   "cell_type": "markdown",
   "id": "5efebe2b",
   "metadata": {},
   "source": [
    "**Step 2**"
   ]
  },
  {
   "cell_type": "code",
   "execution_count": 91,
   "id": "afb47a24",
   "metadata": {},
   "outputs": [
    {
     "data": {
      "text/plain": [
       "(40.15384615384615, 40.44444444444444)"
      ]
     },
     "execution_count": 91,
     "metadata": {},
     "output_type": "execute_result"
    }
   ],
   "source": [
    "# look at there mean\n",
    "cars1_dristribution.mean(), cars2_dristribution.mean()"
   ]
  },
  {
   "cell_type": "markdown",
   "id": "a64db72d",
   "metadata": {},
   "source": [
    "I will decide my null hypothesis bases on the distributions and the mean.\n",
    "- Null Hypothesis: Their is no significant difference in flue efficiency between 2008 cars and 1999 cars.\n",
    "- Alternate Hypothesis: Their is a significant difference in flue efficiency between 2008 cars and 1999 cars.\n",
    "\n",
    "**Step 3: Set Significant level**\n",
    "- 0.05 for 95% accuracy"
   ]
  },
  {
   "cell_type": "code",
   "execution_count": 93,
   "id": "f426fd13",
   "metadata": {},
   "outputs": [],
   "source": [
    "Alpha = 0.05"
   ]
  },
  {
   "cell_type": "markdown",
   "id": "c8653934",
   "metadata": {},
   "source": [
    "**Step 4: Verify Assumptions**\n",
    "- Normal Distribution, or at least 30 observations and \"kinda\" normal. The more observations you have, the less \"normal\" it needs to appear. (CLT)\n",
    "\n",
    "**Step 5: Compute test statistic and probability (t-statistic & p-value) using**"
   ]
  },
  {
   "cell_type": "code",
   "execution_count": 94,
   "id": "47720045",
   "metadata": {},
   "outputs": [
    {
     "data": {
      "text/plain": [
       "(1.0386407588243165, 0.30919938727511365)"
      ]
     },
     "execution_count": 94,
     "metadata": {},
     "output_type": "execute_result"
    }
   ],
   "source": [
    "# impliment the two sample T-Test for our example\n",
    "# Equal Variances (the scipy methods we will use has an argument to handle when variances aren't equal).\n",
    "\n",
    "t_stats,p_value = stats.levene(cars1_sample_dristribution,cars2_sample_dristribution)\n",
    "t_stats,p_value"
   ]
  },
  {
   "cell_type": "markdown",
   "id": "e322ebef",
   "metadata": {},
   "source": [
    "With my `p_value` being greater the the `Alpha`, It shows that the **varience are equal** in the two groups.\n",
    "\n",
    "**Decide**"
   ]
  },
  {
   "cell_type": "code",
   "execution_count": 95,
   "id": "dd6afdb7",
   "metadata": {},
   "outputs": [
    {
     "name": "stdout",
     "output_type": "stream",
     "text": [
      "we fail to reject the null hypothesis\n"
     ]
    }
   ],
   "source": [
    "if (t_stats > 0) and (p_value < Alpha):\n",
    "    print('We can reject the null hypothesis')\n",
    "else:\n",
    "    print('we fail to reject the null hypothesis')"
   ]
  },
  {
   "cell_type": "markdown",
   "id": "e4212f60",
   "metadata": {},
   "source": [
    "b. Are compact cars more fuel-efficient than the average car?"
   ]
  },
  {
   "cell_type": "code",
   "execution_count": null,
   "id": "bc8485af",
   "metadata": {},
   "outputs": [],
   "source": []
  },
  {
   "cell_type": "code",
   "execution_count": null,
   "id": "a61ba573",
   "metadata": {},
   "outputs": [],
   "source": []
  },
  {
   "cell_type": "code",
   "execution_count": null,
   "id": "6bc12895",
   "metadata": {},
   "outputs": [],
   "source": []
  },
  {
   "cell_type": "code",
   "execution_count": null,
   "id": "a779dd7b",
   "metadata": {},
   "outputs": [],
   "source": []
  }
 ],
 "metadata": {
  "kernelspec": {
   "display_name": "Python 3 (ipykernel)",
   "language": "python",
   "name": "python3"
  },
  "language_info": {
   "codemirror_mode": {
    "name": "ipython",
    "version": 3
   },
   "file_extension": ".py",
   "mimetype": "text/x-python",
   "name": "python",
   "nbconvert_exporter": "python",
   "pygments_lexer": "ipython3",
   "version": "3.10.9"
  }
 },
 "nbformat": 4,
 "nbformat_minor": 5
}

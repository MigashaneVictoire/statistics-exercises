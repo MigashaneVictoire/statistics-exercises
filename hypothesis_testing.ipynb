{
 "cells": [
  {
   "cell_type": "markdown",
   "id": "86112427",
   "metadata": {},
   "source": [
    "# Hypothesis Testing (Compairing the mean)\n",
    "\n",
    "For each of the following questions, formulate a null and alternative hypothesis (be as specific as you can be), then give an example of what a true positive, true negative, type I and type II errors would look like. Note that some of the questions are intentionally phrased in a vague way. It is your job to reword these as more precise questions that could be tested.\n",
    "\n",
    "1. Has the network latency gone up since we switched internet service providers?\n",
    "\n",
    "    - Null Hyp: New network lantency is > old network latency\n",
    "    - Alt Hyp: New network lantency <= old network lantency\n",
    "    \n",
    "        - True positive: Trial result  identify that new network lantency is increased (becoming greater that old network lantency), and result match initial Hypothesis.\n",
    "\n",
    "        - True negative: Trial result  identify that new network lantency is increased (becoming greater that old network lantency), and result don't match initial Hypothesis.\n",
    "\n",
    "        - False negative: Trial result  identify that new network lantency is decreased (becoming less that old network lantency), and result don't match initial Hypothesis.\n",
    "        - False positive: Trial result  identify that new network lantency is decreased (becoming less that old network lantency), and result match initial Hypothesis"
   ]
  },
  {
   "cell_type": "markdown",
   "id": "1bd753c3",
   "metadata": {},
   "source": [
    "2. Is the website redesign any good?\n",
    "    - Null Hyp: Website redesign is > old website design.\n",
    "    - Alt Hyp: Website redesign is <= old website design\n",
    "        - True positive: Trial result identify website redesign is better (being better than old website design) and match the initial hypothesis.\n",
    "        - True negative: Trial result identify website redesign is better (being better than old website design) and don't match the initial hypothesis.\n",
    "        - False positive: Trial result identify website redesign is worst (being less than than old website design) and match the initial hypothesis.\n",
    "        - False negative: Trial result identify website redesign is worst (being less than than old website design) and don't match the initial hypothesis."
   ]
  },
  {
   "cell_type": "markdown",
   "id": "2bff6640",
   "metadata": {},
   "source": [
    "### Tests\n",
    "_______________________________________________________________________\n",
    "\n",
    "|Goal|$H_{0}$|Data Needed|Parametric Test|Assumptions*|Non-parametric Test|  \n",
    "|---|---|---|---|---|---|  \n",
    "|Compare observed mean to theoretical one|$\\mu_{obs} = \\mu_{th}$|array-like of observed values & float of theoretical|One sample t-test: **scipy.stats.ttest_1samp**|Normally Distributed\\*\\*|One sample Wilcoxon signed rank test|   \n",
    "|Compare two observed means (independent samples)|$\\mu_{a} = \\mu_{b}$|2 array-like samples|Independent t-test (or 2-sample): **scipy.stats.ttest_ind**|Independent, Normally Distributed\\*\\*, Equal Variances\\*\\*\\*|Mann-Whitney's test|   \n",
    "|Compare several observed means (independent samples)|$\\mu_{a} = \\mu_{b} = \\mu_{n}$|n array-like samples|ANOVA: **scipy.stats.f_oneway**|Independent, Normally Distributed\\*\\*, Equal Variances|Kruskal-Wallis test|   \n",
    "\n",
    "\\*If assumptions can't be met, the equivalent non-parametric test can be used.   \n",
    "\\*\\*Normal Distribution assumption can be be met by having a large enough sample (due to Central Limit Theorem), or the data can be scaled using a Gaussian Scalar.   \n",
    "\\*\\*\\*The argument in the stats.ttest_ind() method of `equal_var` can be set to `False` to accomodate this assumption. "
   ]
  },
  {
   "cell_type": "code",
   "execution_count": 80,
   "id": "36361c67",
   "metadata": {},
   "outputs": [],
   "source": [
    "import numpy as np\n",
    "import pandas as pd\n",
    "import matplotlib.pyplot as plt\n",
    "from scipy import stats\n",
    "import seaborn as sns\n",
    "import env\n",
    "import pydataset as datasets\n",
    "import datetime\n",
    "\n",
    "np.random.seed(234)"
   ]
  },
  {
   "cell_type": "markdown",
   "id": "d5bd1b63",
   "metadata": {},
   "source": [
    "1. Answer with the type of test you would use (assume normal distribution):\n",
    "\n",
    "- Is there a difference in grades of students on the second floor compared to grades of all students?\n",
    "    - Since I am comparing **one** observed mean to a theoretical mean (mean of all the data), I need to use the **`One Sample T-Test`**.\n",
    "- Are adults who drink milk taller than adults who dont drink milk?\n",
    "    - Because I am comparing **two** observed means (independent samples), I will use the **`Two Sample T-Test`** or the ***`Independent T-Test`*.\n",
    "- Is the the price of gas higher in texas or in new mexico?\n",
    "    - Because I am comparing **two** observed means (independent samples), I will use the **`Two Sample T-Test`** or the ***`Independent T-Test`*.\n",
    "- Are there differences in stress levels between students who take data science vs students who take web development vs students who take cloud academy?\n",
    "    - Because I am comparing **Three** observed means (independent samples), I will use the **`ANOVA Analysis of Varience`**."
   ]
  },
  {
   "cell_type": "markdown",
   "id": "4d0f1ff4",
   "metadata": {},
   "source": [
    "2. Ace Realty wants to determine whether the average time it takes to sell homes is different for its two offices. A sample of 40 sales from office #1 revealed a mean of 90 days and a standard deviation of 15 days. A sample of 50 sales from office #2 revealed a mean of 100 days and a standard deviation of 20 days. Use a .05 level of significance."
   ]
  },
  {
   "cell_type": "code",
   "execution_count": 2,
   "id": "08cd953e",
   "metadata": {},
   "outputs": [],
   "source": [
    "# smaple number 1\n",
    "sales1 =40\n",
    "sales1_mean = 90\n",
    "sales1_std = 15\n",
    "\n",
    "# smape number 2\n",
    "sales2 =50\n",
    "sales2_mean = 100\n",
    "sales2_std = 20"
   ]
  },
  {
   "cell_type": "markdown",
   "id": "a164a566",
   "metadata": {},
   "source": [
    "Question: whether the average time it takes to sell homes is different for its two offices.\n",
    "\n",
    "**Step 1: Plot the distributions**"
   ]
  },
  {
   "cell_type": "code",
   "execution_count": 3,
   "id": "148052a2",
   "metadata": {},
   "outputs": [
    {
     "data": {
      "text/plain": [
       "(array([1., 0., 1., 2., 5., 6., 7., 6., 8., 4.]),\n",
       " array([ 43.06673037,  50.27703574,  57.48734112,  64.69764649,\n",
       "         71.90795187,  79.11825724,  86.32856262,  93.53886799,\n",
       "        100.74917337, 107.95947874, 115.16978412]),\n",
       " <BarContainer object of 10 artists>)"
      ]
     },
     "execution_count": 3,
     "metadata": {},
     "output_type": "execute_result"
    },
    {
     "data": {
      "image/png": "[encoded data removed]",
      "text/plain": [
       "<Figure size 400x200 with 1 Axes>"
      ]
     },
     "metadata": {},
     "output_type": "display_data"
    }
   ],
   "source": [
    "sales1_distribution = stats.norm(sales1_mean, sales1_std)\n",
    "sales1_sample_distribution = sales1_distribution.rvs(sales1)\n",
    "\n",
    "plt.figure(figsize=(4,2))\n",
    "plt.hist(sales1_sample_distribution)"
   ]
  },
  {
   "cell_type": "code",
   "execution_count": 4,
   "id": "78995215",
   "metadata": {},
   "outputs": [
    {
     "data": {
      "text/plain": [
       "(array([1., 3., 5., 8., 6., 8., 8., 7., 1., 3.]),\n",
       " array([ 56.58325885,  65.88359227,  75.1839257 ,  84.48425913,\n",
       "         93.78459255, 103.08492598, 112.38525941, 121.68559283,\n",
       "        130.98592626, 140.28625969, 149.58659311]),\n",
       " <BarContainer object of 10 artists>)"
      ]
     },
     "execution_count": 4,
     "metadata": {},
     "output_type": "execute_result"
    },
    {
     "data": {
      "image/png": "[encoded data removed]",
      "text/plain": [
       "<Figure size 400x200 with 1 Axes>"
      ]
     },
     "metadata": {},
     "output_type": "display_data"
    }
   ],
   "source": [
    "sales2_distribution = stats.norm(sales2_mean, sales2_std)\n",
    "sales2_sample_distribution = sales2_distribution.rvs(sales2)\n",
    "\n",
    "plt.figure(figsize=(4,2))\n",
    "plt.hist(sales2_sample_distribution)"
   ]
  },
  {
   "cell_type": "markdown",
   "id": "14e80e88",
   "metadata": {},
   "source": [
    "**Step 2: Estabish Hypothesis**"
   ]
  },
  {
   "cell_type": "code",
   "execution_count": 5,
   "id": "56fb6221",
   "metadata": {},
   "outputs": [
    {
     "data": {
      "text/plain": [
       "(90.0, 100.0)"
      ]
     },
     "execution_count": 5,
     "metadata": {},
     "output_type": "execute_result"
    }
   ],
   "source": [
    "# look at there mean\n",
    "sales1_distribution.mean(), sales2_distribution.mean()"
   ]
  },
  {
   "cell_type": "code",
   "execution_count": 6,
   "id": "8b172a13",
   "metadata": {},
   "outputs": [
    {
     "data": {
      "text/plain": [
       "(225.0, 400.0)"
      ]
     },
     "execution_count": 6,
     "metadata": {},
     "output_type": "execute_result"
    }
   ],
   "source": [
    "# look at there mean\n",
    "sales1_distribution.var(), sales2_distribution.var()"
   ]
  },
  {
   "cell_type": "markdown",
   "id": "e9b43244",
   "metadata": {},
   "source": [
    "I will decide my null hypothesis bases on the initial question.\n",
    "- Null Hypothesis: The average time it takes to sell office one = the average time it takes to sell office 2\n",
    "- Alternate Hypothesis: The average time it takes to sell office one != the average time it takes to sell office 2\n",
    "\n",
    "**Step 3: Set Significant level**\n",
    "- 0.05 for 95% accuracy"
   ]
  },
  {
   "cell_type": "code",
   "execution_count": 7,
   "id": "f80dcbb7",
   "metadata": {},
   "outputs": [],
   "source": [
    "Alpha = 0.05"
   ]
  },
  {
   "cell_type": "markdown",
   "id": "91a5f6dd",
   "metadata": {},
   "source": [
    "**Step 4: Verify Assumptions**\n",
    "- Normal Distribution, or at least 30 observations and \"kinda\" normal. The more observations you have, the less \"normal\" it needs to appear. (CLT)\n",
    "\n",
    "**Step 5: Compute test statistic and probability (t-statistic & p-value) using**"
   ]
  },
  {
   "cell_type": "code",
   "execution_count": 8,
   "id": "c7c9375c",
   "metadata": {},
   "outputs": [
    {
     "data": {
      "text/plain": [
       "(4.4571955612322975, 0.03759047278621146)"
      ]
     },
     "execution_count": 8,
     "metadata": {},
     "output_type": "execute_result"
    }
   ],
   "source": [
    "# To identify if varience is equal or not equal we run the levene function\n",
    "# stats Levene test - returns p value. small p-value means unequal variances\n",
    "\n",
    "t_stats,p_value = stats.levene(sales1_sample_distribution,sales2_sample_distribution)\n",
    "t_stats,p_value"
   ]
  },
  {
   "cell_type": "markdown",
   "id": "bb152efe",
   "metadata": {},
   "source": [
    "With my `p_value` being greater the the `Alpha`, It shows that the **varience are equal** in the two groups.\n",
    "\n",
    "Now let plog it in the independent sample t-test."
   ]
  },
  {
   "cell_type": "code",
   "execution_count": 37,
   "id": "ed11e667",
   "metadata": {},
   "outputs": [
    {
     "data": {
      "text/plain": [
       "0.0008355672309800466"
      ]
     },
     "execution_count": 37,
     "metadata": {},
     "output_type": "execute_result"
    }
   ],
   "source": [
    "# impliment the two sample T-Test for our example\n",
    "# Equal Variances (the scipy methods we will use has an argument to handle when variances aren't equal).\n",
    "\n",
    "Final_t_stats,Final_p_value = stats.ttest_ind(sales1_sample_distribution,sales2_sample_distribution, equal_var=True)\n",
    "Final_p_value"
   ]
  },
  {
   "cell_type": "markdown",
   "id": "34f6615b",
   "metadata": {},
   "source": [
    "**Decide**"
   ]
  },
  {
   "cell_type": "code",
   "execution_count": 10,
   "id": "4b11b18a",
   "metadata": {},
   "outputs": [
    {
     "name": "stdout",
     "output_type": "stream",
     "text": [
      "We can reject the null hypothesis\n"
     ]
    }
   ],
   "source": [
    "if (t_stats > 0) and (Final_p_value < Alpha):\n",
    "    print('We can reject the null hypothesis')\n",
    "else:\n",
    "    print('we fail to reject the null hypothesis')"
   ]
  },
  {
   "cell_type": "markdown",
   "id": "3af1ec44",
   "metadata": {},
   "source": [
    "Becose the `Final_p_value` is less than the `Alpha` value, we can reject the hypothesis.\n",
    "\n",
    "**3. Load the mpg dataset and use it to answer the following questions:**"
   ]
  },
  {
   "cell_type": "code",
   "execution_count": 11,
   "id": "e01ed160",
   "metadata": {
    "scrolled": true
   },
   "outputs": [
    {
     "data": {
      "text/html": [
       "<div>\n",
       "<style scoped>\n",
       "    .dataframe tbody tr th:only-of-type {\n",
       "        vertical-align: middle;\n",
       "    }\n",
       "\n",
       "    .dataframe tbody tr th {\n",
       "        vertical-align: top;\n",
       "    }\n",
       "\n",
       "    .dataframe thead th {\n",
       "        text-align: right;\n",
       "    }\n",
       "</style>\n",
       "<table border=\"1\" class=\"dataframe\">\n",
       "  <thead>\n",
       "    <tr style=\"text-align: right;\">\n",
       "      <th></th>\n",
       "      <th>manufacturer</th>\n",
       "      <th>model</th>\n",
       "      <th>displ</th>\n",
       "      <th>year</th>\n",
       "      <th>cyl</th>\n",
       "      <th>trans</th>\n",
       "      <th>drv</th>\n",
       "      <th>cty</th>\n",
       "      <th>hwy</th>\n",
       "      <th>fl</th>\n",
       "      <th>class</th>\n",
       "    </tr>\n",
       "  </thead>\n",
       "  <tbody>\n",
       "    <tr>\n",
       "      <th>1</th>\n",
       "      <td>audi</td>\n",
       "      <td>a4</td>\n",
       "      <td>1.8</td>\n",
       "      <td>1999</td>\n",
       "      <td>4</td>\n",
       "      <td>auto(l5)</td>\n",
       "      <td>f</td>\n",
       "      <td>18</td>\n",
       "      <td>29</td>\n",
       "      <td>p</td>\n",
       "      <td>compact</td>\n",
       "    </tr>\n",
       "    <tr>\n",
       "      <th>2</th>\n",
       "      <td>audi</td>\n",
       "      <td>a4</td>\n",
       "      <td>1.8</td>\n",
       "      <td>1999</td>\n",
       "      <td>4</td>\n",
       "      <td>manual(m5)</td>\n",
       "      <td>f</td>\n",
       "      <td>21</td>\n",
       "      <td>29</td>\n",
       "      <td>p</td>\n",
       "      <td>compact</td>\n",
       "    </tr>\n",
       "    <tr>\n",
       "      <th>3</th>\n",
       "      <td>audi</td>\n",
       "      <td>a4</td>\n",
       "      <td>2.0</td>\n",
       "      <td>2008</td>\n",
       "      <td>4</td>\n",
       "      <td>manual(m6)</td>\n",
       "      <td>f</td>\n",
       "      <td>20</td>\n",
       "      <td>31</td>\n",
       "      <td>p</td>\n",
       "      <td>compact</td>\n",
       "    </tr>\n",
       "  </tbody>\n",
       "</table>\n",
       "</div>"
      ],
      "text/plain": [
       "  manufacturer model  displ  year  cyl       trans drv  cty  hwy fl    class\n",
       "1         audi    a4    1.8  1999    4    auto(l5)   f   18   29  p  compact\n",
       "2         audi    a4    1.8  1999    4  manual(m5)   f   21   29  p  compact\n",
       "3         audi    a4    2.0  2008    4  manual(m6)   f   20   31  p  compact"
      ]
     },
     "execution_count": 11,
     "metadata": {},
     "output_type": "execute_result"
    }
   ],
   "source": [
    "mpg = datasets.data(\"mpg\")\n",
    "mpg.head(3)"
   ]
  },
  {
   "cell_type": "markdown",
   "id": "7e679237",
   "metadata": {},
   "source": [
    "**a. Is there a difference in fuel-efficiency in cars from 2008 vs 1999?**\n",
    "\n",
    "Should I use arithmetic mean or harmonic mean for average mpg?\n",
    "- Arithmetic Mean: fe_am = (cty + hwy)/2\n",
    "- Harmonic Mean: fe_hm = 2/(1/cty + 1/hwy)\n",
    "\n",
    "We will use harmonic mean because it is more appropriate for taking the average of rates, such as miles per gallon."
   ]
  },
  {
   "cell_type": "code",
   "execution_count": 12,
   "id": "48c534a8",
   "metadata": {},
   "outputs": [
    {
     "data": {
      "text/html": [
       "<div>\n",
       "<style scoped>\n",
       "    .dataframe tbody tr th:only-of-type {\n",
       "        vertical-align: middle;\n",
       "    }\n",
       "\n",
       "    .dataframe tbody tr th {\n",
       "        vertical-align: top;\n",
       "    }\n",
       "\n",
       "    .dataframe thead th {\n",
       "        text-align: right;\n",
       "    }\n",
       "</style>\n",
       "<table border=\"1\" class=\"dataframe\">\n",
       "  <thead>\n",
       "    <tr style=\"text-align: right;\">\n",
       "      <th></th>\n",
       "      <th>manufacturer</th>\n",
       "      <th>model</th>\n",
       "      <th>displ</th>\n",
       "      <th>year</th>\n",
       "      <th>cyl</th>\n",
       "      <th>trans</th>\n",
       "      <th>drv</th>\n",
       "      <th>cty</th>\n",
       "      <th>hwy</th>\n",
       "      <th>fl</th>\n",
       "      <th>class</th>\n",
       "      <th>total_miles</th>\n",
       "    </tr>\n",
       "  </thead>\n",
       "  <tbody>\n",
       "    <tr>\n",
       "      <th>1</th>\n",
       "      <td>audi</td>\n",
       "      <td>a4</td>\n",
       "      <td>1.8</td>\n",
       "      <td>1999</td>\n",
       "      <td>4</td>\n",
       "      <td>auto(l5)</td>\n",
       "      <td>f</td>\n",
       "      <td>18</td>\n",
       "      <td>29</td>\n",
       "      <td>p</td>\n",
       "      <td>compact</td>\n",
       "      <td>36.034483</td>\n",
       "    </tr>\n",
       "    <tr>\n",
       "      <th>2</th>\n",
       "      <td>audi</td>\n",
       "      <td>a4</td>\n",
       "      <td>1.8</td>\n",
       "      <td>1999</td>\n",
       "      <td>4</td>\n",
       "      <td>manual(m5)</td>\n",
       "      <td>f</td>\n",
       "      <td>21</td>\n",
       "      <td>29</td>\n",
       "      <td>p</td>\n",
       "      <td>compact</td>\n",
       "      <td>42.034483</td>\n",
       "    </tr>\n",
       "    <tr>\n",
       "      <th>3</th>\n",
       "      <td>audi</td>\n",
       "      <td>a4</td>\n",
       "      <td>2.0</td>\n",
       "      <td>2008</td>\n",
       "      <td>4</td>\n",
       "      <td>manual(m6)</td>\n",
       "      <td>f</td>\n",
       "      <td>20</td>\n",
       "      <td>31</td>\n",
       "      <td>p</td>\n",
       "      <td>compact</td>\n",
       "      <td>40.032258</td>\n",
       "    </tr>\n",
       "  </tbody>\n",
       "</table>\n",
       "</div>"
      ],
      "text/plain": [
       "  manufacturer model  displ  year  cyl       trans drv  cty  hwy fl    class  \\\n",
       "1         audi    a4    1.8  1999    4    auto(l5)   f   18   29  p  compact   \n",
       "2         audi    a4    1.8  1999    4  manual(m5)   f   21   29  p  compact   \n",
       "3         audi    a4    2.0  2008    4  manual(m6)   f   20   31  p  compact   \n",
       "\n",
       "   total_miles  \n",
       "1    36.034483  \n",
       "2    42.034483  \n",
       "3    40.032258  "
      ]
     },
     "execution_count": 12,
     "metadata": {},
     "output_type": "execute_result"
    }
   ],
   "source": [
    "mpg[\"total_miles\"] = 2/(1/mpg[\"cty\"]) + (1/mpg[\"hwy\"])\n",
    "mpg.head(3)"
   ]
  },
  {
   "cell_type": "markdown",
   "id": "4ccdea78",
   "metadata": {},
   "source": [
    "**Step 1: Plot the distributions**"
   ]
  },
  {
   "cell_type": "code",
   "execution_count": 13,
   "id": "01df13b6",
   "metadata": {},
   "outputs": [
    {
     "data": {
      "text/plain": [
       "(array([ 2.,  5.,  6., 17., 18., 25., 19., 10.,  9.,  6.]),\n",
       " array([14.05306986, 17.67071963, 21.2883694 , 24.90601918, 28.52366895,\n",
       "        32.14131873, 35.7589685 , 39.37661827, 42.99426805, 46.61191782,\n",
       "        50.2295676 ]),\n",
       " <BarContainer object of 10 artists>)"
      ]
     },
     "execution_count": 13,
     "metadata": {},
     "output_type": "execute_result"
    },
    {
     "data": {
      "image/png": "[encoded data removed]",
      "text/plain": [
       "<Figure size 400x200 with 1 Axes>"
      ]
     },
     "metadata": {},
     "output_type": "display_data"
    }
   ],
   "source": [
    "# retreive only the total miles column\n",
    "cars1 = mpg[mpg[\"year\"] == 2008].total_miles\n",
    "\n",
    "# get mean and standard deviation to create the normal distribution\n",
    "cars1_mean, cars1_std = cars1.mean(), cars1.std()\n",
    "\n",
    "# get normal distribution\n",
    "cars1_dristribution = stats.norm(cars1_mean, cars1_std)\n",
    "cars1_sample_dristribution = cars1_dristribution.rvs(len(cars1))\n",
    "\n",
    "# visual\n",
    "plt.figure(figsize=(4,2))\n",
    "plt.hist(cars1_sample_dristribution)"
   ]
  },
  {
   "cell_type": "code",
   "execution_count": 14,
   "id": "98b69018",
   "metadata": {
    "scrolled": true
   },
   "outputs": [
    {
     "data": {
      "text/plain": [
       "(array([ 5., 14., 18., 23., 24., 19.,  9.,  4.,  0.,  1.]),\n",
       " array([14.19901379, 19.18439997, 24.16978615, 29.15517234, 34.14055852,\n",
       "        39.12594471, 44.11133089, 49.09671707, 54.08210326, 59.06748944,\n",
       "        64.05287562]),\n",
       " <BarContainer object of 10 artists>)"
      ]
     },
     "execution_count": 14,
     "metadata": {},
     "output_type": "execute_result"
    },
    {
     "data": {
      "image/png": "[encoded data removed]",
      "text/plain": [
       "<Figure size 400x200 with 1 Axes>"
      ]
     },
     "metadata": {},
     "output_type": "display_data"
    }
   ],
   "source": [
    "cars2 = mpg[mpg[\"year\"] == 1999].total_miles\n",
    "\n",
    "# get mean and standard deviation to create the normal distribution\n",
    "cars2_mean, cars2_std = cars2.mean(), cars2.std()\n",
    "\n",
    "# get normal distribution\n",
    "cars2_dristribution = stats.norm(cars2_mean, cars2_std)\n",
    "cars2_sample_dristribution = cars2_dristribution.rvs(len(cars2))\n",
    "\n",
    "# visual\n",
    "plt.figure(figsize=(4,2))\n",
    "plt.hist(cars2_sample_dristribution)"
   ]
  },
  {
   "cell_type": "markdown",
   "id": "1806afd6",
   "metadata": {},
   "source": [
    "**Step 2: Estabish Hypothesis**"
   ]
  },
  {
   "cell_type": "code",
   "execution_count": 15,
   "id": "b1754bc3",
   "metadata": {},
   "outputs": [
    {
     "data": {
      "text/plain": [
       "(33.447403709944105, 34.07975916744293)"
      ]
     },
     "execution_count": 15,
     "metadata": {},
     "output_type": "execute_result"
    }
   ],
   "source": [
    "# look at there mean\n",
    "cars1_dristribution.mean(), cars2_dristribution.mean()"
   ]
  },
  {
   "cell_type": "code",
   "execution_count": 16,
   "id": "10a17dc8",
   "metadata": {},
   "outputs": [
    {
     "data": {
      "text/plain": [
       "(225.0, 400.0)"
      ]
     },
     "execution_count": 16,
     "metadata": {},
     "output_type": "execute_result"
    }
   ],
   "source": [
    "# look at there varience\n",
    "sales1_distribution.var(), sales2_distribution.var()"
   ]
  },
  {
   "cell_type": "markdown",
   "id": "f0705011",
   "metadata": {},
   "source": [
    "I will decide my null hypothesis bases on the initial question.\n",
    "- Null Hypothesis: Their is no significant difference in flue efficiency between 2008 cars and 1999 cars.\n",
    "- Alternate Hypothesis: Their is a significant difference in flue efficiency between 2008 cars and 1999 cars.\n",
    "\n",
    "**Step 3: Set Significant level**\n",
    "- 0.05 for 95% accuracy"
   ]
  },
  {
   "cell_type": "code",
   "execution_count": 17,
   "id": "f4a8f145",
   "metadata": {},
   "outputs": [],
   "source": [
    "Alpha = 0.05"
   ]
  },
  {
   "cell_type": "markdown",
   "id": "67be15d0",
   "metadata": {},
   "source": [
    "**Step 4: Verify Assumptions**\n",
    "- Normal Distribution, or at least 30 observations and \"kinda\" normal. The more observations you have, the less \"normal\" it needs to appear. (CLT)\n",
    "\n",
    "**Step 5: Compute test statistic and probability (t-statistic & p-value) using**"
   ]
  },
  {
   "cell_type": "code",
   "execution_count": 18,
   "id": "59f6ec36",
   "metadata": {},
   "outputs": [
    {
     "data": {
      "text/plain": [
       "(3.0734051844373464, 0.08090336863534618)"
      ]
     },
     "execution_count": 18,
     "metadata": {},
     "output_type": "execute_result"
    }
   ],
   "source": [
    "# To identify if varience is equal or not equal we run the levene function\n",
    "# stats Levene test - returns p value. small p-value means unequal variances\n",
    "t_stats,p_value = stats.levene(cars1_sample_dristribution,cars2_sample_dristribution)\n",
    "t_stats,p_value"
   ]
  },
  {
   "cell_type": "markdown",
   "id": "15c8e32d",
   "metadata": {},
   "source": [
    "With my `p_value` being greater the the `Alpha`, It shows that the **varience are equal** in the two groups.\n",
    "\n",
    "Now let plog it in the independent sample t-test."
   ]
  },
  {
   "cell_type": "code",
   "execution_count": 19,
   "id": "777f11a3",
   "metadata": {},
   "outputs": [
    {
     "data": {
      "text/plain": [
       "0.08090336863534618"
      ]
     },
     "execution_count": 19,
     "metadata": {},
     "output_type": "execute_result"
    }
   ],
   "source": [
    "# impliment the two sample T-Test for our example\n",
    "# Equal Variances (the scipy methods we will use has an argument to handle when variances aren't equal).\n",
    "Final_t_stats,Final_p_value = stats.levene(cars1_sample_dristribution,cars2_sample_dristribution)\n",
    "Final_p_value"
   ]
  },
  {
   "cell_type": "markdown",
   "id": "6bbf3a8e",
   "metadata": {},
   "source": [
    "**Decide**"
   ]
  },
  {
   "cell_type": "code",
   "execution_count": 20,
   "id": "35b36a6f",
   "metadata": {},
   "outputs": [
    {
     "name": "stdout",
     "output_type": "stream",
     "text": [
      "we fail to reject the null hypothesis\n"
     ]
    }
   ],
   "source": [
    "if (t_stats > 0) and (Final_p_value < Alpha):\n",
    "    print('We can reject the null hypothesis')\n",
    "else:\n",
    "    print('we fail to reject the null hypothesis')"
   ]
  },
  {
   "cell_type": "markdown",
   "id": "5b02b966",
   "metadata": {},
   "source": [
    "Because the `Final_p_value` is greater than the `Alpha`, we fail to reject the null hypothesis\n",
    "\n",
    "**b. Are compact cars more fuel-efficient than the average car?**\n",
    "\n",
    "**Step 1: Plot the distributions**\n",
    "\n",
    "- Harmonic Mean: fe_hm = 2/(1/cty + 1/hwy) -> total_miles column\n",
    "\n",
    "We will use harmonic mean because it is more appropriate for taking the average of rates, such as miles per gallon."
   ]
  },
  {
   "cell_type": "code",
   "execution_count": 21,
   "id": "aa4e5ee9",
   "metadata": {},
   "outputs": [
    {
     "data": {
      "text/plain": [
       "(array([52.71354301, 30.23109526, 40.38561709, ..., 33.1172714 ,\n",
       "        45.4781431 , 42.70284579]),\n",
       " array([41.49879893, 33.70118096, 39.49688716, ..., 34.0572072 ,\n",
       "        41.46493525, 44.56000335]))"
      ]
     },
     "execution_count": 21,
     "metadata": {},
     "output_type": "execute_result"
    }
   ],
   "source": [
    "compact_cars = mpg[mpg[\"class\"] == \"compact\"].total_miles # get only compact cars\n",
    "all_cars = mpg[mpg[\"class\"] != \"compact\"].total_miles # full data with out compact cars\n",
    "\n",
    "# get mean and std for runing the distribution\n",
    "compact_cars_mean, compact_cars_std = compact_cars.mean(), compact_cars.std()\n",
    "all_cars_mean, all_cars_std = all_cars.mean(), all_cars.std()\n",
    "\n",
    "\n",
    "# get normal distribution\n",
    "compact_cars_distribution = stats.norm(compact_cars_mean,compact_cars_std)\n",
    "all_cars_distribution = stats.norm(all_cars_mean,all_cars_std)\n",
    "\n",
    "# get random values\n",
    "compact_cars_sample_distribution = compact_cars_distribution.rvs(100_000)\n",
    "all_cars_sample_distribution = compact_cars_distribution.rvs(100_000)\n",
    "\n",
    "compact_cars_sample_distribution, all_cars_sample_distribution"
   ]
  },
  {
   "cell_type": "code",
   "execution_count": 22,
   "id": "9abda90f",
   "metadata": {},
   "outputs": [
    {
     "data": {
      "text/plain": [
       "<matplotlib.legend.Legend at 0x14ee28190>"
      ]
     },
     "execution_count": 22,
     "metadata": {},
     "output_type": "execute_result"
    },
    {
     "data": {
      "image/png": "[encoded data removed]",
      "text/plain": [
       "<Figure size 500x300 with 1 Axes>"
      ]
     },
     "metadata": {},
     "output_type": "display_data"
    }
   ],
   "source": [
    "# set plot\n",
    "x = np.arange(len(compact_cars))\n",
    "y1 = compact_cars_distribution.pdf(x) # get density probability of compact cars\n",
    "y2 = all_cars_distribution.pdf(x)\n",
    "\n",
    "\n",
    "plt.figure(figsize=(5,3))\n",
    "plt.plot(x, y1, label = 'Compact Cars')\n",
    "plt.plot(x, y2, label = 'All Other Cars')\n",
    "plt.axvline(32, ls = ':')\n",
    "plt.axvline(40, ls = ':', color = 'orange')\n",
    "\n",
    "plt.legend()\n",
    "# plt.xlim(20,80)"
   ]
  },
  {
   "cell_type": "code",
   "execution_count": 23,
   "id": "5d2dffe8",
   "metadata": {},
   "outputs": [
    {
     "data": {
      "text/plain": [
       "(40.29117978849512, 32.12295511548135)"
      ]
     },
     "execution_count": 23,
     "metadata": {},
     "output_type": "execute_result"
    }
   ],
   "source": [
    "# look at there mean\n",
    "compact_cars.mean(), all_cars.mean()"
   ]
  },
  {
   "cell_type": "code",
   "execution_count": 24,
   "id": "cfcde787",
   "metadata": {},
   "outputs": [
    {
     "data": {
      "text/plain": [
       "(45.795652289800174, 65.72768133082012)"
      ]
     },
     "execution_count": 24,
     "metadata": {},
     "output_type": "execute_result"
    }
   ],
   "source": [
    "# look at there varience\n",
    "compact_cars.var(), all_cars.var()"
   ]
  },
  {
   "cell_type": "markdown",
   "id": "9453e251",
   "metadata": {},
   "source": [
    "**Step 2: Estabish Hypothesis**\n",
    "\n",
    "I will decide my null hypothesis bases on the initial question.\n",
    "- Null Hypothesis: Compact cars more fuel efficient than all other car class\n",
    "- Alternate Hypothesis: Compact cars more fuel efficient than all other car class\n",
    "\n",
    "**Step 3: Set Significant level**\n",
    "- 0.05 for 95% accuracy"
   ]
  },
  {
   "cell_type": "code",
   "execution_count": 25,
   "id": "2061df34",
   "metadata": {},
   "outputs": [],
   "source": [
    "Alpha = 0.05"
   ]
  },
  {
   "cell_type": "markdown",
   "id": "756c85c8",
   "metadata": {},
   "source": [
    "**Step 4: Verify Assumptions**\n",
    "- Normal Distribution, or at least 30 observations and \"kinda\" normal. The more observations you have, the less \"normal\" it needs to appear. (CLT)"
   ]
  },
  {
   "cell_type": "code",
   "execution_count": 26,
   "id": "e1073da8",
   "metadata": {},
   "outputs": [
    {
     "data": {
      "text/plain": [
       "47"
      ]
     },
     "execution_count": 26,
     "metadata": {},
     "output_type": "execute_result"
    }
   ],
   "source": [
    "len(compact_cars)"
   ]
  },
  {
   "cell_type": "markdown",
   "id": "973c72ff",
   "metadata": {},
   "source": [
    "**Step 5: Compute test statistic and probability (t-statistic & p-value) using**"
   ]
  },
  {
   "cell_type": "code",
   "execution_count": 27,
   "id": "01f1e5e8",
   "metadata": {},
   "outputs": [
    {
     "data": {
      "text/plain": [
       "0.08090336863534618"
      ]
     },
     "execution_count": 27,
     "metadata": {},
     "output_type": "execute_result"
    }
   ],
   "source": [
    "# impliment the one sample T-Test for our example\n",
    "# Equal Variances (the scipy methods we will use has an argument to handle when variances aren't equal).\n",
    "Final_t_stats,Final_p_value = stats.ttest_1samp(compact_cars, all_cars.mean())\n",
    "p_value"
   ]
  },
  {
   "cell_type": "markdown",
   "id": "cf0a195d",
   "metadata": {},
   "source": [
    "With my `p_value` being less the the `Alpha`, It shows that the **varience are not equal** in the two groups.\n",
    "\n",
    "**Decide**\n",
    "\n",
    "**Divide the p_value by 2 -> because we are looking at a sigle side question**"
   ]
  },
  {
   "cell_type": "code",
   "execution_count": 28,
   "id": "9894f3af",
   "metadata": {},
   "outputs": [
    {
     "name": "stdout",
     "output_type": "stream",
     "text": [
      "We can reject the null hypothesis\n"
     ]
    }
   ],
   "source": [
    "if (t_stats > 0) and ((Final_p_value/2) < Alpha):\n",
    "    print('We can reject the null hypothesis')\n",
    "else:\n",
    "    print('we fail to reject the null hypothesis')"
   ]
  },
  {
   "cell_type": "markdown",
   "id": "a14e22b4",
   "metadata": {},
   "source": [
    "Because the `Final_p_value` is Less than the `Alpha`, we can reject the null hypothesis\n",
    "\n",
    "**c. Do manual cars get better gas mileage than automatic cars?**\n",
    "\n",
    "**Step 1: Plot the distributions**"
   ]
  },
  {
   "cell_type": "code",
   "execution_count": 29,
   "id": "3fc55128",
   "metadata": {},
   "outputs": [],
   "source": [
    "# separate cars by transmission\n",
    "manual_cars = mpg[mpg.trans.str.contains(\"manu\")].total_miles\n",
    "automatic_cars = mpg[mpg.trans.str.contains(\"auto\")].total_miles\n",
    "\n",
    "# get mean and std\n",
    "manual_cars_mean, manual_cars_std = manual_cars.mean(), manual_cars.std()\n",
    "automatic_cars_mmean, automatic_cars_std = automatic_cars.mean(), automatic_cars.std()\n",
    "\n",
    "# create distribution\n",
    "manual_cars_distribution = stats.norm(manual_cars_mean, manual_cars_std)\n",
    "automatic_cars_distribution = stats.norm(automatic_cars_mmean, automatic_cars_std)\n",
    "\n",
    "# gemerate ramdom values\n",
    "manual_cars_sample_distribution = manual_cars_distribution.rvs(100_000)\n",
    "automatic_cars_sample_distribution = automatic_cars_distribution.rvs(100_000)"
   ]
  },
  {
   "cell_type": "code",
   "execution_count": 30,
   "id": "e11808d0",
   "metadata": {},
   "outputs": [
    {
     "data": {
      "text/plain": [
       "<matplotlib.legend.Legend at 0x14ee62110>"
      ]
     },
     "execution_count": 30,
     "metadata": {},
     "output_type": "execute_result"
    },
    {
     "data": {
      "image/png": "[encoded data removed]",
      "text/plain": [
       "<Figure size 600x300 with 1 Axes>"
      ]
     },
     "metadata": {},
     "output_type": "display_data"
    }
   ],
   "source": [
    "# set plot\n",
    "plt.figure(figsize=(6,3))\n",
    "plt.hist(manual_cars_sample_distribution, label= \"Manual_cars\")\n",
    "plt.hist(automatic_cars_sample_distribution, label= \"Automatic cars\", alpha=.7)\n",
    "\n",
    "plt.legend()\n",
    "# plt.xlim(20,80)"
   ]
  },
  {
   "cell_type": "code",
   "execution_count": 31,
   "id": "87a1ac33",
   "metadata": {},
   "outputs": [
    {
     "data": {
      "text/plain": [
       "(37.39176863387833, 31.984152049972298)"
      ]
     },
     "execution_count": 31,
     "metadata": {},
     "output_type": "execute_result"
    }
   ],
   "source": [
    "# look at there mean\n",
    "manual_cars.mean(), automatic_cars.mean()"
   ]
  },
  {
   "cell_type": "code",
   "execution_count": 32,
   "id": "8ec5a657",
   "metadata": {},
   "outputs": [
    {
     "data": {
      "text/plain": [
       "(80.40775958743583, 59.07832529096547)"
      ]
     },
     "execution_count": 32,
     "metadata": {},
     "output_type": "execute_result"
    }
   ],
   "source": [
    "# look at there varience\n",
    "manual_cars.var(), automatic_cars.var()"
   ]
  },
  {
   "cell_type": "markdown",
   "id": "ec2b81dc",
   "metadata": {},
   "source": [
    "**Step 2: Estabish Hypothesis**\n",
    "\n",
    "I will decide my null hypothesis bases on the initial question.\n",
    "- Null Hypothesis: Compact cars more fuel efficient than all other car class\n",
    "- Alternate Hypothesis: Compact cars more fuel efficient than all other car class\n",
    "\n",
    "**Step 3: Set Significant level**\n",
    "- 0.05 for 95% accuracy"
   ]
  },
  {
   "cell_type": "code",
   "execution_count": 33,
   "id": "d231bf7e",
   "metadata": {},
   "outputs": [],
   "source": [
    "Alpha = 0.05"
   ]
  },
  {
   "cell_type": "markdown",
   "id": "c453f25d",
   "metadata": {},
   "source": [
    "**Step 4: Verify Assumptions**\n",
    "- Normal Distribution, or at least 30 observations and \"kinda\" normal. The more observations you have, the less \"normal\" it needs to appear. (CLT)"
   ]
  },
  {
   "cell_type": "code",
   "execution_count": 34,
   "id": "8948b77e",
   "metadata": {
    "scrolled": true
   },
   "outputs": [
    {
     "data": {
      "text/plain": [
       "(77, 157)"
      ]
     },
     "execution_count": 34,
     "metadata": {},
     "output_type": "execute_result"
    }
   ],
   "source": [
    "len(manual_cars), len(automatic_cars)"
   ]
  },
  {
   "cell_type": "markdown",
   "id": "fe4bbb95",
   "metadata": {},
   "source": [
    "**Step 5: Compute test statistic and probability (t-statistic & p-value) using**"
   ]
  },
  {
   "cell_type": "code",
   "execution_count": 35,
   "id": "3bb4ab11",
   "metadata": {},
   "outputs": [
    {
     "data": {
      "text/plain": [
       "(2008.3605745315592, 0.0)"
      ]
     },
     "execution_count": 35,
     "metadata": {},
     "output_type": "execute_result"
    }
   ],
   "source": [
    "# To identify if varience is equal or not equal we run the levene function\n",
    "# stats Levene test - returns p value. small p-value means unequal variances\n",
    "t_stats,p_value = stats.levene(manual_cars_sample_distribution, automatic_cars_sample_distribution)\n",
    "t_stats,p_value"
   ]
  },
  {
   "cell_type": "markdown",
   "id": "a6170c6f",
   "metadata": {},
   "source": [
    "With my `p_value` being greater the the `Alpha`, It shows that the **varience are not equal** in the two groups.\n",
    "\n",
    "Now let plog it in the independent sample t-test."
   ]
  },
  {
   "cell_type": "code",
   "execution_count": 40,
   "id": "40262103",
   "metadata": {},
   "outputs": [
    {
     "data": {
      "text/plain": [
       "0.0"
      ]
     },
     "execution_count": 40,
     "metadata": {},
     "output_type": "execute_result"
    }
   ],
   "source": [
    "# impliment the one sample T-Test for our example\n",
    "# Equal Variances (the scipy methods we will use has an argument to handle when variances aren't equal).\n",
    "Final_t_stats,Final_p_value = stats.ttest_ind(manual_cars_sample_distribution, automatic_cars_sample_distribution, equal_var=True)\n",
    "p_value"
   ]
  },
  {
   "cell_type": "code",
   "execution_count": 41,
   "id": "8bdf3cdf",
   "metadata": {},
   "outputs": [
    {
     "name": "stdout",
     "output_type": "stream",
     "text": [
      "We can reject the null hypothesis\n"
     ]
    }
   ],
   "source": [
    "if (t_stats > 0) and (Final_p_value < Alpha):\n",
    "    print('We can reject the null hypothesis')\n",
    "else:\n",
    "    print('we fail to reject the null hypothesis')"
   ]
  },
  {
   "cell_type": "markdown",
   "id": "9c16aa9b",
   "metadata": {},
   "source": [
    "Because the `Final_p_value` is greater than the `Alpha`, we can reject the null hypothesis\n",
    "\n",
    "# Correlation\n",
    "\n",
    "1. Answer with the type of stats test you would use (assume normal distribution):\n",
    "- Is there a relationship between the length of your arm and the length of your foot?\n",
    "    - Pearson's R corolation\n",
    "- Do guys and gals quit their jobs at the same rate?\n",
    "    - Chi-Squred \n",
    "- Does the length of time of the lecture correlate with a students grade?\n",
    "    - pearson's R corolation beacause we have two conitniuos variables"
   ]
  },
  {
   "cell_type": "markdown",
   "id": "58f8df26",
   "metadata": {},
   "source": [
    "2. Use the telco_churn data.\n",
    "- Does tenure correlate with monthly charges?\n",
    "- Total charges?\n",
    "- What happens if you control for phone and internet service?"
   ]
  },
  {
   "cell_type": "code",
   "execution_count": 144,
   "id": "d00db993",
   "metadata": {
    "scrolled": true
   },
   "outputs": [
    {
     "data": {
      "text/html": [
       "<div>\n",
       "<style scoped>\n",
       "    .dataframe tbody tr th:only-of-type {\n",
       "        vertical-align: middle;\n",
       "    }\n",
       "\n",
       "    .dataframe tbody tr th {\n",
       "        vertical-align: top;\n",
       "    }\n",
       "\n",
       "    .dataframe thead th {\n",
       "        text-align: right;\n",
       "    }\n",
       "</style>\n",
       "<table border=\"1\" class=\"dataframe\">\n",
       "  <thead>\n",
       "    <tr style=\"text-align: right;\">\n",
       "      <th></th>\n",
       "      <th>tenure</th>\n",
       "      <th>Monthly_Charges</th>\n",
       "      <th>total_charges</th>\n",
       "      <th>internet_service_type_id</th>\n",
       "      <th>phone_service</th>\n",
       "    </tr>\n",
       "  </thead>\n",
       "  <tbody>\n",
       "    <tr>\n",
       "      <th>0</th>\n",
       "      <td>9</td>\n",
       "      <td>65.6</td>\n",
       "      <td>593.3</td>\n",
       "      <td>1</td>\n",
       "      <td>Yes</td>\n",
       "    </tr>\n",
       "    <tr>\n",
       "      <th>1</th>\n",
       "      <td>9</td>\n",
       "      <td>59.9</td>\n",
       "      <td>542.4</td>\n",
       "      <td>1</td>\n",
       "      <td>Yes</td>\n",
       "    </tr>\n",
       "    <tr>\n",
       "      <th>2</th>\n",
       "      <td>4</td>\n",
       "      <td>73.9</td>\n",
       "      <td>280.85</td>\n",
       "      <td>2</td>\n",
       "      <td>Yes</td>\n",
       "    </tr>\n",
       "    <tr>\n",
       "      <th>3</th>\n",
       "      <td>13</td>\n",
       "      <td>98.0</td>\n",
       "      <td>1237.85</td>\n",
       "      <td>2</td>\n",
       "      <td>Yes</td>\n",
       "    </tr>\n",
       "    <tr>\n",
       "      <th>4</th>\n",
       "      <td>3</td>\n",
       "      <td>83.9</td>\n",
       "      <td>267.4</td>\n",
       "      <td>2</td>\n",
       "      <td>Yes</td>\n",
       "    </tr>\n",
       "  </tbody>\n",
       "</table>\n",
       "</div>"
      ],
      "text/plain": [
       "   tenure  Monthly_Charges total_charges  internet_service_type_id  \\\n",
       "0       9             65.6         593.3                         1   \n",
       "1       9             59.9         542.4                         1   \n",
       "2       4             73.9        280.85                         2   \n",
       "3      13             98.0       1237.85                         2   \n",
       "4       3             83.9         267.4                         2   \n",
       "\n",
       "  phone_service  \n",
       "0           Yes  \n",
       "1           Yes  \n",
       "2           Yes  \n",
       "3           Yes  \n",
       "4           Yes  "
      ]
     },
     "execution_count": 144,
     "metadata": {},
     "output_type": "execute_result"
    }
   ],
   "source": [
    "query = \"\"\"\n",
    "SELECT tenure, Monthly_Charges, total_charges, internet_service_type_id,phone_service \n",
    "FROM customers;\n",
    "\"\"\"\n",
    "\n",
    "telco = pd.read_sql(query, env.get_db_access(\"telco_churn\"))\n",
    "telco.head()"
   ]
  },
  {
   "cell_type": "markdown",
   "id": "e71bde1d",
   "metadata": {},
   "source": [
    "### A and B\n",
    "\n",
    "**Step 1: Determin the appropriate test**\n",
    " - Because the question is looking for correlation (relationship + significance) between two variables, I will use the pearson's r test\n",
    "\n",
    "**Step 2: Setup**\n",
    "\n",
    "- Set null and alternate hypothesis and the alpha-values ().\n",
    "\n",
    "    **a**\n",
    "\n",
    "    - $H_0$: There is no correlation between tenure and monthy charges.\n",
    "    - $H_a$: There is a correlation between tenure and monthy charges.\n",
    "\n",
    "    **b**\n",
    "\n",
    "    - $H_0$: There is no correlation between tenure and total charges.\n",
    "    - $H_a$: There is correlation between tenure and total charges.\n"
   ]
  },
  {
   "cell_type": "code",
   "execution_count": 145,
   "id": "27663966",
   "metadata": {},
   "outputs": [],
   "source": [
    "# confidence level\n",
    "alpha = 0.05"
   ]
  },
  {
   "cell_type": "markdown",
   "id": "231212f0",
   "metadata": {},
   "source": [
    "**Step 3: Visualize**"
   ]
  },
  {
   "cell_type": "code",
   "execution_count": 146,
   "id": "973124b9",
   "metadata": {
    "scrolled": true
   },
   "outputs": [
    {
     "data": {
      "text/plain": [
       "<Axes: xlabel='Monthly_Charges', ylabel='tenure'>"
      ]
     },
     "execution_count": 146,
     "metadata": {},
     "output_type": "execute_result"
    },
    {
     "data": {
      "image/png": "[encoded data removed]",
      "text/plain": [
       "<Figure size 500x300 with 1 Axes>"
      ]
     },
     "metadata": {},
     "output_type": "display_data"
    }
   ],
   "source": [
    "monthly_charges = telco[\"Monthly_Charges\"]\n",
    "est_tenure = telco[\"tenure\"]\n",
    "\n",
    "plt.figure(figsize=(5,3))\n",
    "sns.scatterplot(x= monthly_charges, y= est_tenure)"
   ]
  },
  {
   "cell_type": "code",
   "execution_count": 147,
   "id": "265069ab",
   "metadata": {},
   "outputs": [
    {
     "data": {
      "text/plain": [
       "<Axes: xlabel='tenure', ylabel='total_charges'>"
      ]
     },
     "execution_count": 147,
     "metadata": {},
     "output_type": "execute_result"
    },
    {
     "data": {
      "image/png": "[encoded data removed]",
      "text/plain": [
       "<Figure size 500x300 with 1 Axes>"
      ]
     },
     "metadata": {},
     "output_type": "display_data"
    }
   ],
   "source": [
    "telco = telco[telco[\"total_charges\"] != \" \"]\n",
    "\n",
    "total_charges = telco.total_charges.astype(float)\n",
    "est_tenure = telco.tenure\n",
    "\n",
    "plt.figure(figsize=(5,3))\n",
    "sns.scatterplot(x= est_tenure, y= total_charges)"
   ]
  },
  {
   "cell_type": "markdown",
   "id": "ddaf7bee",
   "metadata": {},
   "source": [
    "**Step 4. Calculatate test statistics and p value**"
   ]
  },
  {
   "cell_type": "code",
   "execution_count": 148,
   "id": "cfde8cfe",
   "metadata": {
    "scrolled": true
   },
   "outputs": [
    {
     "ename": "ValueError",
     "evalue": "x and y must have the same length.",
     "output_type": "error",
     "traceback": [
      "\u001b[0;31m---------------------------------------------------------------------------\u001b[0m",
      "\u001b[0;31mValueError\u001b[0m                                Traceback (most recent call last)",
      "Cell \u001b[0;32mIn[148], line 1\u001b[0m\n\u001b[0;32m----> 1\u001b[0m question1_r, question1_p_value \u001b[38;5;241m=\u001b[39m \u001b[43mstats\u001b[49m\u001b[38;5;241;43m.\u001b[39;49m\u001b[43mpearsonr\u001b[49m\u001b[43m(\u001b[49m\u001b[43mmonthly_charges\u001b[49m\u001b[43m,\u001b[49m\u001b[43m \u001b[49m\u001b[43mest_tenure\u001b[49m\u001b[43m)\u001b[49m\n\u001b[1;32m      2\u001b[0m question1_r, question1_p_value\n",
      "File \u001b[0;32m/opt/homebrew/anaconda3/lib/python3.10/site-packages/scipy/stats/_stats_py.py:4408\u001b[0m, in \u001b[0;36mpearsonr\u001b[0;34m(x, y, alternative)\u001b[0m\n\u001b[1;32m   4406\u001b[0m n \u001b[38;5;241m=\u001b[39m \u001b[38;5;28mlen\u001b[39m(x)\n\u001b[1;32m   4407\u001b[0m \u001b[38;5;28;01mif\u001b[39;00m n \u001b[38;5;241m!=\u001b[39m \u001b[38;5;28mlen\u001b[39m(y):\n\u001b[0;32m-> 4408\u001b[0m     \u001b[38;5;28;01mraise\u001b[39;00m \u001b[38;5;167;01mValueError\u001b[39;00m(\u001b[38;5;124m'\u001b[39m\u001b[38;5;124mx and y must have the same length.\u001b[39m\u001b[38;5;124m'\u001b[39m)\n\u001b[1;32m   4410\u001b[0m \u001b[38;5;28;01mif\u001b[39;00m n \u001b[38;5;241m<\u001b[39m \u001b[38;5;241m2\u001b[39m:\n\u001b[1;32m   4411\u001b[0m     \u001b[38;5;28;01mraise\u001b[39;00m \u001b[38;5;167;01mValueError\u001b[39;00m(\u001b[38;5;124m'\u001b[39m\u001b[38;5;124mx and y must have length at least 2.\u001b[39m\u001b[38;5;124m'\u001b[39m)\n",
      "\u001b[0;31mValueError\u001b[0m: x and y must have the same length."
     ]
    }
   ],
   "source": [
    "question1_r, question1_p_value = stats.pearsonr(monthly_charges, est_tenure)\n",
    "question1_r, question1_p_value"
   ]
  },
  {
   "cell_type": "code",
   "execution_count": 141,
   "id": "6c5e167c",
   "metadata": {},
   "outputs": [
    {
     "data": {
      "text/plain": [
       "(0.8258804609332071, 0.0)"
      ]
     },
     "execution_count": 141,
     "metadata": {},
     "output_type": "execute_result"
    }
   ],
   "source": [
    "question2_r, question2_p_value = stats.pearsonr(total_charges, est_tenure)\n",
    "question2_r, question2_p_value"
   ]
  },
  {
   "cell_type": "markdown",
   "id": "414ab2ee",
   "metadata": {},
   "source": [
    "**Step 5: Conclude**"
   ]
  },
  {
   "cell_type": "code",
   "execution_count": 50,
   "id": "87aeb891",
   "metadata": {},
   "outputs": [
    {
     "name": "stdout",
     "output_type": "stream",
     "text": [
      "We reject the null hypothesis\n"
     ]
    }
   ],
   "source": [
    "def conclude(p_value, alpha):\n",
    "    #evaluate p-value\n",
    "    if p_value < alpha:\n",
    "        print(\"We reject the null hypothesis\")\n",
    "    else:\n",
    "        print(\"We fail to reject the null hypothesis\")\n",
    "        \n",
    "conclude(p_value, alpha)"
   ]
  },
  {
   "cell_type": "markdown",
   "id": "e1ba9821",
   "metadata": {},
   "source": [
    "we reject the null hypothesis that says there is no linear relationship between monthly charges and tenure.\n",
    "\n",
    "**b. Total charges?**\n",
    "\n",
    "**Step 1: Determin the appropriate test**\n",
    " - Because the question is looking for correlation (relationship + significance) between two variables, I will use the pearson's r test\n",
    "\n",
    "**Step 2: Setup**\n",
    "\n",
    "- Set null and alternate hypothesis and the alpha-values ().\n",
    "\n",
    "    - Null Hyp: There is a correlation between tenure and total charges.\n",
    "    - Alt Hyp: There is no correlation between tenure and total charges.\n"
   ]
  },
  {
   "cell_type": "code",
   "execution_count": 38,
   "id": "3cc15b39",
   "metadata": {},
   "outputs": [],
   "source": [
    "alpha = 0.05"
   ]
  },
  {
   "cell_type": "markdown",
   "id": "96f2c27e",
   "metadata": {},
   "source": [
    "**Step 3: Visualize**"
   ]
  },
  {
   "cell_type": "code",
   "execution_count": 66,
   "id": "32b32cd2",
   "metadata": {},
   "outputs": [
    {
     "data": {
      "text/plain": [
       "<Axes: xlabel='tenure', ylabel='total_charges'>"
      ]
     },
     "execution_count": 66,
     "metadata": {},
     "output_type": "execute_result"
    },
    {
     "data": {
      "image/png": "[encoded data removed]",
      "text/plain": [
       "<Figure size 500x300 with 1 Axes>"
      ]
     },
     "metadata": {},
     "output_type": "display_data"
    }
   ],
   "source": [
    "telco = telco[telco[\"total_charges\"] != \" \"]\n",
    "\n",
    "total_charges = telco.total_charges.astype(float)\n",
    "est_tenure = telco.tenure\n",
    "\n",
    "plt.figure(figsize=(5,3))\n",
    "sns.scatterplot(x= est_tenure, y= total_charges)"
   ]
  },
  {
   "cell_type": "markdown",
   "id": "eb3e2bc3",
   "metadata": {},
   "source": [
    "**Step 4:**"
   ]
  },
  {
   "cell_type": "code",
   "execution_count": 67,
   "id": "7b47bab6",
   "metadata": {},
   "outputs": [
    {
     "data": {
      "text/plain": [
       "(0.8258804609332071, 0.0)"
      ]
     },
     "execution_count": 67,
     "metadata": {},
     "output_type": "execute_result"
    }
   ],
   "source": [
    "r, p_value = stats.pearsonr(total_charges, est_tenure)\n",
    "r, p_value"
   ]
  },
  {
   "cell_type": "markdown",
   "id": "a03a605d",
   "metadata": {},
   "source": [
    "**Step 5: Conclude**"
   ]
  },
  {
   "cell_type": "code",
   "execution_count": 68,
   "id": "943100bb",
   "metadata": {},
   "outputs": [
    {
     "name": "stdout",
     "output_type": "stream",
     "text": [
      "We reject the null hypothesis\n"
     ]
    }
   ],
   "source": [
    "conclude(p_value, alpha)"
   ]
  },
  {
   "cell_type": "markdown",
   "id": "85782aaf",
   "metadata": {},
   "source": [
    "we reject the null hypothesis that says there is no linear relationship between total charges and tenure.\n",
    "\n",
    "\n",
    "**c. What happens if you control for phone and internet service?**\n",
    "\n",
    "**Step 1: Determin the appropriate test**\n",
    " - Because the question is looking for correlation (relationship + significance) between two variables, I will use the pearson's r test\n",
    "\n",
    "**Step 2: Setup**\n",
    "\n",
    "- Set null and alternate hypothesis and the alpha-values ().\n",
    "\n",
    "    - $H_0$: There is a correlation between phone service and monthly charges or total charges service.\n",
    "    - $H_0$: There is no correlation between phone service and monthly charges or total charges service.\n",
    "    \n",
    "    - $H_02$: There is a correlation between internet service and monthly charges or total charges service.\n",
    "    - $H_a2$: There is no correlation between internet service and monthly charges or total charges service.\n",
    "    "
   ]
  },
  {
   "cell_type": "code",
   "execution_count": 69,
   "id": "39521da1",
   "metadata": {},
   "outputs": [],
   "source": [
    "alpha = 0.05"
   ]
  },
  {
   "cell_type": "markdown",
   "id": "333857a2",
   "metadata": {},
   "source": [
    "**Step 3**"
   ]
  },
  {
   "cell_type": "code",
   "execution_count": 73,
   "id": "d2f0a785",
   "metadata": {},
   "outputs": [
    {
     "ename": "AttributeError",
     "evalue": "PathCollection.set() got an unexpected keyword argument 'col'",
     "output_type": "error",
     "traceback": [
      "\u001b[0;31m---------------------------------------------------------------------------\u001b[0m",
      "\u001b[0;31mAttributeError\u001b[0m                            Traceback (most recent call last)",
      "Cell \u001b[0;32mIn[73], line 5\u001b[0m\n\u001b[1;32m      2\u001b[0m internet_service \u001b[38;5;241m=\u001b[39m telco\u001b[38;5;241m.\u001b[39minternet_service_type_id\u001b[38;5;241m.\u001b[39mastype(\u001b[38;5;124m\"\u001b[39m\u001b[38;5;124mfloat\u001b[39m\u001b[38;5;124m\"\u001b[39m)\n\u001b[1;32m      4\u001b[0m plt\u001b[38;5;241m.\u001b[39mfigure(figsize\u001b[38;5;241m=\u001b[39m(\u001b[38;5;241m5\u001b[39m,\u001b[38;5;241m3\u001b[39m))\n\u001b[0;32m----> 5\u001b[0m \u001b[43msns\u001b[49m\u001b[38;5;241;43m.\u001b[39;49m\u001b[43mscatterplot\u001b[49m\u001b[43m(\u001b[49m\u001b[43mx\u001b[49m\u001b[38;5;241;43m=\u001b[39;49m\u001b[43m \u001b[49m\u001b[43mphone_service\u001b[49m\u001b[43m,\u001b[49m\u001b[43m \u001b[49m\u001b[43my\u001b[49m\u001b[38;5;241;43m=\u001b[39;49m\u001b[43m \u001b[49m\u001b[43minternet_service\u001b[49m\u001b[43m,\u001b[49m\u001b[43m \u001b[49m\u001b[43mcol\u001b[49m\u001b[38;5;241;43m=\u001b[39;49m\u001b[43minternet_service\u001b[49m\u001b[43m)\u001b[49m\n",
      "File \u001b[0;32m/opt/homebrew/anaconda3/lib/python3.10/site-packages/seaborn/relational.py:759\u001b[0m, in \u001b[0;36mscatterplot\u001b[0;34m(data, x, y, hue, size, style, palette, hue_order, hue_norm, sizes, size_order, size_norm, markers, style_order, legend, ax, **kwargs)\u001b[0m\n\u001b[1;32m    756\u001b[0m \u001b[38;5;66;03m# Other functions have color as an explicit param,\u001b[39;00m\n\u001b[1;32m    757\u001b[0m \u001b[38;5;66;03m# and we should probably do that here too\u001b[39;00m\n\u001b[1;32m    758\u001b[0m color \u001b[38;5;241m=\u001b[39m kwargs\u001b[38;5;241m.\u001b[39mpop(\u001b[38;5;124m\"\u001b[39m\u001b[38;5;124mcolor\u001b[39m\u001b[38;5;124m\"\u001b[39m, \u001b[38;5;28;01mNone\u001b[39;00m)\n\u001b[0;32m--> 759\u001b[0m kwargs[\u001b[38;5;124m\"\u001b[39m\u001b[38;5;124mcolor\u001b[39m\u001b[38;5;124m\"\u001b[39m] \u001b[38;5;241m=\u001b[39m \u001b[43m_default_color\u001b[49m\u001b[43m(\u001b[49m\u001b[43max\u001b[49m\u001b[38;5;241;43m.\u001b[39;49m\u001b[43mscatter\u001b[49m\u001b[43m,\u001b[49m\u001b[43m \u001b[49m\u001b[43mhue\u001b[49m\u001b[43m,\u001b[49m\u001b[43m \u001b[49m\u001b[43mcolor\u001b[49m\u001b[43m,\u001b[49m\u001b[43m \u001b[49m\u001b[43mkwargs\u001b[49m\u001b[43m)\u001b[49m\n\u001b[1;32m    761\u001b[0m p\u001b[38;5;241m.\u001b[39mplot(ax, kwargs)\n\u001b[1;32m    763\u001b[0m \u001b[38;5;28;01mreturn\u001b[39;00m ax\n",
      "File \u001b[0;32m/opt/homebrew/anaconda3/lib/python3.10/site-packages/seaborn/utils.py:122\u001b[0m, in \u001b[0;36m_default_color\u001b[0;34m(method, hue, color, kws)\u001b[0m\n\u001b[1;32m    116\u001b[0m scout_size \u001b[38;5;241m=\u001b[39m \u001b[38;5;28mmax\u001b[39m(\n\u001b[1;32m    117\u001b[0m     np\u001b[38;5;241m.\u001b[39matleast_1d(kws\u001b[38;5;241m.\u001b[39mget(key, []))\u001b[38;5;241m.\u001b[39mshape[\u001b[38;5;241m0\u001b[39m]\n\u001b[1;32m    118\u001b[0m     \u001b[38;5;28;01mfor\u001b[39;00m key \u001b[38;5;129;01min\u001b[39;00m [\u001b[38;5;124m\"\u001b[39m\u001b[38;5;124ms\u001b[39m\u001b[38;5;124m\"\u001b[39m, \u001b[38;5;124m\"\u001b[39m\u001b[38;5;124mc\u001b[39m\u001b[38;5;124m\"\u001b[39m, \u001b[38;5;124m\"\u001b[39m\u001b[38;5;124mfc\u001b[39m\u001b[38;5;124m\"\u001b[39m, \u001b[38;5;124m\"\u001b[39m\u001b[38;5;124mfacecolor\u001b[39m\u001b[38;5;124m\"\u001b[39m, \u001b[38;5;124m\"\u001b[39m\u001b[38;5;124mfacecolors\u001b[39m\u001b[38;5;124m\"\u001b[39m]\n\u001b[1;32m    119\u001b[0m )\n\u001b[1;32m    120\u001b[0m scout_x \u001b[38;5;241m=\u001b[39m scout_y \u001b[38;5;241m=\u001b[39m np\u001b[38;5;241m.\u001b[39mfull(scout_size, np\u001b[38;5;241m.\u001b[39mnan)\n\u001b[0;32m--> 122\u001b[0m scout \u001b[38;5;241m=\u001b[39m \u001b[43mmethod\u001b[49m\u001b[43m(\u001b[49m\u001b[43mscout_x\u001b[49m\u001b[43m,\u001b[49m\u001b[43m \u001b[49m\u001b[43mscout_y\u001b[49m\u001b[43m,\u001b[49m\u001b[43m \u001b[49m\u001b[38;5;241;43m*\u001b[39;49m\u001b[38;5;241;43m*\u001b[39;49m\u001b[43mkws\u001b[49m\u001b[43m)\u001b[49m\n\u001b[1;32m    123\u001b[0m facecolors \u001b[38;5;241m=\u001b[39m scout\u001b[38;5;241m.\u001b[39mget_facecolors()\n\u001b[1;32m    125\u001b[0m \u001b[38;5;28;01mif\u001b[39;00m \u001b[38;5;129;01mnot\u001b[39;00m \u001b[38;5;28mlen\u001b[39m(facecolors):\n\u001b[1;32m    126\u001b[0m     \u001b[38;5;66;03m# Handle bug in matplotlib <= 3.2 (I think)\u001b[39;00m\n\u001b[1;32m    127\u001b[0m     \u001b[38;5;66;03m# This will limit the ability to use non color= kwargs to specify\u001b[39;00m\n\u001b[1;32m    128\u001b[0m     \u001b[38;5;66;03m# a color in versions of matplotlib with the bug, but trying to\u001b[39;00m\n\u001b[1;32m    129\u001b[0m     \u001b[38;5;66;03m# work out what the user wanted by re-implementing the broken logic\u001b[39;00m\n\u001b[1;32m    130\u001b[0m     \u001b[38;5;66;03m# of inspecting the kwargs is probably too brittle.\u001b[39;00m\n",
      "File \u001b[0;32m/opt/homebrew/anaconda3/lib/python3.10/site-packages/matplotlib/__init__.py:1442\u001b[0m, in \u001b[0;36m_preprocess_data.<locals>.inner\u001b[0;34m(ax, data, *args, **kwargs)\u001b[0m\n\u001b[1;32m   1439\u001b[0m \u001b[38;5;129m@functools\u001b[39m\u001b[38;5;241m.\u001b[39mwraps(func)\n\u001b[1;32m   1440\u001b[0m \u001b[38;5;28;01mdef\u001b[39;00m \u001b[38;5;21minner\u001b[39m(ax, \u001b[38;5;241m*\u001b[39margs, data\u001b[38;5;241m=\u001b[39m\u001b[38;5;28;01mNone\u001b[39;00m, \u001b[38;5;241m*\u001b[39m\u001b[38;5;241m*\u001b[39mkwargs):\n\u001b[1;32m   1441\u001b[0m     \u001b[38;5;28;01mif\u001b[39;00m data \u001b[38;5;129;01mis\u001b[39;00m \u001b[38;5;28;01mNone\u001b[39;00m:\n\u001b[0;32m-> 1442\u001b[0m         \u001b[38;5;28;01mreturn\u001b[39;00m \u001b[43mfunc\u001b[49m\u001b[43m(\u001b[49m\u001b[43max\u001b[49m\u001b[43m,\u001b[49m\u001b[43m \u001b[49m\u001b[38;5;241;43m*\u001b[39;49m\u001b[38;5;28;43mmap\u001b[39;49m\u001b[43m(\u001b[49m\u001b[43msanitize_sequence\u001b[49m\u001b[43m,\u001b[49m\u001b[43m \u001b[49m\u001b[43margs\u001b[49m\u001b[43m)\u001b[49m\u001b[43m,\u001b[49m\u001b[43m \u001b[49m\u001b[38;5;241;43m*\u001b[39;49m\u001b[38;5;241;43m*\u001b[39;49m\u001b[43mkwargs\u001b[49m\u001b[43m)\u001b[49m\n\u001b[1;32m   1444\u001b[0m     bound \u001b[38;5;241m=\u001b[39m new_sig\u001b[38;5;241m.\u001b[39mbind(ax, \u001b[38;5;241m*\u001b[39margs, \u001b[38;5;241m*\u001b[39m\u001b[38;5;241m*\u001b[39mkwargs)\n\u001b[1;32m   1445\u001b[0m     auto_label \u001b[38;5;241m=\u001b[39m (bound\u001b[38;5;241m.\u001b[39marguments\u001b[38;5;241m.\u001b[39mget(label_namer)\n\u001b[1;32m   1446\u001b[0m                   \u001b[38;5;129;01mor\u001b[39;00m bound\u001b[38;5;241m.\u001b[39mkwargs\u001b[38;5;241m.\u001b[39mget(label_namer))\n",
      "File \u001b[0;32m/opt/homebrew/anaconda3/lib/python3.10/site-packages/matplotlib/axes/_axes.py:4698\u001b[0m, in \u001b[0;36mAxes.scatter\u001b[0;34m(self, x, y, s, c, marker, cmap, norm, vmin, vmax, alpha, linewidths, edgecolors, plotnonfinite, **kwargs)\u001b[0m\n\u001b[1;32m   4694\u001b[0m         keys_str \u001b[38;5;241m=\u001b[39m \u001b[38;5;124m\"\u001b[39m\u001b[38;5;124m, \u001b[39m\u001b[38;5;124m\"\u001b[39m\u001b[38;5;241m.\u001b[39mjoin(\u001b[38;5;124mf\u001b[39m\u001b[38;5;124m\"\u001b[39m\u001b[38;5;124m'\u001b[39m\u001b[38;5;132;01m{\u001b[39;00mk\u001b[38;5;132;01m}\u001b[39;00m\u001b[38;5;124m'\u001b[39m\u001b[38;5;124m\"\u001b[39m \u001b[38;5;28;01mfor\u001b[39;00m k \u001b[38;5;129;01min\u001b[39;00m extra_keys)\n\u001b[1;32m   4695\u001b[0m         _api\u001b[38;5;241m.\u001b[39mwarn_external(\n\u001b[1;32m   4696\u001b[0m             \u001b[38;5;124m\"\u001b[39m\u001b[38;5;124mNo data for colormapping provided via \u001b[39m\u001b[38;5;124m'\u001b[39m\u001b[38;5;124mc\u001b[39m\u001b[38;5;124m'\u001b[39m\u001b[38;5;124m. \u001b[39m\u001b[38;5;124m\"\u001b[39m\n\u001b[1;32m   4697\u001b[0m             \u001b[38;5;124mf\u001b[39m\u001b[38;5;124m\"\u001b[39m\u001b[38;5;124mParameters \u001b[39m\u001b[38;5;132;01m{\u001b[39;00mkeys_str\u001b[38;5;132;01m}\u001b[39;00m\u001b[38;5;124m will be ignored\u001b[39m\u001b[38;5;124m\"\u001b[39m)\n\u001b[0;32m-> 4698\u001b[0m \u001b[43mcollection\u001b[49m\u001b[38;5;241;43m.\u001b[39;49m\u001b[43m_internal_update\u001b[49m\u001b[43m(\u001b[49m\u001b[43mkwargs\u001b[49m\u001b[43m)\u001b[49m\n\u001b[1;32m   4700\u001b[0m \u001b[38;5;66;03m# Classic mode only:\u001b[39;00m\n\u001b[1;32m   4701\u001b[0m \u001b[38;5;66;03m# ensure there are margins to allow for the\u001b[39;00m\n\u001b[1;32m   4702\u001b[0m \u001b[38;5;66;03m# finite size of the symbols.  In v2.x, margins\u001b[39;00m\n\u001b[1;32m   4703\u001b[0m \u001b[38;5;66;03m# are present by default, so we disable this\u001b[39;00m\n\u001b[1;32m   4704\u001b[0m \u001b[38;5;66;03m# scatter-specific override.\u001b[39;00m\n\u001b[1;32m   4705\u001b[0m \u001b[38;5;28;01mif\u001b[39;00m mpl\u001b[38;5;241m.\u001b[39mrcParams[\u001b[38;5;124m'\u001b[39m\u001b[38;5;124m_internal.classic_mode\u001b[39m\u001b[38;5;124m'\u001b[39m]:\n",
      "File \u001b[0;32m/opt/homebrew/anaconda3/lib/python3.10/site-packages/matplotlib/artist.py:1223\u001b[0m, in \u001b[0;36mArtist._internal_update\u001b[0;34m(self, kwargs)\u001b[0m\n\u001b[1;32m   1216\u001b[0m \u001b[38;5;28;01mdef\u001b[39;00m \u001b[38;5;21m_internal_update\u001b[39m(\u001b[38;5;28mself\u001b[39m, kwargs):\n\u001b[1;32m   1217\u001b[0m     \u001b[38;5;124;03m\"\"\"\u001b[39;00m\n\u001b[1;32m   1218\u001b[0m \u001b[38;5;124;03m    Update artist properties without prenormalizing them, but generating\u001b[39;00m\n\u001b[1;32m   1219\u001b[0m \u001b[38;5;124;03m    errors as if calling `set`.\u001b[39;00m\n\u001b[1;32m   1220\u001b[0m \n\u001b[1;32m   1221\u001b[0m \u001b[38;5;124;03m    The lack of prenormalization is to maintain backcompatibility.\u001b[39;00m\n\u001b[1;32m   1222\u001b[0m \u001b[38;5;124;03m    \"\"\"\u001b[39;00m\n\u001b[0;32m-> 1223\u001b[0m     \u001b[38;5;28;01mreturn\u001b[39;00m \u001b[38;5;28;43mself\u001b[39;49m\u001b[38;5;241;43m.\u001b[39;49m\u001b[43m_update_props\u001b[49m\u001b[43m(\u001b[49m\n\u001b[1;32m   1224\u001b[0m \u001b[43m        \u001b[49m\u001b[43mkwargs\u001b[49m\u001b[43m,\u001b[49m\u001b[43m \u001b[49m\u001b[38;5;124;43m\"\u001b[39;49m\u001b[38;5;132;43;01m{cls.__name__}\u001b[39;49;00m\u001b[38;5;124;43m.set() got an unexpected keyword argument \u001b[39;49m\u001b[38;5;124;43m\"\u001b[39;49m\n\u001b[1;32m   1225\u001b[0m \u001b[43m        \u001b[49m\u001b[38;5;124;43m\"\u001b[39;49m\u001b[38;5;132;43;01m{prop_name!r}\u001b[39;49;00m\u001b[38;5;124;43m\"\u001b[39;49m\u001b[43m)\u001b[49m\n",
      "File \u001b[0;32m/opt/homebrew/anaconda3/lib/python3.10/site-packages/matplotlib/artist.py:1197\u001b[0m, in \u001b[0;36mArtist._update_props\u001b[0;34m(self, props, errfmt)\u001b[0m\n\u001b[1;32m   1195\u001b[0m             func \u001b[38;5;241m=\u001b[39m \u001b[38;5;28mgetattr\u001b[39m(\u001b[38;5;28mself\u001b[39m, \u001b[38;5;124mf\u001b[39m\u001b[38;5;124m\"\u001b[39m\u001b[38;5;124mset_\u001b[39m\u001b[38;5;132;01m{\u001b[39;00mk\u001b[38;5;132;01m}\u001b[39;00m\u001b[38;5;124m\"\u001b[39m, \u001b[38;5;28;01mNone\u001b[39;00m)\n\u001b[1;32m   1196\u001b[0m             \u001b[38;5;28;01mif\u001b[39;00m \u001b[38;5;129;01mnot\u001b[39;00m callable(func):\n\u001b[0;32m-> 1197\u001b[0m                 \u001b[38;5;28;01mraise\u001b[39;00m \u001b[38;5;167;01mAttributeError\u001b[39;00m(\n\u001b[1;32m   1198\u001b[0m                     errfmt\u001b[38;5;241m.\u001b[39mformat(\u001b[38;5;28mcls\u001b[39m\u001b[38;5;241m=\u001b[39m\u001b[38;5;28mtype\u001b[39m(\u001b[38;5;28mself\u001b[39m), prop_name\u001b[38;5;241m=\u001b[39mk))\n\u001b[1;32m   1199\u001b[0m             ret\u001b[38;5;241m.\u001b[39mappend(func(v))\n\u001b[1;32m   1200\u001b[0m \u001b[38;5;28;01mif\u001b[39;00m ret:\n",
      "\u001b[0;31mAttributeError\u001b[0m: PathCollection.set() got an unexpected keyword argument 'col'"
     ]
    },
    {
     "data": {
      "image/png": "[encoded data removed]",
      "text/plain": [
       "<Figure size 500x300 with 1 Axes>"
      ]
     },
     "metadata": {},
     "output_type": "display_data"
    }
   ],
   "source": [
    "phone_service = telco.phone_service\n",
    "internet_service = telco.internet_service_type_id.astype(\"float\")\n",
    "\n",
    "monty_charges = telco.Monthly_Charges\n",
    "total_charges = telco.total_charges\n",
    "\n",
    "plt.figure(figsize=(5,3))\n",
    "sns.scatterplot(x= phone_service, y= internet_service, col=internet_service)"
   ]
  },
  {
   "cell_type": "code",
   "execution_count": null,
   "id": "e442b719",
   "metadata": {},
   "outputs": [],
   "source": []
  },
  {
   "cell_type": "markdown",
   "id": "6e80908a",
   "metadata": {},
   "source": [
    "3. Use the employees database.\n",
    "- Is there a relationship between how long an employee has been with the company and their salary?\n",
    "- Is there a relationship between how long an employee has been with the company and the number of titles they have had?"
   ]
  },
  {
   "cell_type": "code",
   "execution_count": 113,
   "id": "61c4d5ba",
   "metadata": {},
   "outputs": [
    {
     "data": {
      "text/html": [
       "<div>\n",
       "<style scoped>\n",
       "    .dataframe tbody tr th:only-of-type {\n",
       "        vertical-align: middle;\n",
       "    }\n",
       "\n",
       "    .dataframe tbody tr th {\n",
       "        vertical-align: top;\n",
       "    }\n",
       "\n",
       "    .dataframe thead th {\n",
       "        text-align: right;\n",
       "    }\n",
       "</style>\n",
       "<table border=\"1\" class=\"dataframe\">\n",
       "  <thead>\n",
       "    <tr style=\"text-align: right;\">\n",
       "      <th></th>\n",
       "      <th>emp_no</th>\n",
       "      <th>birth_date</th>\n",
       "      <th>first_name</th>\n",
       "      <th>last_name</th>\n",
       "      <th>gender</th>\n",
       "      <th>hire_date</th>\n",
       "      <th>salary</th>\n",
       "      <th>from_date</th>\n",
       "      <th>to_date</th>\n",
       "    </tr>\n",
       "  </thead>\n",
       "  <tbody>\n",
       "    <tr>\n",
       "      <th>0</th>\n",
       "      <td>10001</td>\n",
       "      <td>1953-09-02</td>\n",
       "      <td>Georgi</td>\n",
       "      <td>Facello</td>\n",
       "      <td>M</td>\n",
       "      <td>1986-06-26</td>\n",
       "      <td>60117</td>\n",
       "      <td>1986-06-26</td>\n",
       "      <td>1987-06-26</td>\n",
       "    </tr>\n",
       "    <tr>\n",
       "      <th>1</th>\n",
       "      <td>10001</td>\n",
       "      <td>1953-09-02</td>\n",
       "      <td>Georgi</td>\n",
       "      <td>Facello</td>\n",
       "      <td>M</td>\n",
       "      <td>1986-06-26</td>\n",
       "      <td>62102</td>\n",
       "      <td>1987-06-26</td>\n",
       "      <td>1988-06-25</td>\n",
       "    </tr>\n",
       "    <tr>\n",
       "      <th>2</th>\n",
       "      <td>10001</td>\n",
       "      <td>1953-09-02</td>\n",
       "      <td>Georgi</td>\n",
       "      <td>Facello</td>\n",
       "      <td>M</td>\n",
       "      <td>1986-06-26</td>\n",
       "      <td>66074</td>\n",
       "      <td>1988-06-25</td>\n",
       "      <td>1989-06-25</td>\n",
       "    </tr>\n",
       "    <tr>\n",
       "      <th>3</th>\n",
       "      <td>10001</td>\n",
       "      <td>1953-09-02</td>\n",
       "      <td>Georgi</td>\n",
       "      <td>Facello</td>\n",
       "      <td>M</td>\n",
       "      <td>1986-06-26</td>\n",
       "      <td>66596</td>\n",
       "      <td>1989-06-25</td>\n",
       "      <td>1990-06-25</td>\n",
       "    </tr>\n",
       "    <tr>\n",
       "      <th>4</th>\n",
       "      <td>10001</td>\n",
       "      <td>1953-09-02</td>\n",
       "      <td>Georgi</td>\n",
       "      <td>Facello</td>\n",
       "      <td>M</td>\n",
       "      <td>1986-06-26</td>\n",
       "      <td>66961</td>\n",
       "      <td>1990-06-25</td>\n",
       "      <td>1991-06-25</td>\n",
       "    </tr>\n",
       "  </tbody>\n",
       "</table>\n",
       "</div>"
      ],
      "text/plain": [
       "   emp_no  birth_date first_name last_name gender   hire_date  salary  \\\n",
       "0   10001  1953-09-02     Georgi   Facello      M  1986-06-26   60117   \n",
       "1   10001  1953-09-02     Georgi   Facello      M  1986-06-26   62102   \n",
       "2   10001  1953-09-02     Georgi   Facello      M  1986-06-26   66074   \n",
       "3   10001  1953-09-02     Georgi   Facello      M  1986-06-26   66596   \n",
       "4   10001  1953-09-02     Georgi   Facello      M  1986-06-26   66961   \n",
       "\n",
       "    from_date     to_date  \n",
       "0  1986-06-26  1987-06-26  \n",
       "1  1987-06-26  1988-06-25  \n",
       "2  1988-06-25  1989-06-25  \n",
       "3  1989-06-25  1990-06-25  \n",
       "4  1990-06-25  1991-06-25  "
      ]
     },
     "execution_count": 113,
     "metadata": {},
     "output_type": "execute_result"
    }
   ],
   "source": [
    "query = \"\"\"\n",
    "SELECT * \n",
    "FROM employees\n",
    "JOIN salaries USING(emp_no)\n",
    "WHERE to_date < now();\n",
    "\"\"\"\n",
    "\n",
    "employees = pd.read_sql(query, env.get_db_access(\"employees\"))\n",
    "telco.head()"
   ]
  },
  {
   "cell_type": "markdown",
   "id": "675a140d",
   "metadata": {},
   "source": [
    "a. Is there a relationship between how long an employee has been with the company and their salary?\n",
    "\n",
    "**Step 1: Determin the appropriate test**\n",
    " - Because the question is looking for correlation (relationship + significance) between two variables, I will use the pearson's r test\n",
    "\n",
    "**Step 2: Setup**\n",
    "\n",
    "- Set null and alternate hypothesis and the alpha-values ().\n",
    "\n",
    "    - Null Hyp: There is a relationship between how long an employee has been witht the company and thier salary.\n",
    "    - Alt Hyp: There is no relationship between how long an employee has been witht the company and thier salary.\n"
   ]
  },
  {
   "cell_type": "code",
   "execution_count": 114,
   "id": "bff56fc9",
   "metadata": {},
   "outputs": [],
   "source": [
    "alpha = 0.05"
   ]
  },
  {
   "cell_type": "markdown",
   "id": "10d162ca",
   "metadata": {},
   "source": [
    "**Step 4**"
   ]
  },
  {
   "cell_type": "code",
   "execution_count": 127,
   "id": "16b28275",
   "metadata": {},
   "outputs": [],
   "source": [
    "# compate time difference\n",
    "hire_date=pd.to_datetime(employees.hire_date).dt.year\n",
    "to_date = pd.to_datetime(employees.to_date).dt.year\n",
    "\n",
    "time_diff = to_date.astype(\"int\") - hire_date.astype(\"int\")\n",
    "salary = employees.salary"
   ]
  },
  {
   "cell_type": "code",
   "execution_count": 131,
   "id": "84829f4c",
   "metadata": {},
   "outputs": [
    {
     "data": {
      "text/plain": [
       "<Axes: ylabel='salary'>"
      ]
     },
     "execution_count": 131,
     "metadata": {},
     "output_type": "execute_result"
    },
    {
     "data": {
      "image/png": "[encoded data removed]",
      "text/plain": [
       "<Figure size 500x300 with 1 Axes>"
      ]
     },
     "metadata": {},
     "output_type": "display_data"
    }
   ],
   "source": [
    "plt.figure(figsize=(5,3))\n",
    "sns.barplot(x= time_diff, y= salary)"
   ]
  },
  {
   "cell_type": "markdown",
   "id": "0d41ff80",
   "metadata": {},
   "source": [
    "**Step 4**"
   ]
  },
  {
   "cell_type": "code",
   "execution_count": 132,
   "id": "bbfeab6e",
   "metadata": {},
   "outputs": [
    {
     "data": {
      "text/plain": [
       "(0.3625214524301347, 0.0)"
      ]
     },
     "execution_count": 132,
     "metadata": {},
     "output_type": "execute_result"
    }
   ],
   "source": [
    "r, p_value = stats.pearsonr(salary, time_diff)\n",
    "r, p_value"
   ]
  },
  {
   "cell_type": "markdown",
   "id": "f3a56f0a",
   "metadata": {},
   "source": [
    "**Step 5**"
   ]
  },
  {
   "cell_type": "code",
   "execution_count": 135,
   "id": "a2e963e6",
   "metadata": {},
   "outputs": [
    {
     "name": "stdout",
     "output_type": "stream",
     "text": [
      "We reject the null hypothesis\n"
     ]
    }
   ],
   "source": [
    "conclude(p_value, alpha)"
   ]
  },
  {
   "cell_type": "markdown",
   "id": "c9fbd567",
   "metadata": {},
   "source": [
    "we reject the null hypothesis that says there is no linear relationship between how long an employee has been witht the company and thier salary\n"
   ]
  },
  {
   "cell_type": "code",
   "execution_count": null,
   "id": "e4fcb636",
   "metadata": {},
   "outputs": [],
   "source": []
  },
  {
   "cell_type": "code",
   "execution_count": null,
   "id": "5ab82ff9",
   "metadata": {},
   "outputs": [],
   "source": []
  },
  {
   "cell_type": "code",
   "execution_count": null,
   "id": "6ba203aa",
   "metadata": {},
   "outputs": [],
   "source": []
  },
  {
   "cell_type": "code",
   "execution_count": null,
   "id": "be740491",
   "metadata": {},
   "outputs": [],
   "source": []
  },
  {
   "cell_type": "markdown",
   "id": "5352ac49",
   "metadata": {},
   "source": [
    "\n",
    "4. Use the sleepstudy data.\n",
    "- Is there a relationship between days and reaction tim"
   ]
  },
  {
   "cell_type": "markdown",
   "id": "87f63d02",
   "metadata": {},
   "source": []
  },
  {
   "cell_type": "code",
   "execution_count": null,
   "id": "a326851b",
   "metadata": {},
   "outputs": [],
   "source": []
  },
  {
   "cell_type": "code",
   "execution_count": null,
   "id": "d1642bac",
   "metadata": {},
   "outputs": [],
   "source": []
  },
  {
   "cell_type": "code",
   "execution_count": null,
   "id": "c2b2fe98",
   "metadata": {},
   "outputs": [],
   "source": []
  },
  {
   "cell_type": "code",
   "execution_count": null,
   "id": "a647e802",
   "metadata": {},
   "outputs": [],
   "source": []
  },
  {
   "cell_type": "code",
   "execution_count": null,
   "id": "66f1a0b3",
   "metadata": {},
   "outputs": [],
   "source": []
  },
  {
   "cell_type": "code",
   "execution_count": null,
   "id": "23787cde",
   "metadata": {},
   "outputs": [],
   "source": []
  },
  {
   "cell_type": "code",
   "execution_count": null,
   "id": "7b6b3a48",
   "metadata": {},
   "outputs": [],
   "source": []
  },
  {
   "cell_type": "code",
   "execution_count": null,
   "id": "9036f58b",
   "metadata": {},
   "outputs": [],
   "source": []
  },
  {
   "cell_type": "code",
   "execution_count": null,
   "id": "bd8add21",
   "metadata": {},
   "outputs": [],
   "source": []
  }
 ],
 "metadata": {
  "kernelspec": {
   "display_name": "Python 3 (ipykernel)",
   "language": "python",
   "name": "python3"
  },
  "language_info": {
   "codemirror_mode": {
    "name": "ipython",
    "version": 3
   },
   "file_extension": ".py",
   "mimetype": "text/x-python",
   "name": "python",
   "nbconvert_exporter": "python",
   "pygments_lexer": "ipython3",
   "version": "3.10.9"
  }
 },
 "nbformat": 4,
 "nbformat_minor": 5
}

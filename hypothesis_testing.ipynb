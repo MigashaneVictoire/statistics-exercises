{
 "cells": [
  {
   "cell_type": "markdown",
   "id": "86112427",
   "metadata": {},
   "source": [
    "# Hypothesis Testing (Compairing the mean)\n",
    "\n",
    "For each of the following questions, formulate a null and alternative hypothesis (be as specific as you can be), then give an example of what a true positive, true negative, type I and type II errors would look like. Note that some of the questions are intentionally phrased in a vague way. It is your job to reword these as more precise questions that could be tested.\n",
    "\n",
    "1. Has the network latency gone up since we switched internet service providers?\n",
    "\n",
    "    - Null Hyp: New network lantency is > old network latency\n",
    "    - Alt Hyp: New network lantency <= old network lantency\n",
    "    \n",
    "        - True positive: Trial result  identify that new network lantency is increased (becoming greater that old network lantency), and result match initial Hypothesis.\n",
    "\n",
    "        - True negative: Trial result  identify that new network lantency is increased (becoming greater that old network lantency), and result don't match initial Hypothesis.\n",
    "\n",
    "        - False negative: Trial result  identify that new network lantency is decreased (becoming less that old network lantency), and result don't match initial Hypothesis.\n",
    "        - False positive: Trial result  identify that new network lantency is decreased (becoming less that old network lantency), and result match initial Hypothesis"
   ]
  },
  {
   "cell_type": "markdown",
   "id": "1bd753c3",
   "metadata": {},
   "source": [
    "2. Is the website redesign any good?\n",
    "    - Null Hyp: Website redesign is > old website design.\n",
    "    - Alt Hyp: Website redesign is <= old website design\n",
    "        - True positive: Trial result identify website redesign is better (being better than old website design) and match the initial hypothesis.\n",
    "        - True negative: Trial result identify website redesign is better (being better than old website design) and don't match the initial hypothesis.\n",
    "        - False positive: Trial result identify website redesign is worst (being less than than old website design) and match the initial hypothesis.\n",
    "        - False negative: Trial result identify website redesign is worst (being less than than old website design) and don't match the initial hypothesis."
   ]
  },
  {
   "cell_type": "markdown",
   "id": "2bff6640",
   "metadata": {},
   "source": [
    "### Tests\n",
    "_______________________________________________________________________\n",
    "\n",
    "|Goal|$H_{0}$|Data Needed|Parametric Test|Assumptions*|Non-parametric Test|  \n",
    "|---|---|---|---|---|---|  \n",
    "|Compare observed mean to theoretical one|$\\mu_{obs} = \\mu_{th}$|array-like of observed values & float of theoretical|One sample t-test: **scipy.stats.ttest_1samp**|Normally Distributed\\*\\*|One sample Wilcoxon signed rank test|   \n",
    "|Compare two observed means (independent samples)|$\\mu_{a} = \\mu_{b}$|2 array-like samples|Independent t-test (or 2-sample): **scipy.stats.ttest_ind**|Independent, Normally Distributed\\*\\*, Equal Variances\\*\\*\\*|Mann-Whitney's test|   \n",
    "|Compare several observed means (independent samples)|$\\mu_{a} = \\mu_{b} = \\mu_{n}$|n array-like samples|ANOVA: **scipy.stats.f_oneway**|Independent, Normally Distributed\\*\\*, Equal Variances|Kruskal-Wallis test|   \n",
    "\n",
    "\\*If assumptions can't be met, the equivalent non-parametric test can be used.   \n",
    "\\*\\*Normal Distribution assumption can be be met by having a large enough sample (due to Central Limit Theorem), or the data can be scaled using a Gaussian Scalar.   \n",
    "\\*\\*\\*The argument in the stats.ttest_ind() method of `equal_var` can be set to `False` to accomodate this assumption. "
   ]
  },
  {
   "cell_type": "code",
   "execution_count": 1,
   "id": "36361c67",
   "metadata": {},
   "outputs": [],
   "source": [
    "import numpy as np\n",
    "import matplotlib.pyplot as plt\n",
    "from scipy import stats\n",
    "import pydataset as datasets\n",
    "\n",
    "np.random.seed(234)"
   ]
  },
  {
   "cell_type": "markdown",
   "id": "d5bd1b63",
   "metadata": {},
   "source": [
    "1. Answer with the type of test you would use (assume normal distribution):\n",
    "\n",
    "- Is there a difference in grades of students on the second floor compared to grades of all students?\n",
    "    - Since I am comparing **one** observed mean to a theoretical mean (mean of all the data), I need to use the **`One Sample T-Test`**.\n",
    "- Are adults who drink milk taller than adults who dont drink milk?\n",
    "    - Because I am comparing **two** observed means (independent samples), I will use the **`Two Sample T-Test`** or the ***`Independent T-Test`*.\n",
    "- Is the the price of gas higher in texas or in new mexico?\n",
    "    - Because I am comparing **two** observed means (independent samples), I will use the **`Two Sample T-Test`** or the ***`Independent T-Test`*.\n",
    "- Are there differences in stress levels between students who take data science vs students who take web development vs students who take cloud academy?\n",
    "    - Because I am comparing **Three** observed means (independent samples), I will use the **`ANOVA Analysis of Varience`**."
   ]
  },
  {
   "cell_type": "markdown",
   "id": "4d0f1ff4",
   "metadata": {},
   "source": [
    "2. Ace Realty wants to determine whether the average time it takes to sell homes is different for its two offices. A sample of 40 sales from office #1 revealed a mean of 90 days and a standard deviation of 15 days. A sample of 50 sales from office #2 revealed a mean of 100 days and a standard deviation of 20 days. Use a .05 level of significance."
   ]
  },
  {
   "cell_type": "code",
   "execution_count": 2,
   "id": "08cd953e",
   "metadata": {},
   "outputs": [],
   "source": [
    "# smaple number 1\n",
    "sales1 =40\n",
    "sales1_mean = 90\n",
    "sales1_std = 15\n",
    "\n",
    "# smape number 2\n",
    "sales2 =50\n",
    "sales2_mean = 100\n",
    "sales2_std = 20"
   ]
  },
  {
   "cell_type": "markdown",
   "id": "a164a566",
   "metadata": {},
   "source": [
    "Question: whether the average time it takes to sell homes is different for its two offices.\n",
    "\n",
    "**Step 1: Plot the distributions**"
   ]
  },
  {
   "cell_type": "code",
   "execution_count": 3,
   "id": "148052a2",
   "metadata": {},
   "outputs": [
    {
     "data": {
      "text/plain": [
       "(array([1., 0., 1., 2., 5., 6., 7., 6., 8., 4.]),\n",
       " array([ 43.06673037,  50.27703574,  57.48734112,  64.69764649,\n",
       "         71.90795187,  79.11825724,  86.32856262,  93.53886799,\n",
       "        100.74917337, 107.95947874, 115.16978412]),\n",
       " <BarContainer object of 10 artists>)"
      ]
     },
     "execution_count": 3,
     "metadata": {},
     "output_type": "execute_result"
    },
    {
     "data": {
      "image/png": "[encoded data removed]",
      "text/plain": [
       "<Figure size 400x200 with 1 Axes>"
      ]
     },
     "metadata": {},
     "output_type": "display_data"
    }
   ],
   "source": [
    "sales1_distribution = stats.norm(sales1_mean, sales1_std)\n",
    "sales1_sample_distribution = sales1_distribution.rvs(sales1)\n",
    "\n",
    "plt.figure(figsize=(4,2))\n",
    "plt.hist(sales1_sample_distribution)"
   ]
  },
  {
   "cell_type": "code",
   "execution_count": 4,
   "id": "78995215",
   "metadata": {},
   "outputs": [
    {
     "data": {
      "text/plain": [
       "(array([1., 3., 5., 8., 6., 8., 8., 7., 1., 3.]),\n",
       " array([ 56.58325885,  65.88359227,  75.1839257 ,  84.48425913,\n",
       "         93.78459255, 103.08492598, 112.38525941, 121.68559283,\n",
       "        130.98592626, 140.28625969, 149.58659311]),\n",
       " <BarContainer object of 10 artists>)"
      ]
     },
     "execution_count": 4,
     "metadata": {},
     "output_type": "execute_result"
    },
    {
     "data": {
      "image/png": "[encoded data removed]",
      "text/plain": [
       "<Figure size 400x200 with 1 Axes>"
      ]
     },
     "metadata": {},
     "output_type": "display_data"
    }
   ],
   "source": [
    "sales2_distribution = stats.norm(sales2_mean, sales2_std)\n",
    "sales2_sample_distribution = sales2_distribution.rvs(sales2)\n",
    "\n",
    "plt.figure(figsize=(4,2))\n",
    "plt.hist(sales2_sample_distribution)"
   ]
  },
  {
   "cell_type": "markdown",
   "id": "14e80e88",
   "metadata": {},
   "source": [
    "**Step 2: Estabish Hypothesis**"
   ]
  },
  {
   "cell_type": "code",
   "execution_count": 5,
   "id": "56fb6221",
   "metadata": {},
   "outputs": [
    {
     "data": {
      "text/plain": [
       "(90.0, 100.0)"
      ]
     },
     "execution_count": 5,
     "metadata": {},
     "output_type": "execute_result"
    }
   ],
   "source": [
    "# look at there mean\n",
    "sales1_distribution.mean(), sales2_distribution.mean()"
   ]
  },
  {
   "cell_type": "code",
   "execution_count": 6,
   "id": "8b172a13",
   "metadata": {},
   "outputs": [
    {
     "data": {
      "text/plain": [
       "(225.0, 400.0)"
      ]
     },
     "execution_count": 6,
     "metadata": {},
     "output_type": "execute_result"
    }
   ],
   "source": [
    "# look at there mean\n",
    "sales1_distribution.var(), sales2_distribution.var()"
   ]
  },
  {
   "cell_type": "markdown",
   "id": "e9b43244",
   "metadata": {},
   "source": [
    "I will decide my null hypothesis bases on the initial question.\n",
    "- Null Hypothesis: The average time it takes to sell office one = the average time it takes to sell office 2\n",
    "- Alternate Hypothesis: The average time it takes to sell office one != the average time it takes to sell office 2\n",
    "\n",
    "**Step 3: Set Significant level**\n",
    "- 0.05 for 95% accuracy"
   ]
  },
  {
   "cell_type": "code",
   "execution_count": 7,
   "id": "f80dcbb7",
   "metadata": {},
   "outputs": [],
   "source": [
    "Alpha = 0.05"
   ]
  },
  {
   "cell_type": "markdown",
   "id": "91a5f6dd",
   "metadata": {},
   "source": [
    "**Step 4: Verify Assumptions**\n",
    "- Normal Distribution, or at least 30 observations and \"kinda\" normal. The more observations you have, the less \"normal\" it needs to appear. (CLT)\n",
    "\n",
    "**Step 5: Compute test statistic and probability (t-statistic & p-value) using**"
   ]
  },
  {
   "cell_type": "code",
   "execution_count": 8,
   "id": "c7c9375c",
   "metadata": {},
   "outputs": [
    {
     "data": {
      "text/plain": [
       "(4.4571955612322975, 0.03759047278621146)"
      ]
     },
     "execution_count": 8,
     "metadata": {},
     "output_type": "execute_result"
    }
   ],
   "source": [
    "# To identify if varience is equal or not equal we run the levene function\n",
    "# stats Levene test - returns p value. small p-value means unequal variances\n",
    "\n",
    "t_stats,p_value = stats.levene(sales1_sample_distribution,sales2_sample_distribution)\n",
    "t_stats,p_value"
   ]
  },
  {
   "cell_type": "markdown",
   "id": "bb152efe",
   "metadata": {},
   "source": [
    "With my `p_value` being greater the the `Alpha`, It shows that the **varience are equal** in the two groups.\n",
    "\n",
    "Now let plog it in the independent sample t-test."
   ]
  },
  {
   "cell_type": "code",
   "execution_count": 37,
   "id": "ed11e667",
   "metadata": {},
   "outputs": [
    {
     "data": {
      "text/plain": [
       "0.0008355672309800466"
      ]
     },
     "execution_count": 37,
     "metadata": {},
     "output_type": "execute_result"
    }
   ],
   "source": [
    "# impliment the two sample T-Test for our example\n",
    "# Equal Variances (the scipy methods we will use has an argument to handle when variances aren't equal).\n",
    "\n",
    "Final_t_stats,Final_p_value = stats.ttest_ind(sales1_sample_distribution,sales2_sample_distribution, equal_var=True)\n",
    "Final_p_value"
   ]
  },
  {
   "cell_type": "markdown",
   "id": "34f6615b",
   "metadata": {},
   "source": [
    "**Decide**"
   ]
  },
  {
   "cell_type": "code",
   "execution_count": 10,
   "id": "4b11b18a",
   "metadata": {},
   "outputs": [
    {
     "name": "stdout",
     "output_type": "stream",
     "text": [
      "We can reject the null hypothesis\n"
     ]
    }
   ],
   "source": [
    "if (t_stats > 0) and (Final_p_value < Alpha):\n",
    "    print('We can reject the null hypothesis')\n",
    "else:\n",
    "    print('we fail to reject the null hypothesis')"
   ]
  },
  {
   "cell_type": "markdown",
   "id": "3af1ec44",
   "metadata": {},
   "source": [
    "Becose the `Final_p_value` is less than the `Alpha` value, we can reject the hypothesis.\n",
    "\n",
    "**3. Load the mpg dataset and use it to answer the following questions:**"
   ]
  },
  {
   "cell_type": "code",
   "execution_count": 11,
   "id": "e01ed160",
   "metadata": {
    "scrolled": true
   },
   "outputs": [
    {
     "data": {
      "text/html": [
       "<div>\n",
       "<style scoped>\n",
       "    .dataframe tbody tr th:only-of-type {\n",
       "        vertical-align: middle;\n",
       "    }\n",
       "\n",
       "    .dataframe tbody tr th {\n",
       "        vertical-align: top;\n",
       "    }\n",
       "\n",
       "    .dataframe thead th {\n",
       "        text-align: right;\n",
       "    }\n",
       "</style>\n",
       "<table border=\"1\" class=\"dataframe\">\n",
       "  <thead>\n",
       "    <tr style=\"text-align: right;\">\n",
       "      <th></th>\n",
       "      <th>manufacturer</th>\n",
       "      <th>model</th>\n",
       "      <th>displ</th>\n",
       "      <th>year</th>\n",
       "      <th>cyl</th>\n",
       "      <th>trans</th>\n",
       "      <th>drv</th>\n",
       "      <th>cty</th>\n",
       "      <th>hwy</th>\n",
       "      <th>fl</th>\n",
       "      <th>class</th>\n",
       "    </tr>\n",
       "  </thead>\n",
       "  <tbody>\n",
       "    <tr>\n",
       "      <th>1</th>\n",
       "      <td>audi</td>\n",
       "      <td>a4</td>\n",
       "      <td>1.8</td>\n",
       "      <td>1999</td>\n",
       "      <td>4</td>\n",
       "      <td>auto(l5)</td>\n",
       "      <td>f</td>\n",
       "      <td>18</td>\n",
       "      <td>29</td>\n",
       "      <td>p</td>\n",
       "      <td>compact</td>\n",
       "    </tr>\n",
       "    <tr>\n",
       "      <th>2</th>\n",
       "      <td>audi</td>\n",
       "      <td>a4</td>\n",
       "      <td>1.8</td>\n",
       "      <td>1999</td>\n",
       "      <td>4</td>\n",
       "      <td>manual(m5)</td>\n",
       "      <td>f</td>\n",
       "      <td>21</td>\n",
       "      <td>29</td>\n",
       "      <td>p</td>\n",
       "      <td>compact</td>\n",
       "    </tr>\n",
       "    <tr>\n",
       "      <th>3</th>\n",
       "      <td>audi</td>\n",
       "      <td>a4</td>\n",
       "      <td>2.0</td>\n",
       "      <td>2008</td>\n",
       "      <td>4</td>\n",
       "      <td>manual(m6)</td>\n",
       "      <td>f</td>\n",
       "      <td>20</td>\n",
       "      <td>31</td>\n",
       "      <td>p</td>\n",
       "      <td>compact</td>\n",
       "    </tr>\n",
       "  </tbody>\n",
       "</table>\n",
       "</div>"
      ],
      "text/plain": [
       "  manufacturer model  displ  year  cyl       trans drv  cty  hwy fl    class\n",
       "1         audi    a4    1.8  1999    4    auto(l5)   f   18   29  p  compact\n",
       "2         audi    a4    1.8  1999    4  manual(m5)   f   21   29  p  compact\n",
       "3         audi    a4    2.0  2008    4  manual(m6)   f   20   31  p  compact"
      ]
     },
     "execution_count": 11,
     "metadata": {},
     "output_type": "execute_result"
    }
   ],
   "source": [
    "mpg = datasets.data(\"mpg\")\n",
    "mpg.head(3)"
   ]
  },
  {
   "cell_type": "markdown",
   "id": "7e679237",
   "metadata": {},
   "source": [
    "**a. Is there a difference in fuel-efficiency in cars from 2008 vs 1999?**\n",
    "\n",
    "Should I use arithmetic mean or harmonic mean for average mpg?\n",
    "- Arithmetic Mean: fe_am = (cty + hwy)/2\n",
    "- Harmonic Mean: fe_hm = 2/(1/cty + 1/hwy)\n",
    "\n",
    "We will use harmonic mean because it is more appropriate for taking the average of rates, such as miles per gallon."
   ]
  },
  {
   "cell_type": "code",
   "execution_count": 12,
   "id": "48c534a8",
   "metadata": {},
   "outputs": [
    {
     "data": {
      "text/html": [
       "<div>\n",
       "<style scoped>\n",
       "    .dataframe tbody tr th:only-of-type {\n",
       "        vertical-align: middle;\n",
       "    }\n",
       "\n",
       "    .dataframe tbody tr th {\n",
       "        vertical-align: top;\n",
       "    }\n",
       "\n",
       "    .dataframe thead th {\n",
       "        text-align: right;\n",
       "    }\n",
       "</style>\n",
       "<table border=\"1\" class=\"dataframe\">\n",
       "  <thead>\n",
       "    <tr style=\"text-align: right;\">\n",
       "      <th></th>\n",
       "      <th>manufacturer</th>\n",
       "      <th>model</th>\n",
       "      <th>displ</th>\n",
       "      <th>year</th>\n",
       "      <th>cyl</th>\n",
       "      <th>trans</th>\n",
       "      <th>drv</th>\n",
       "      <th>cty</th>\n",
       "      <th>hwy</th>\n",
       "      <th>fl</th>\n",
       "      <th>class</th>\n",
       "      <th>total_miles</th>\n",
       "    </tr>\n",
       "  </thead>\n",
       "  <tbody>\n",
       "    <tr>\n",
       "      <th>1</th>\n",
       "      <td>audi</td>\n",
       "      <td>a4</td>\n",
       "      <td>1.8</td>\n",
       "      <td>1999</td>\n",
       "      <td>4</td>\n",
       "      <td>auto(l5)</td>\n",
       "      <td>f</td>\n",
       "      <td>18</td>\n",
       "      <td>29</td>\n",
       "      <td>p</td>\n",
       "      <td>compact</td>\n",
       "      <td>36.034483</td>\n",
       "    </tr>\n",
       "    <tr>\n",
       "      <th>2</th>\n",
       "      <td>audi</td>\n",
       "      <td>a4</td>\n",
       "      <td>1.8</td>\n",
       "      <td>1999</td>\n",
       "      <td>4</td>\n",
       "      <td>manual(m5)</td>\n",
       "      <td>f</td>\n",
       "      <td>21</td>\n",
       "      <td>29</td>\n",
       "      <td>p</td>\n",
       "      <td>compact</td>\n",
       "      <td>42.034483</td>\n",
       "    </tr>\n",
       "    <tr>\n",
       "      <th>3</th>\n",
       "      <td>audi</td>\n",
       "      <td>a4</td>\n",
       "      <td>2.0</td>\n",
       "      <td>2008</td>\n",
       "      <td>4</td>\n",
       "      <td>manual(m6)</td>\n",
       "      <td>f</td>\n",
       "      <td>20</td>\n",
       "      <td>31</td>\n",
       "      <td>p</td>\n",
       "      <td>compact</td>\n",
       "      <td>40.032258</td>\n",
       "    </tr>\n",
       "  </tbody>\n",
       "</table>\n",
       "</div>"
      ],
      "text/plain": [
       "  manufacturer model  displ  year  cyl       trans drv  cty  hwy fl    class  \\\n",
       "1         audi    a4    1.8  1999    4    auto(l5)   f   18   29  p  compact   \n",
       "2         audi    a4    1.8  1999    4  manual(m5)   f   21   29  p  compact   \n",
       "3         audi    a4    2.0  2008    4  manual(m6)   f   20   31  p  compact   \n",
       "\n",
       "   total_miles  \n",
       "1    36.034483  \n",
       "2    42.034483  \n",
       "3    40.032258  "
      ]
     },
     "execution_count": 12,
     "metadata": {},
     "output_type": "execute_result"
    }
   ],
   "source": [
    "mpg[\"total_miles\"] = 2/(1/mpg[\"cty\"]) + (1/mpg[\"hwy\"])\n",
    "mpg.head(3)"
   ]
  },
  {
   "cell_type": "markdown",
   "id": "4ccdea78",
   "metadata": {},
   "source": [
    "**Step 1: Plot the distributions**"
   ]
  },
  {
   "cell_type": "code",
   "execution_count": 13,
   "id": "01df13b6",
   "metadata": {},
   "outputs": [
    {
     "data": {
      "text/plain": [
       "(array([ 2.,  5.,  6., 17., 18., 25., 19., 10.,  9.,  6.]),\n",
       " array([14.05306986, 17.67071963, 21.2883694 , 24.90601918, 28.52366895,\n",
       "        32.14131873, 35.7589685 , 39.37661827, 42.99426805, 46.61191782,\n",
       "        50.2295676 ]),\n",
       " <BarContainer object of 10 artists>)"
      ]
     },
     "execution_count": 13,
     "metadata": {},
     "output_type": "execute_result"
    },
    {
     "data": {
      "image/png": "[encoded data removed]",
      "text/plain": [
       "<Figure size 400x200 with 1 Axes>"
      ]
     },
     "metadata": {},
     "output_type": "display_data"
    }
   ],
   "source": [
    "# retreive only the total miles column\n",
    "cars1 = mpg[mpg[\"year\"] == 2008].total_miles\n",
    "\n",
    "# get mean and standard deviation to create the normal distribution\n",
    "cars1_mean, cars1_std = cars1.mean(), cars1.std()\n",
    "\n",
    "# get normal distribution\n",
    "cars1_dristribution = stats.norm(cars1_mean, cars1_std)\n",
    "cars1_sample_dristribution = cars1_dristribution.rvs(len(cars1))\n",
    "\n",
    "# visual\n",
    "plt.figure(figsize=(4,2))\n",
    "plt.hist(cars1_sample_dristribution)"
   ]
  },
  {
   "cell_type": "code",
   "execution_count": 14,
   "id": "98b69018",
   "metadata": {
    "scrolled": true
   },
   "outputs": [
    {
     "data": {
      "text/plain": [
       "(array([ 5., 14., 18., 23., 24., 19.,  9.,  4.,  0.,  1.]),\n",
       " array([14.19901379, 19.18439997, 24.16978615, 29.15517234, 34.14055852,\n",
       "        39.12594471, 44.11133089, 49.09671707, 54.08210326, 59.06748944,\n",
       "        64.05287562]),\n",
       " <BarContainer object of 10 artists>)"
      ]
     },
     "execution_count": 14,
     "metadata": {},
     "output_type": "execute_result"
    },
    {
     "data": {
      "image/png": "[encoded data removed]",
      "text/plain": [
       "<Figure size 400x200 with 1 Axes>"
      ]
     },
     "metadata": {},
     "output_type": "display_data"
    }
   ],
   "source": [
    "cars2 = mpg[mpg[\"year\"] == 1999].total_miles\n",
    "\n",
    "# get mean and standard deviation to create the normal distribution\n",
    "cars2_mean, cars2_std = cars2.mean(), cars2.std()\n",
    "\n",
    "# get normal distribution\n",
    "cars2_dristribution = stats.norm(cars2_mean, cars2_std)\n",
    "cars2_sample_dristribution = cars2_dristribution.rvs(len(cars2))\n",
    "\n",
    "# visual\n",
    "plt.figure(figsize=(4,2))\n",
    "plt.hist(cars2_sample_dristribution)"
   ]
  },
  {
   "cell_type": "markdown",
   "id": "1806afd6",
   "metadata": {},
   "source": [
    "**Step 2: Estabish Hypothesis**"
   ]
  },
  {
   "cell_type": "code",
   "execution_count": 15,
   "id": "b1754bc3",
   "metadata": {},
   "outputs": [
    {
     "data": {
      "text/plain": [
       "(33.447403709944105, 34.07975916744293)"
      ]
     },
     "execution_count": 15,
     "metadata": {},
     "output_type": "execute_result"
    }
   ],
   "source": [
    "# look at there mean\n",
    "cars1_dristribution.mean(), cars2_dristribution.mean()"
   ]
  },
  {
   "cell_type": "code",
   "execution_count": 16,
   "id": "10a17dc8",
   "metadata": {},
   "outputs": [
    {
     "data": {
      "text/plain": [
       "(225.0, 400.0)"
      ]
     },
     "execution_count": 16,
     "metadata": {},
     "output_type": "execute_result"
    }
   ],
   "source": [
    "# look at there varience\n",
    "sales1_distribution.var(), sales2_distribution.var()"
   ]
  },
  {
   "cell_type": "markdown",
   "id": "f0705011",
   "metadata": {},
   "source": [
    "I will decide my null hypothesis bases on the initial question.\n",
    "- Null Hypothesis: Their is no significant difference in flue efficiency between 2008 cars and 1999 cars.\n",
    "- Alternate Hypothesis: Their is a significant difference in flue efficiency between 2008 cars and 1999 cars.\n",
    "\n",
    "**Step 3: Set Significant level**\n",
    "- 0.05 for 95% accuracy"
   ]
  },
  {
   "cell_type": "code",
   "execution_count": 17,
   "id": "f4a8f145",
   "metadata": {},
   "outputs": [],
   "source": [
    "Alpha = 0.05"
   ]
  },
  {
   "cell_type": "markdown",
   "id": "67be15d0",
   "metadata": {},
   "source": [
    "**Step 4: Verify Assumptions**\n",
    "- Normal Distribution, or at least 30 observations and \"kinda\" normal. The more observations you have, the less \"normal\" it needs to appear. (CLT)\n",
    "\n",
    "**Step 5: Compute test statistic and probability (t-statistic & p-value) using**"
   ]
  },
  {
   "cell_type": "code",
   "execution_count": 18,
   "id": "59f6ec36",
   "metadata": {},
   "outputs": [
    {
     "data": {
      "text/plain": [
       "(3.0734051844373464, 0.08090336863534618)"
      ]
     },
     "execution_count": 18,
     "metadata": {},
     "output_type": "execute_result"
    }
   ],
   "source": [
    "# To identify if varience is equal or not equal we run the levene function\n",
    "# stats Levene test - returns p value. small p-value means unequal variances\n",
    "t_stats,p_value = stats.levene(cars1_sample_dristribution,cars2_sample_dristribution)\n",
    "t_stats,p_value"
   ]
  },
  {
   "cell_type": "markdown",
   "id": "15c8e32d",
   "metadata": {},
   "source": [
    "With my `p_value` being greater the the `Alpha`, It shows that the **varience are equal** in the two groups.\n",
    "\n",
    "Now let plog it in the independent sample t-test."
   ]
  },
  {
   "cell_type": "code",
   "execution_count": 19,
   "id": "777f11a3",
   "metadata": {},
   "outputs": [
    {
     "data": {
      "text/plain": [
       "0.08090336863534618"
      ]
     },
     "execution_count": 19,
     "metadata": {},
     "output_type": "execute_result"
    }
   ],
   "source": [
    "# impliment the two sample T-Test for our example\n",
    "# Equal Variances (the scipy methods we will use has an argument to handle when variances aren't equal).\n",
    "Final_t_stats,Final_p_value = stats.levene(cars1_sample_dristribution,cars2_sample_dristribution)\n",
    "Final_p_value"
   ]
  },
  {
   "cell_type": "markdown",
   "id": "6bbf3a8e",
   "metadata": {},
   "source": [
    "**Decide**"
   ]
  },
  {
   "cell_type": "code",
   "execution_count": 20,
   "id": "35b36a6f",
   "metadata": {},
   "outputs": [
    {
     "name": "stdout",
     "output_type": "stream",
     "text": [
      "we fail to reject the null hypothesis\n"
     ]
    }
   ],
   "source": [
    "if (t_stats > 0) and (Final_p_value < Alpha):\n",
    "    print('We can reject the null hypothesis')\n",
    "else:\n",
    "    print('we fail to reject the null hypothesis')"
   ]
  },
  {
   "cell_type": "markdown",
   "id": "5b02b966",
   "metadata": {},
   "source": [
    "Because the `Final_p_value` is greater than the `Alpha`, we fail to reject the null hypothesis\n",
    "\n",
    "**b. Are compact cars more fuel-efficient than the average car?**\n",
    "\n",
    "**Step 1: Plot the distributions**\n",
    "\n",
    "- Harmonic Mean: fe_hm = 2/(1/cty + 1/hwy) -> total_miles column\n",
    "\n",
    "We will use harmonic mean because it is more appropriate for taking the average of rates, such as miles per gallon."
   ]
  },
  {
   "cell_type": "code",
   "execution_count": 21,
   "id": "aa4e5ee9",
   "metadata": {},
   "outputs": [
    {
     "data": {
      "text/plain": [
       "(array([52.71354301, 30.23109526, 40.38561709, ..., 33.1172714 ,\n",
       "        45.4781431 , 42.70284579]),\n",
       " array([41.49879893, 33.70118096, 39.49688716, ..., 34.0572072 ,\n",
       "        41.46493525, 44.56000335]))"
      ]
     },
     "execution_count": 21,
     "metadata": {},
     "output_type": "execute_result"
    }
   ],
   "source": [
    "compact_cars = mpg[mpg[\"class\"] == \"compact\"].total_miles # get only compact cars\n",
    "all_cars = mpg[mpg[\"class\"] != \"compact\"].total_miles # full data with out compact cars\n",
    "\n",
    "# get mean and std for runing the distribution\n",
    "compact_cars_mean, compact_cars_std = compact_cars.mean(), compact_cars.std()\n",
    "all_cars_mean, all_cars_std = all_cars.mean(), all_cars.std()\n",
    "\n",
    "\n",
    "# get normal distribution\n",
    "compact_cars_distribution = stats.norm(compact_cars_mean,compact_cars_std)\n",
    "all_cars_distribution = stats.norm(all_cars_mean,all_cars_std)\n",
    "\n",
    "# get random values\n",
    "compact_cars_sample_distribution = compact_cars_distribution.rvs(100_000)\n",
    "all_cars_sample_distribution = compact_cars_distribution.rvs(100_000)\n",
    "\n",
    "compact_cars_sample_distribution, all_cars_sample_distribution"
   ]
  },
  {
   "cell_type": "code",
   "execution_count": 22,
   "id": "9abda90f",
   "metadata": {},
   "outputs": [
    {
     "data": {
      "text/plain": [
       "<matplotlib.legend.Legend at 0x14ee28190>"
      ]
     },
     "execution_count": 22,
     "metadata": {},
     "output_type": "execute_result"
    },
    {
     "data": {
      "image/png": "[encoded data removed]",
      "text/plain": [
       "<Figure size 500x300 with 1 Axes>"
      ]
     },
     "metadata": {},
     "output_type": "display_data"
    }
   ],
   "source": [
    "# set plot\n",
    "x = np.arange(len(compact_cars))\n",
    "y1 = compact_cars_distribution.pdf(x) # get density probability of compact cars\n",
    "y2 = all_cars_distribution.pdf(x)\n",
    "\n",
    "\n",
    "plt.figure(figsize=(5,3))\n",
    "plt.plot(x, y1, label = 'Compact Cars')\n",
    "plt.plot(x, y2, label = 'All Other Cars')\n",
    "plt.axvline(32, ls = ':')\n",
    "plt.axvline(40, ls = ':', color = 'orange')\n",
    "\n",
    "plt.legend()\n",
    "# plt.xlim(20,80)"
   ]
  },
  {
   "cell_type": "code",
   "execution_count": 23,
   "id": "5d2dffe8",
   "metadata": {},
   "outputs": [
    {
     "data": {
      "text/plain": [
       "(40.29117978849512, 32.12295511548135)"
      ]
     },
     "execution_count": 23,
     "metadata": {},
     "output_type": "execute_result"
    }
   ],
   "source": [
    "# look at there mean\n",
    "compact_cars.mean(), all_cars.mean()"
   ]
  },
  {
   "cell_type": "code",
   "execution_count": 24,
   "id": "cfcde787",
   "metadata": {},
   "outputs": [
    {
     "data": {
      "text/plain": [
       "(45.795652289800174, 65.72768133082012)"
      ]
     },
     "execution_count": 24,
     "metadata": {},
     "output_type": "execute_result"
    }
   ],
   "source": [
    "# look at there varience\n",
    "compact_cars.var(), all_cars.var()"
   ]
  },
  {
   "cell_type": "markdown",
   "id": "9453e251",
   "metadata": {},
   "source": [
    "**Step 2: Estabish Hypothesis**\n",
    "\n",
    "I will decide my null hypothesis bases on the initial question.\n",
    "- Null Hypothesis: Compact cars more fuel efficient than all other car class\n",
    "- Alternate Hypothesis: Compact cars more fuel efficient than all other car class\n",
    "\n",
    "**Step 3: Set Significant level**\n",
    "- 0.05 for 95% accuracy"
   ]
  },
  {
   "cell_type": "code",
   "execution_count": 25,
   "id": "2061df34",
   "metadata": {},
   "outputs": [],
   "source": [
    "Alpha = 0.05"
   ]
  },
  {
   "cell_type": "markdown",
   "id": "756c85c8",
   "metadata": {},
   "source": [
    "**Step 4: Verify Assumptions**\n",
    "- Normal Distribution, or at least 30 observations and \"kinda\" normal. The more observations you have, the less \"normal\" it needs to appear. (CLT)"
   ]
  },
  {
   "cell_type": "code",
   "execution_count": 26,
   "id": "e1073da8",
   "metadata": {},
   "outputs": [
    {
     "data": {
      "text/plain": [
       "47"
      ]
     },
     "execution_count": 26,
     "metadata": {},
     "output_type": "execute_result"
    }
   ],
   "source": [
    "len(compact_cars)"
   ]
  },
  {
   "cell_type": "markdown",
   "id": "973c72ff",
   "metadata": {},
   "source": [
    "**Step 5: Compute test statistic and probability (t-statistic & p-value) using**"
   ]
  },
  {
   "cell_type": "code",
   "execution_count": 27,
   "id": "01f1e5e8",
   "metadata": {},
   "outputs": [
    {
     "data": {
      "text/plain": [
       "0.08090336863534618"
      ]
     },
     "execution_count": 27,
     "metadata": {},
     "output_type": "execute_result"
    }
   ],
   "source": [
    "# impliment the one sample T-Test for our example\n",
    "# Equal Variances (the scipy methods we will use has an argument to handle when variances aren't equal).\n",
    "Final_t_stats,Final_p_value = stats.ttest_1samp(compact_cars, all_cars.mean())\n",
    "p_value"
   ]
  },
  {
   "cell_type": "markdown",
   "id": "cf0a195d",
   "metadata": {},
   "source": [
    "With my `p_value` being less the the `Alpha`, It shows that the **varience are not equal** in the two groups.\n",
    "\n",
    "**Decide**\n",
    "\n",
    "**Divide the p_value by 2 -> because we are looking at a sigle side question**"
   ]
  },
  {
   "cell_type": "code",
   "execution_count": 28,
   "id": "9894f3af",
   "metadata": {},
   "outputs": [
    {
     "name": "stdout",
     "output_type": "stream",
     "text": [
      "We can reject the null hypothesis\n"
     ]
    }
   ],
   "source": [
    "if (t_stats > 0) and ((Final_p_value/2) < Alpha):\n",
    "    print('We can reject the null hypothesis')\n",
    "else:\n",
    "    print('we fail to reject the null hypothesis')"
   ]
  },
  {
   "cell_type": "markdown",
   "id": "a14e22b4",
   "metadata": {},
   "source": [
    "Because the `Final_p_value` is Less than the `Alpha`, we can reject the null hypothesis\n",
    "\n",
    "**c. Do manual cars get better gas mileage than automatic cars?**\n",
    "\n",
    "**Step 1: Plot the distributions**"
   ]
  },
  {
   "cell_type": "code",
   "execution_count": 29,
   "id": "3fc55128",
   "metadata": {},
   "outputs": [],
   "source": [
    "# separate cars by transmission\n",
    "manual_cars = mpg[mpg.trans.str.contains(\"manu\")].total_miles\n",
    "automatic_cars = mpg[mpg.trans.str.contains(\"auto\")].total_miles\n",
    "\n",
    "# get mean and std\n",
    "manual_cars_mean, manual_cars_std = manual_cars.mean(), manual_cars.std()\n",
    "automatic_cars_mmean, automatic_cars_std = automatic_cars.mean(), automatic_cars.std()\n",
    "\n",
    "# create distribution\n",
    "manual_cars_distribution = stats.norm(manual_cars_mean, manual_cars_std)\n",
    "automatic_cars_distribution = stats.norm(automatic_cars_mmean, automatic_cars_std)\n",
    "\n",
    "# gemerate ramdom values\n",
    "manual_cars_sample_distribution = manual_cars_distribution.rvs(100_000)\n",
    "automatic_cars_sample_distribution = automatic_cars_distribution.rvs(100_000)"
   ]
  },
  {
   "cell_type": "code",
   "execution_count": 30,
   "id": "e11808d0",
   "metadata": {},
   "outputs": [
    {
     "data": {
      "text/plain": [
       "<matplotlib.legend.Legend at 0x14ee62110>"
      ]
     },
     "execution_count": 30,
     "metadata": {},
     "output_type": "execute_result"
    },
    {
     "data": {
      "image/png": "[encoded data removed]",
      "text/plain": [
       "<Figure size 600x300 with 1 Axes>"
      ]
     },
     "metadata": {},
     "output_type": "display_data"
    }
   ],
   "source": [
    "# set plot\n",
    "plt.figure(figsize=(6,3))\n",
    "plt.hist(manual_cars_sample_distribution, label= \"Manual_cars\")\n",
    "plt.hist(automatic_cars_sample_distribution, label= \"Automatic cars\", alpha=.7)\n",
    "\n",
    "plt.legend()\n",
    "# plt.xlim(20,80)"
   ]
  },
  {
   "cell_type": "code",
   "execution_count": 31,
   "id": "87a1ac33",
   "metadata": {},
   "outputs": [
    {
     "data": {
      "text/plain": [
       "(37.39176863387833, 31.984152049972298)"
      ]
     },
     "execution_count": 31,
     "metadata": {},
     "output_type": "execute_result"
    }
   ],
   "source": [
    "# look at there mean\n",
    "manual_cars.mean(), automatic_cars.mean()"
   ]
  },
  {
   "cell_type": "code",
   "execution_count": 32,
   "id": "8ec5a657",
   "metadata": {},
   "outputs": [
    {
     "data": {
      "text/plain": [
       "(80.40775958743583, 59.07832529096547)"
      ]
     },
     "execution_count": 32,
     "metadata": {},
     "output_type": "execute_result"
    }
   ],
   "source": [
    "# look at there varience\n",
    "manual_cars.var(), automatic_cars.var()"
   ]
  },
  {
   "cell_type": "markdown",
   "id": "ec2b81dc",
   "metadata": {},
   "source": [
    "**Step 2: Estabish Hypothesis**\n",
    "\n",
    "I will decide my null hypothesis bases on the initial question.\n",
    "- Null Hypothesis: Compact cars more fuel efficient than all other car class\n",
    "- Alternate Hypothesis: Compact cars more fuel efficient than all other car class\n",
    "\n",
    "**Step 3: Set Significant level**\n",
    "- 0.05 for 95% accuracy"
   ]
  },
  {
   "cell_type": "code",
   "execution_count": 33,
   "id": "d231bf7e",
   "metadata": {},
   "outputs": [],
   "source": [
    "Alpha = 0.05"
   ]
  },
  {
   "cell_type": "markdown",
   "id": "c453f25d",
   "metadata": {},
   "source": [
    "**Step 4: Verify Assumptions**\n",
    "- Normal Distribution, or at least 30 observations and \"kinda\" normal. The more observations you have, the less \"normal\" it needs to appear. (CLT)"
   ]
  },
  {
   "cell_type": "code",
   "execution_count": 34,
   "id": "8948b77e",
   "metadata": {
    "scrolled": true
   },
   "outputs": [
    {
     "data": {
      "text/plain": [
       "(77, 157)"
      ]
     },
     "execution_count": 34,
     "metadata": {},
     "output_type": "execute_result"
    }
   ],
   "source": [
    "len(manual_cars), len(automatic_cars)"
   ]
  },
  {
   "cell_type": "markdown",
   "id": "fe4bbb95",
   "metadata": {},
   "source": [
    "**Step 5: Compute test statistic and probability (t-statistic & p-value) using**"
   ]
  },
  {
   "cell_type": "code",
   "execution_count": 35,
   "id": "3bb4ab11",
   "metadata": {},
   "outputs": [
    {
     "data": {
      "text/plain": [
       "(2008.3605745315592, 0.0)"
      ]
     },
     "execution_count": 35,
     "metadata": {},
     "output_type": "execute_result"
    }
   ],
   "source": [
    "# To identify if varience is equal or not equal we run the levene function\n",
    "# stats Levene test - returns p value. small p-value means unequal variances\n",
    "t_stats,p_value = stats.levene(manual_cars_sample_distribution, automatic_cars_sample_distribution)\n",
    "t_stats,p_value"
   ]
  },
  {
   "cell_type": "markdown",
   "id": "a6170c6f",
   "metadata": {},
   "source": [
    "With my `p_value` being greater the the `Alpha`, It shows that the **varience are not equal** in the two groups.\n",
    "\n",
    "Now let plog it in the independent sample t-test."
   ]
  },
  {
   "cell_type": "code",
   "execution_count": 40,
   "id": "40262103",
   "metadata": {},
   "outputs": [
    {
     "data": {
      "text/plain": [
       "0.0"
      ]
     },
     "execution_count": 40,
     "metadata": {},
     "output_type": "execute_result"
    }
   ],
   "source": [
    "# impliment the one sample T-Test for our example\n",
    "# Equal Variances (the scipy methods we will use has an argument to handle when variances aren't equal).\n",
    "Final_t_stats,Final_p_value = stats.ttest_ind(manual_cars_sample_distribution, automatic_cars_sample_distribution, equal_var=True)\n",
    "p_value"
   ]
  },
  {
   "cell_type": "code",
   "execution_count": 41,
   "id": "8bdf3cdf",
   "metadata": {},
   "outputs": [
    {
     "name": "stdout",
     "output_type": "stream",
     "text": [
      "We can reject the null hypothesis\n"
     ]
    }
   ],
   "source": [
    "if (t_stats > 0) and (Final_p_value < Alpha):\n",
    "    print('We can reject the null hypothesis')\n",
    "else:\n",
    "    print('we fail to reject the null hypothesis')"
   ]
  },
  {
   "cell_type": "markdown",
   "id": "5352ac49",
   "metadata": {},
   "source": [
    "Because the `Final_p_value` is greater than the `Alpha`, we can reject the null hypothesis"
   ]
  }
 ],
 "metadata": {
  "kernelspec": {
   "display_name": "Python 3 (ipykernel)",
   "language": "python",
   "name": "python3"
  },
  "language_info": {
   "codemirror_mode": {
    "name": "ipython",
    "version": 3
   },
   "file_extension": ".py",
   "mimetype": "text/x-python",
   "name": "python",
   "nbconvert_exporter": "python",
   "pygments_lexer": "ipython3",
   "version": "3.10.9"
  }
 },
 "nbformat": 4,
 "nbformat_minor": 5
}

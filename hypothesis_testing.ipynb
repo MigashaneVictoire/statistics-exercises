{
 "cells": [
  {
   "cell_type": "markdown",
   "id": "cb20b5c1",
   "metadata": {},
   "source": [
    "# Hypothesis Testing\n",
    "\n",
    "For each of the following questions, formulate a null and alternative hypothesis (be as specific as you can be), then give an example of what a true positive, true negative, type I and type II errors would look like. Note that some of the questions are intentionally phrased in a vague way. It is your job to reword these as more precise questions that could be tested.\n",
    "\n",
    "1. Has the network latency gone up since we switched internet service providers?\n",
    "\n",
    "    - Null Hyp: New network lantency is > old network latency\n",
    "    - Alt Hyp: New network lantency <= old network lantency\n",
    "    \n",
    "        - True positive: Trial result  identify that new network lantency is increased (becoming greater that old network lantency), and result match initial Hypothesis.\n",
    "\n",
    "        - True negative: Trial result  identify that new network lantency is increased (becoming greater that old network lantency), and result don't match initial Hypothesis.\n",
    "\n",
    "        - False negative: Trial result  identify that new network lantency is decreased (becoming less that old network lantency), and result don't match initial Hypothesis.\n",
    "        - False positive: Trial result  identify that new network lantency is decreased (becoming less that old network lantency), and result match initial Hypothesis"
   ]
  },
  {
   "cell_type": "markdown",
   "id": "6fc4e9ac",
   "metadata": {},
   "source": [
    "2. Is the website redesign any good?\n",
    "    - Null Hyp: Website redesign is > old website design.\n",
    "    - Alt Hyp: Website redesign is <= old website design\n",
    "        - True positive: Trial result identify website redesign is better (being better than old website design) and match the initial hypothesis.\n",
    "        - True negative: Trial result identify website redesign is better (being better than old website design) and don't match the initial hypothesis.\n",
    "        - False positive: Trial result identify website redesign is worst (being less than than old website design) and match the initial hypothesis.\n",
    "        - False negative: Trial result identify website redesign is worst (being less than than old website design) and don't match the initial hypothesis."
   ]
  },
  {
   "cell_type": "markdown",
   "id": "9fe7b056",
   "metadata": {},
   "source": [
    "## Compairing the mean\n",
    "\n",
    "1. Answer with the type of test you would use (assume normal distribution):\n",
    "\n",
    "- Is there a difference in grades of students on the second floor compared to grades of all students?\n",
    "- Are adults who drink milk taller than adults who dont drink milk?\n",
    "- Is the the price of gas higher in texas or in new mexico?\n",
    "- Are there differences in stress levels between students who take data science vs students who take web development vs students who take cloud academy?"
   ]
  },
  {
   "cell_type": "code",
   "execution_count": null,
   "id": "2acaf67e",
   "metadata": {},
   "outputs": [],
   "source": []
  },
  {
   "cell_type": "markdown",
   "id": "d1ed1b3f",
   "metadata": {},
   "source": [
    "2. Ace Realty wants to determine whether the average time it takes to sell homes is different for its two offices. A sample of 40 sales from office #1 revealed a mean of 90 days and a standard deviation of 15 days. A sample of 50 sales from office #2 revealed a mean of 100 days and a standard deviation of 20 days. Use a .05 level of significance."
   ]
  },
  {
   "cell_type": "code",
   "execution_count": null,
   "id": "6f417437",
   "metadata": {},
   "outputs": [],
   "source": []
  },
  {
   "cell_type": "markdown",
   "id": "ccd55f80",
   "metadata": {},
   "source": [
    "3. Load the mpg dataset and use it to answer the following questions:\n",
    "\n",
    "- Is there a difference in fuel-efficiency in cars from 2008 vs 1999?\n",
    "- Are compact cars more fuel-efficient than the average car?\n",
    "- Do manual cars get better gas mileage than automatic cars?"
   ]
  },
  {
   "cell_type": "code",
   "execution_count": null,
   "id": "054bf9de",
   "metadata": {},
   "outputs": [],
   "source": []
  },
  {
   "cell_type": "code",
   "execution_count": null,
   "id": "32ba7d3c",
   "metadata": {},
   "outputs": [],
   "source": []
  }
 ],
 "metadata": {
  "kernelspec": {
   "display_name": "Python 3 (ipykernel)",
   "language": "python",
   "name": "python3"
  },
  "language_info": {
   "codemirror_mode": {
    "name": "ipython",
    "version": 3
   },
   "file_extension": ".py",
   "mimetype": "text/x-python",
   "name": "python",
   "nbconvert_exporter": "python",
   "pygments_lexer": "ipython3",
   "version": "3.10.9"
  }
 },
 "nbformat": 4,
 "nbformat_minor": 5
}

{
 "cells": [
  {
   "cell_type": "markdown",
   "id": "86112427",
   "metadata": {},
   "source": [
    "# Hypothesis Testing (Compairing the mean)\n",
    "\n",
    "For each of the following questions, formulate a null and alternative hypothesis (be as specific as you can be), then give an example of what a true positive, true negative, type I and type II errors would look like. Note that some of the questions are intentionally phrased in a vague way. It is your job to reword these as more precise questions that could be tested.\n",
    "\n",
    "1. Has the network latency gone up since we switched internet service providers?\n",
    "\n",
    "    - Null Hyp: New network lantency is > old network latency\n",
    "    - Alt Hyp: New network lantency <= old network lantency\n",
    "    \n",
    "        - True positive: Trial result  identify that new network lantency is increased (becoming greater that old network lantency), and result match initial Hypothesis.\n",
    "\n",
    "        - True negative: Trial result  identify that new network lantency is increased (becoming greater that old network lantency), and result don't match initial Hypothesis.\n",
    "\n",
    "        - False negative: Trial result  identify that new network lantency is decreased (becoming less that old network lantency), and result don't match initial Hypothesis.\n",
    "        - False positive: Trial result  identify that new network lantency is decreased (becoming less that old network lantency), and result match initial Hypothesis"
   ]
  },
  {
   "cell_type": "markdown",
   "id": "1bd753c3",
   "metadata": {},
   "source": [
    "2. Is the website redesign any good?\n",
    "    - Null Hyp: Website redesign is > old website design.\n",
    "    - Alt Hyp: Website redesign is <= old website design\n",
    "        - True positive: Trial result identify website redesign is better (being better than old website design) and match the initial hypothesis.\n",
    "        - True negative: Trial result identify website redesign is better (being better than old website design) and don't match the initial hypothesis.\n",
    "        - False positive: Trial result identify website redesign is worst (being less than than old website design) and match the initial hypothesis.\n",
    "        - False negative: Trial result identify website redesign is worst (being less than than old website design) and don't match the initial hypothesis."
   ]
  },
  {
   "cell_type": "markdown",
   "id": "2bff6640",
   "metadata": {},
   "source": [
    "### Tests\n",
    "_______________________________________________________________________\n",
    "\n",
    "|Goal|$H_{0}$|Data Needed|Parametric Test|Assumptions*|Non-parametric Test|  \n",
    "|---|---|---|---|---|---|  \n",
    "|Compare observed mean to theoretical one|$\\mu_{obs} = \\mu_{th}$|array-like of observed values & float of theoretical|One sample t-test: **scipy.stats.ttest_1samp**|Normally Distributed\\*\\*|One sample Wilcoxon signed rank test|   \n",
    "|Compare two observed means (independent samples)|$\\mu_{a} = \\mu_{b}$|2 array-like samples|Independent t-test (or 2-sample): **scipy.stats.ttest_ind**|Independent, Normally Distributed\\*\\*, Equal Variances\\*\\*\\*|Mann-Whitney's test|   \n",
    "|Compare several observed means (independent samples)|$\\mu_{a} = \\mu_{b} = \\mu_{n}$|n array-like samples|ANOVA: **scipy.stats.f_oneway**|Independent, Normally Distributed\\*\\*, Equal Variances|Kruskal-Wallis test|   \n",
    "\n",
    "\\*If assumptions can't be met, the equivalent non-parametric test can be used.   \n",
    "\\*\\*Normal Distribution assumption can be be met by having a large enough sample (due to Central Limit Theorem), or the data can be scaled using a Gaussian Scalar.   \n",
    "\\*\\*\\*The argument in the stats.ttest_ind() method of `equal_var` can be set to `False` to accomodate this assumption. "
   ]
  },
  {
   "cell_type": "code",
   "execution_count": 5,
   "id": "36361c67",
   "metadata": {},
   "outputs": [],
   "source": [
    "import numpy as np\n",
    "import pandas as pd\n",
    "import matplotlib.pyplot as plt\n",
    "from scipy import stats\n",
    "import seaborn as sns\n",
    "import env\n",
    "import pydataset as datasets\n",
    "import datetime\n",
    "\n",
    "np.random.seed(52)"
   ]
  },
  {
   "cell_type": "markdown",
   "id": "d5bd1b63",
   "metadata": {},
   "source": [
    "### 1. Answer with the type of test you would use (assume normal distribution):\n",
    "\n",
    "- Is there a difference in grades of students on the second floor compared to grades of all students?\n",
    "    - Since I am comparing **one** observed mean to a theoretical mean (mean of all the data), I need to use the **`One Sample T-Test`**.\n",
    "- Are adults who drink milk taller than adults who dont drink milk?\n",
    "    - Because I am comparing **two** observed means (independent samples), I will use the **`Two Sample T-Test`** or the ***`Independent T-Test`*.\n",
    "- Is the the price of gas higher in texas or in new mexico?\n",
    "    - Because I am comparing **two** observed means (independent samples), I will use the **`Two Sample T-Test`** or the ***`Independent T-Test`*.\n",
    "- Are there differences in stress levels between students who take data science vs students who take web development vs students who take cloud academy?\n",
    "    - Because I am comparing **Three** observed means (independent samples), I will use the **`ANOVA Analysis of Varience`**."
   ]
  },
  {
   "cell_type": "markdown",
   "id": "4d0f1ff4",
   "metadata": {},
   "source": [
    "### 2. Ace Realty wants to determine whether the average time it takes to sell homes is different for its two offices. A sample of 40 sales from office #1 revealed a mean of 90 days and a standard deviation of 15 days. A sample of 50 sales from office #2 revealed a mean of 100 days and a standard deviation of 20 days. Use a .05 level of significance."
   ]
  },
  {
   "cell_type": "code",
   "execution_count": 6,
   "id": "08cd953e",
   "metadata": {},
   "outputs": [],
   "source": [
    "office1_sample= 40\n",
    "office1_mean= 90\n",
    "office1_std = 15\n",
    "\n",
    "office2_sample= 50\n",
    "office2_mean = 100\n",
    "office2_std = 20"
   ]
  },
  {
   "cell_type": "markdown",
   "id": "a164a566",
   "metadata": {},
   "source": [
    "Question: whether the average time it takes to sell homes is different for its two offices.\n",
    "\n",
    "**Step 1: Plot the distributions**"
   ]
  },
  {
   "cell_type": "code",
   "execution_count": 7,
   "id": "148052a2",
   "metadata": {},
   "outputs": [],
   "source": [
    "# get distribution\n",
    "office1_distribution = stats.norm(office1_mean,office1_std)\n",
    "office2_distribution = stats.norm(office2_mean,office2_std)\n",
    "\n",
    "# get random values\n",
    "sample1 = office1_distribution.rvs(office1_sample)\n",
    "sample2 = office2_distribution.rvs(office2_sample)"
   ]
  },
  {
   "cell_type": "code",
   "execution_count": 8,
   "id": "78995215",
   "metadata": {},
   "outputs": [
    {
     "data": {
      "text/plain": [
       "<matplotlib.legend.Legend at 0x160d41d50>"
      ]
     },
     "execution_count": 8,
     "metadata": {},
     "output_type": "execute_result"
    },
    {
     "data": {
      "image/png": "[encoded data removed]",
      "text/plain": [
       "<Figure size 500x300 with 1 Axes>"
      ]
     },
     "metadata": {},
     "output_type": "display_data"
    }
   ],
   "source": [
    "plt.figure(figsize = (5,3))\n",
    "plt.hist(sample2, label = \"office2\")\n",
    "plt.hist(sample1 , color = \"red\", alpha=.5,label=\"office1\")\n",
    "\n",
    "plt.legend()"
   ]
  },
  {
   "cell_type": "markdown",
   "id": "14e80e88",
   "metadata": {},
   "source": [
    "**Step 2: Estabish Hypothesis**"
   ]
  },
  {
   "cell_type": "markdown",
   "id": "e9b43244",
   "metadata": {},
   "source": [
    "I will decide my null hypothesis bases on the initial question.\n",
    "- Null Hypothesis: The average time it takes to sell office one = the average time it takes to sell office 2\n",
    "- Alternate Hypothesis: The average time it takes to sell office one != the average time it takes to sell office 2\n",
    "\n",
    "**Step 3: Set Significant level**\n",
    "- 0.05 for 95% accuracy"
   ]
  },
  {
   "cell_type": "code",
   "execution_count": 9,
   "id": "f80dcbb7",
   "metadata": {},
   "outputs": [],
   "source": [
    "Alpha = 0.05"
   ]
  },
  {
   "cell_type": "markdown",
   "id": "d7a44433",
   "metadata": {},
   "source": [
    "**Step 4: Verify Assumptions**\n",
    "- Normal Distribution, or at least 30 observations and \"kinda\" normal. The more observations you have, the less \"normal\" it needs to appear. (CLT)"
   ]
  },
  {
   "cell_type": "code",
   "execution_count": 10,
   "id": "6683513e",
   "metadata": {},
   "outputs": [
    {
     "data": {
      "text/plain": [
       "(40, 50)"
      ]
     },
     "execution_count": 10,
     "metadata": {},
     "output_type": "execute_result"
    }
   ],
   "source": [
    "len(sample1),len(sample2)"
   ]
  },
  {
   "cell_type": "code",
   "execution_count": 11,
   "id": "19c5e050",
   "metadata": {},
   "outputs": [
    {
     "name": "stdout",
     "output_type": "stream",
     "text": [
      "P value: 0.07612367438475164\n"
     ]
    }
   ],
   "source": [
    "# To identify if varience is equal or not equal we run the levene function\n",
    "# stats Levene test - returns p value. small p-value means unequal variances\n",
    "\n",
    "t_stats, p_value = stats.levene(sample1, sample2)\n",
    "print(\"P value:\",p_value)"
   ]
  },
  {
   "cell_type": "markdown",
   "id": "91a5f6dd",
   "metadata": {},
   "source": [
    "- With my `p_value` being leess the the `Alpha`, It shows that the **varience are equal** in the two groups.\n",
    "\n",
    "Now let plog it in the independent sample t-test.\n",
    "\n",
    "**Step 5: Compute test statistic and probability (t-statistic & p-value) using**"
   ]
  },
  {
   "cell_type": "code",
   "execution_count": 12,
   "id": "5a344e17",
   "metadata": {},
   "outputs": [
    {
     "name": "stdout",
     "output_type": "stream",
     "text": [
      "Test stats 0.0\n",
      "P value: 1.0\n"
     ]
    }
   ],
   "source": [
    "# impliment the two sample T-Test for our example\n",
    "# Equal Variances (the scipy methods we will use has an argument to handle when variances aren't equal).\n",
    "\n",
    "t_stats, p_value = stats.ttest_ind(sample1,sample1)\n",
    "\n",
    "print(\"Test stats\", t_stats)\n",
    "print(\"P value:\",p_value)"
   ]
  },
  {
   "cell_type": "markdown",
   "id": "34f6615b",
   "metadata": {},
   "source": [
    "**Decide**"
   ]
  },
  {
   "cell_type": "code",
   "execution_count": 39,
   "id": "4b11b18a",
   "metadata": {},
   "outputs": [
    {
     "name": "stdout",
     "output_type": "stream",
     "text": [
      "We fail to reject the null hypothesis\n"
     ]
    }
   ],
   "source": [
    "def Prob_distribution_conclude(t_stats,p_value, alpha):\n",
    "    #evaluate p-value\n",
    "    if (t_stats > 0) and (p_value < Alpha):\n",
    "        print(\"We reject the null hypothesis\")\n",
    "    else:\n",
    "        print(\"We fail to reject the null hypothesis\")\n",
    "\n",
    "Prob_distribution_conclude(t_stats,p_value, Alpha)"
   ]
  },
  {
   "cell_type": "markdown",
   "id": "3af1ec44",
   "metadata": {},
   "source": [
    "Becose the `Final_p_value` is greater than the `Alpha` value, we fail reject the hypothesis.\n",
    "\n",
    "## 3. Load the mpg dataset and use it to answer the following questions:**"
   ]
  },
  {
   "cell_type": "code",
   "execution_count": 40,
   "id": "e01ed160",
   "metadata": {
    "scrolled": true
   },
   "outputs": [
    {
     "data": {
      "text/html": [
       "<div>\n",
       "<style scoped>\n",
       "    .dataframe tbody tr th:only-of-type {\n",
       "        vertical-align: middle;\n",
       "    }\n",
       "\n",
       "    .dataframe tbody tr th {\n",
       "        vertical-align: top;\n",
       "    }\n",
       "\n",
       "    .dataframe thead th {\n",
       "        text-align: right;\n",
       "    }\n",
       "</style>\n",
       "<table border=\"1\" class=\"dataframe\">\n",
       "  <thead>\n",
       "    <tr style=\"text-align: right;\">\n",
       "      <th></th>\n",
       "      <th>manufacturer</th>\n",
       "      <th>model</th>\n",
       "      <th>displ</th>\n",
       "      <th>year</th>\n",
       "      <th>cyl</th>\n",
       "      <th>trans</th>\n",
       "      <th>drv</th>\n",
       "      <th>cty</th>\n",
       "      <th>hwy</th>\n",
       "      <th>fl</th>\n",
       "      <th>class</th>\n",
       "    </tr>\n",
       "  </thead>\n",
       "  <tbody>\n",
       "    <tr>\n",
       "      <th>1</th>\n",
       "      <td>audi</td>\n",
       "      <td>a4</td>\n",
       "      <td>1.8</td>\n",
       "      <td>1999</td>\n",
       "      <td>4</td>\n",
       "      <td>auto(l5)</td>\n",
       "      <td>f</td>\n",
       "      <td>18</td>\n",
       "      <td>29</td>\n",
       "      <td>p</td>\n",
       "      <td>compact</td>\n",
       "    </tr>\n",
       "    <tr>\n",
       "      <th>2</th>\n",
       "      <td>audi</td>\n",
       "      <td>a4</td>\n",
       "      <td>1.8</td>\n",
       "      <td>1999</td>\n",
       "      <td>4</td>\n",
       "      <td>manual(m5)</td>\n",
       "      <td>f</td>\n",
       "      <td>21</td>\n",
       "      <td>29</td>\n",
       "      <td>p</td>\n",
       "      <td>compact</td>\n",
       "    </tr>\n",
       "    <tr>\n",
       "      <th>3</th>\n",
       "      <td>audi</td>\n",
       "      <td>a4</td>\n",
       "      <td>2.0</td>\n",
       "      <td>2008</td>\n",
       "      <td>4</td>\n",
       "      <td>manual(m6)</td>\n",
       "      <td>f</td>\n",
       "      <td>20</td>\n",
       "      <td>31</td>\n",
       "      <td>p</td>\n",
       "      <td>compact</td>\n",
       "    </tr>\n",
       "  </tbody>\n",
       "</table>\n",
       "</div>"
      ],
      "text/plain": [
       "  manufacturer model  displ  year  cyl       trans drv  cty  hwy fl    class\n",
       "1         audi    a4    1.8  1999    4    auto(l5)   f   18   29  p  compact\n",
       "2         audi    a4    1.8  1999    4  manual(m5)   f   21   29  p  compact\n",
       "3         audi    a4    2.0  2008    4  manual(m6)   f   20   31  p  compact"
      ]
     },
     "execution_count": 40,
     "metadata": {},
     "output_type": "execute_result"
    }
   ],
   "source": [
    "mpg = datasets.data(\"mpg\")\n",
    "mpg.head(3)"
   ]
  },
  {
   "cell_type": "markdown",
   "id": "7e679237",
   "metadata": {},
   "source": [
    "**a. Is there a difference in fuel-efficiency in cars from 2008 vs 1999?**\n",
    "\n",
    "Should I use arithmetic mean or harmonic mean for average mpg?\n",
    "- Arithmetic Mean: fe_am = (cty + hwy)/2\n",
    "- Harmonic Mean: fe_hm = 2/(1/cty + 1/hwy)\n",
    "\n",
    "We will use harmonic mean because it is more appropriate for taking the average of rates, such as miles per gallon.\n",
    "\n",
    "**b. Are compact cars more fuel-efficient than the average car?**\n",
    "- We will use harmonic mean because it is more appropriate for taking the average of rates, such as miles per gallon.\n",
    "\n",
    "**c. Do manual cars get better gas mileage than automatic cars?**\n"
   ]
  },
  {
   "cell_type": "markdown",
   "id": "4ccdea78",
   "metadata": {},
   "source": [
    "**Step 1: Plot the distributions**"
   ]
  },
  {
   "cell_type": "code",
   "execution_count": 41,
   "id": "01df13b6",
   "metadata": {},
   "outputs": [
    {
     "data": {
      "text/plain": [
       "(array([ 4., 12., 20., 23., 23., 15., 15.,  3.,  1.,  1.]),\n",
       " array([14.01059191, 19.07977945, 24.14896699, 29.21815453, 34.28734207,\n",
       "        39.35652961, 44.42571714, 49.49490468, 54.56409222, 59.63327976,\n",
       "        64.7024673 ]),\n",
       " <BarContainer object of 10 artists>)"
      ]
     },
     "execution_count": 41,
     "metadata": {},
     "output_type": "execute_result"
    },
    {
     "data": {
      "image/png": "[encoded data removed]",
      "text/plain": [
       "<Figure size 500x300 with 1 Axes>"
      ]
     },
     "metadata": {},
     "output_type": "display_data"
    }
   ],
   "source": [
    "# question a\n",
    "# create a column that computs for the fuel\n",
    "mpg[\"total_miles\"] = 2/(1/mpg[\"cty\"]) + (1/mpg[\"hwy\"])\n",
    "\n",
    "# retreive only the total miles column\n",
    "cars1 = mpg[mpg[\"year\"] == 2008].total_miles\n",
    "cars2 = mpg[mpg[\"year\"] == 1999].total_miles\n",
    "\n",
    "# get mean and standard deviation to create the normal distribution\n",
    "cars1_mean, cars1_std = cars1.mean(), cars1.std()\n",
    "cars2_mean, cars2_std = cars2.mean(), cars2.std()\n",
    "\n",
    "# get normal distribution\n",
    "cars1_dristribution = stats.norm(cars1_mean, cars1_std)\n",
    "cars1_sample_dristribution = cars1_dristribution.rvs(len(cars1))\n",
    "\n",
    "cars2_dristribution = stats.norm(cars2_mean, cars2_std)\n",
    "cars2_sample_dristribution = cars2_dristribution.rvs(len(cars2))\n",
    "\n",
    "# visual\n",
    "plt.figure(figsize=(5,3))\n",
    "plt.hist(cars1_sample_dristribution, color= \"orange\", label=\"2008\")\n",
    "plt.hist(cars2_sample_dristribution, alpha= 0.5, label= \"1999\")"
   ]
  },
  {
   "cell_type": "code",
   "execution_count": 42,
   "id": "98b69018",
   "metadata": {
    "scrolled": true
   },
   "outputs": [
    {
     "data": {
      "text/plain": [
       "<matplotlib.legend.Legend at 0x16132b130>"
      ]
     },
     "execution_count": 42,
     "metadata": {},
     "output_type": "execute_result"
    },
    {
     "data": {
      "image/png": "[encoded data removed]",
      "text/plain": [
       "<Figure size 500x300 with 1 Axes>"
      ]
     },
     "metadata": {},
     "output_type": "display_data"
    }
   ],
   "source": [
    "# Question b\n",
    "compact_cars = mpg[mpg[\"class\"] == \"compact\"].total_miles # get only compact cars\n",
    "all_cars = mpg[mpg[\"class\"] != \"compact\"].total_miles # full data with out compact cars\n",
    "\n",
    "# get mean and std for runing the distribution\n",
    "compact_cars_mean, compact_cars_std = compact_cars.mean(), compact_cars.std()\n",
    "all_cars_mean, all_cars_std = all_cars.mean(), all_cars.std()\n",
    "\n",
    "\n",
    "# get normal distribution\n",
    "compact_cars_distribution = stats.norm(compact_cars_mean,compact_cars_std)\n",
    "all_cars_distribution = stats.norm(all_cars_mean,all_cars_std)\n",
    "\n",
    "# get random values\n",
    "compact_cars_sample_distribution = compact_cars_distribution.rvs(len(compact_cars))\n",
    "all_cars_sample_distribution = compact_cars_distribution.rvs(len(all_cars))\n",
    "\n",
    "# set visual\n",
    "x = np.arange(len(compact_cars))\n",
    "y1 = compact_cars_distribution.pdf(x) # get density probability of compact cars\n",
    "y2 = all_cars_distribution.pdf(x)\n",
    "\n",
    "\n",
    "plt.figure(figsize=(5,3))\n",
    "plt.plot(x, y1, label = 'Compact Cars')\n",
    "plt.plot(x, y2, label = 'All Other Cars')\n",
    "plt.axvline(32, ls = ':')\n",
    "plt.axvline(40, ls = ':', color = 'orange')\n",
    "\n",
    "plt.legend()\n",
    "# plt.xlim(20,80)"
   ]
  },
  {
   "cell_type": "code",
   "execution_count": 43,
   "id": "11aff8c3",
   "metadata": {},
   "outputs": [
    {
     "data": {
      "text/plain": [
       "<matplotlib.legend.Legend at 0x16178d660>"
      ]
     },
     "execution_count": 43,
     "metadata": {},
     "output_type": "execute_result"
    },
    {
     "data": {
      "image/png": "[encoded data removed]",
      "text/plain": [
       "<Figure size 500x300 with 1 Axes>"
      ]
     },
     "metadata": {},
     "output_type": "display_data"
    }
   ],
   "source": [
    "# Question c\n",
    "# separate cars by transmission\n",
    "manual_cars = mpg[mpg.trans.str.contains(\"manu\")].total_miles\n",
    "automatic_cars = mpg[mpg.trans.str.contains(\"auto\")].total_miles\n",
    "\n",
    "# get mean and std\n",
    "manual_cars_mean, manual_cars_std = manual_cars.mean(), manual_cars.std()\n",
    "automatic_cars_mmean, automatic_cars_std = automatic_cars.mean(), automatic_cars.std()\n",
    "\n",
    "# create distribution\n",
    "manual_cars_distribution = stats.norm(manual_cars_mean, manual_cars_std)\n",
    "automatic_cars_distribution = stats.norm(automatic_cars_mmean, automatic_cars_std)\n",
    "\n",
    "# gemerate ramdom values\n",
    "manual_cars_sample_distribution = manual_cars_distribution.rvs(100_000)\n",
    "automatic_cars_sample_distribution = automatic_cars_distribution.rvs(100_000)\n",
    "\n",
    "# set visual\n",
    "plt.figure(figsize=(5,3))\n",
    "plt.hist(manual_cars_sample_distribution, label= \"Manual_cars\")\n",
    "plt.hist(automatic_cars_sample_distribution, label= \"Automatic cars\", alpha=.5)\n",
    "\n",
    "plt.legend()"
   ]
  },
  {
   "cell_type": "markdown",
   "id": "1806afd6",
   "metadata": {},
   "source": [
    "**Step 2: Estabish Hypothesis**"
   ]
  },
  {
   "cell_type": "markdown",
   "id": "f0705011",
   "metadata": {},
   "source": [
    "I will decide my null hypothesis bases on the initial question.\n",
    "\n",
    "**a**\n",
    "- Null Hypothesis: Their is no significant difference in flue efficiency between 2008 cars and 1999 cars.\n",
    "- Alternate Hypothesis: Their is a significant difference in flue efficiency between 2008 cars and 1999 cars.\n",
    "\n",
    "**b**\n",
    "- Null Hypothesis: Compact cars more fuel efficient than all other car class\n",
    "- Alternate Hypothesis: Compact cars more fuel efficient than all other car class\n",
    "\n",
    "**c**\n",
    "- Null Hypothesis: Manual cars get better gas mileage than automatic cars.\n",
    "- Alternate Hypothesis: cars get worst gas mileage than automatic cars.\n",
    "\n",
    "**Step 3: Set Significant level**\n",
    "- 0.05 for 95% accuracy"
   ]
  },
  {
   "cell_type": "code",
   "execution_count": 44,
   "id": "f4a8f145",
   "metadata": {},
   "outputs": [],
   "source": [
    "Alpha = 0.05"
   ]
  },
  {
   "cell_type": "markdown",
   "id": "8be4aeb7",
   "metadata": {},
   "source": [
    "**Step 4: Verify Assumptions**\n",
    "- Normal Distribution, or at least 30 observations and \"kinda\" normal. The more observations you have, the less \"normal\" it needs to appear. (CLT)"
   ]
  },
  {
   "cell_type": "code",
   "execution_count": 45,
   "id": "b4229176",
   "metadata": {},
   "outputs": [
    {
     "data": {
      "text/plain": [
       "(117, 117)"
      ]
     },
     "execution_count": 45,
     "metadata": {},
     "output_type": "execute_result"
    }
   ],
   "source": [
    "len(cars1),len(cars2)"
   ]
  },
  {
   "cell_type": "code",
   "execution_count": 46,
   "id": "7891f9d5",
   "metadata": {},
   "outputs": [
    {
     "data": {
      "text/plain": [
       "(47, 187)"
      ]
     },
     "execution_count": 46,
     "metadata": {},
     "output_type": "execute_result"
    }
   ],
   "source": [
    "len(compact_cars), len(all_cars)"
   ]
  },
  {
   "cell_type": "code",
   "execution_count": 47,
   "id": "47193918",
   "metadata": {},
   "outputs": [
    {
     "data": {
      "text/plain": [
       "(77, 157)"
      ]
     },
     "execution_count": 47,
     "metadata": {},
     "output_type": "execute_result"
    }
   ],
   "source": [
    "len(manual_cars), len(automatic_cars)"
   ]
  },
  {
   "cell_type": "markdown",
   "id": "67be15d0",
   "metadata": {},
   "source": [
    "**Step 5: Compute test statistic and probability (t-statistic & p-value) using**\n",
    "\n",
    "**a**"
   ]
  },
  {
   "cell_type": "code",
   "execution_count": 48,
   "id": "59f6ec36",
   "metadata": {},
   "outputs": [
    {
     "name": "stdout",
     "output_type": "stream",
     "text": [
      "P value: 0.010909902446802514\n"
     ]
    }
   ],
   "source": [
    "# question a\n",
    "# To identify if varience is equal or not equal we run the levene function\n",
    "# stats Levene test - returns p value. small p-value means unequal variances\n",
    "t_stats,p_value = stats.levene(cars1_sample_dristribution,cars2_sample_dristribution)\n",
    "print(\"P value:\",p_value)\n"
   ]
  },
  {
   "cell_type": "markdown",
   "id": "15c8e32d",
   "metadata": {},
   "source": [
    "With my `p_value` being greater the the `Alpha`, It shows that the **varience are equal** in the two groups.\n",
    "\n",
    "Now let plog it in the independent sample t-test."
   ]
  },
  {
   "cell_type": "code",
   "execution_count": 49,
   "id": "777f11a3",
   "metadata": {},
   "outputs": [
    {
     "name": "stdout",
     "output_type": "stream",
     "text": [
      "P value: 0.010909902446802514\n",
      "Test stats: 6.585620491342503\n"
     ]
    }
   ],
   "source": [
    "# impliment the two sample T-Test for our example\n",
    "# Equal Variances (the scipy methods we will use has an argument to handle when variances aren't equal).\n",
    "t_stats,p_value = stats.levene(cars1_sample_dristribution,cars2_sample_dristribution)\n",
    "\n",
    "print(\"P value:\",p_value)\n",
    "print(\"Test stats:\",t_stats)"
   ]
  },
  {
   "cell_type": "markdown",
   "id": "bff9bd17",
   "metadata": {},
   "source": [
    "**Decide**"
   ]
  },
  {
   "cell_type": "code",
   "execution_count": 50,
   "id": "74720cee",
   "metadata": {},
   "outputs": [
    {
     "name": "stdout",
     "output_type": "stream",
     "text": [
      "We reject the null hypothesis\n"
     ]
    }
   ],
   "source": [
    "Prob_distribution_conclude(t_stats,p_value, Alpha)"
   ]
  },
  {
   "cell_type": "markdown",
   "id": "697a133e",
   "metadata": {},
   "source": [
    "**b**"
   ]
  },
  {
   "cell_type": "code",
   "execution_count": 51,
   "id": "4964f027",
   "metadata": {},
   "outputs": [
    {
     "name": "stdout",
     "output_type": "stream",
     "text": [
      "P value: 1.1668929788354502e-10\n",
      "Test stats: 8.274932868047681\n"
     ]
    }
   ],
   "source": [
    "# impliment the one sample T-Test for our example\n",
    "# Equal Variances (the scipy methods we will use has an argument to handle when variances aren't equal).\n",
    "t_stats,p_value = stats.ttest_1samp(compact_cars, all_cars.mean())\n",
    "\n",
    "print(\"P value:\",p_value)\n",
    "print(\"Test stats:\",t_stats)"
   ]
  },
  {
   "cell_type": "markdown",
   "id": "88023856",
   "metadata": {},
   "source": [
    "**Decide**"
   ]
  },
  {
   "cell_type": "code",
   "execution_count": 52,
   "id": "6f532cb9",
   "metadata": {},
   "outputs": [
    {
     "name": "stdout",
     "output_type": "stream",
     "text": [
      "We reject the null hypothesis\n"
     ]
    }
   ],
   "source": [
    "def Prob_distribution_conclude_sigle_tail(t_stats,p_value, Alpha):\n",
    "    if (t_stats > 0) and ((p_value/2) < Alpha):\n",
    "        print('We reject the null hypothesis')\n",
    "    else:\n",
    "        print('we fail to reject the null hypothesis')\n",
    "\n",
    "Prob_distribution_conclude_sigle_tail(t_stats,p_value, Alpha)"
   ]
  },
  {
   "cell_type": "markdown",
   "id": "6bbf3a8e",
   "metadata": {},
   "source": [
    "**c**"
   ]
  },
  {
   "cell_type": "code",
   "execution_count": 53,
   "id": "35b36a6f",
   "metadata": {},
   "outputs": [
    {
     "name": "stdout",
     "output_type": "stream",
     "text": [
      "P value: 0.0\n"
     ]
    }
   ],
   "source": [
    "# To identify if varience is equal or not equal we run the levene function\n",
    "# stats Levene test - returns p value. small p-value means unequal variances\n",
    "t_stats,p_value = stats.levene(manual_cars_sample_distribution, automatic_cars_sample_distribution)\n",
    "\n",
    "print(\"P value:\",p_value)"
   ]
  },
  {
   "cell_type": "markdown",
   "id": "0da32d51",
   "metadata": {},
   "source": [
    "With my `p_value` being less the the `Alpha`, It shows that the **varience are not equal** in the two groups. This means that we need to turn the `equal_var = False` for our `ttest_ind`.\n",
    "\n",
    "Now let plog it in the independent sample t-test."
   ]
  },
  {
   "cell_type": "code",
   "execution_count": 54,
   "id": "9e225afb",
   "metadata": {},
   "outputs": [
    {
     "name": "stdout",
     "output_type": "stream",
     "text": [
      "P value: 0.0\n",
      "Test stats: 1976.4083952079511\n"
     ]
    }
   ],
   "source": [
    "# impliment the one sample T-Test for our example\n",
    "# Equal Variances (the scipy methods we will use has an argument to handle when variances aren't equal).\n",
    "Final_t_stats,Final_p_value = stats.ttest_ind(manual_cars_sample_distribution, automatic_cars_sample_distribution, equal_var=False)\n",
    "\n",
    "print(\"P value:\",p_value)\n",
    "print(\"Test stats:\",t_stats)"
   ]
  },
  {
   "cell_type": "markdown",
   "id": "e27b9a49",
   "metadata": {},
   "source": [
    "**Decide**"
   ]
  },
  {
   "cell_type": "code",
   "execution_count": 55,
   "id": "a0a4130b",
   "metadata": {},
   "outputs": [
    {
     "name": "stdout",
     "output_type": "stream",
     "text": [
      "We reject the null hypothesis\n"
     ]
    }
   ],
   "source": [
    "Prob_distribution_conclude_sigle_tail(t_stats,p_value, Alpha)"
   ]
  },
  {
   "cell_type": "markdown",
   "id": "e063fbc7",
   "metadata": {},
   "source": [
    "# Correlation\n",
    "\n",
    "1. Answer with the type of stats test you would use (assume normal distribution):\n",
    "- Is there a relationship between the length of your arm and the length of your foot?\n",
    "    - Pearson's R corolation\n",
    "- Do guys and gals quit their jobs at the same rate?\n",
    "    - Chi-Squred \n",
    "- Does the length of time of the lecture correlate with a students grade?\n",
    "    - pearson's R corolation beacause we have two conitniuos variables"
   ]
  },
  {
   "cell_type": "markdown",
   "id": "e58432ba",
   "metadata": {},
   "source": [
    "2. Use the telco_churn data.\n",
    "- a. Does tenure correlate with monthly charges?\n",
    "- b. Total charges?\n",
    "- c. What happens if you control for phone and internet service?"
   ]
  },
  {
   "cell_type": "code",
   "execution_count": 56,
   "id": "fb17bc6d",
   "metadata": {
    "scrolled": true
   },
   "outputs": [
    {
     "data": {
      "text/html": [
       "<div>\n",
       "<style scoped>\n",
       "    .dataframe tbody tr th:only-of-type {\n",
       "        vertical-align: middle;\n",
       "    }\n",
       "\n",
       "    .dataframe tbody tr th {\n",
       "        vertical-align: top;\n",
       "    }\n",
       "\n",
       "    .dataframe thead th {\n",
       "        text-align: right;\n",
       "    }\n",
       "</style>\n",
       "<table border=\"1\" class=\"dataframe\">\n",
       "  <thead>\n",
       "    <tr style=\"text-align: right;\">\n",
       "      <th></th>\n",
       "      <th>tenure</th>\n",
       "      <th>Monthly_Charges</th>\n",
       "      <th>total_charges</th>\n",
       "      <th>internet_service_type_id</th>\n",
       "      <th>phone_service</th>\n",
       "    </tr>\n",
       "  </thead>\n",
       "  <tbody>\n",
       "    <tr>\n",
       "      <th>0</th>\n",
       "      <td>9</td>\n",
       "      <td>65.6</td>\n",
       "      <td>593.3</td>\n",
       "      <td>1</td>\n",
       "      <td>Yes</td>\n",
       "    </tr>\n",
       "    <tr>\n",
       "      <th>1</th>\n",
       "      <td>9</td>\n",
       "      <td>59.9</td>\n",
       "      <td>542.4</td>\n",
       "      <td>1</td>\n",
       "      <td>Yes</td>\n",
       "    </tr>\n",
       "    <tr>\n",
       "      <th>2</th>\n",
       "      <td>4</td>\n",
       "      <td>73.9</td>\n",
       "      <td>280.85</td>\n",
       "      <td>2</td>\n",
       "      <td>Yes</td>\n",
       "    </tr>\n",
       "    <tr>\n",
       "      <th>3</th>\n",
       "      <td>13</td>\n",
       "      <td>98.0</td>\n",
       "      <td>1237.85</td>\n",
       "      <td>2</td>\n",
       "      <td>Yes</td>\n",
       "    </tr>\n",
       "    <tr>\n",
       "      <th>4</th>\n",
       "      <td>3</td>\n",
       "      <td>83.9</td>\n",
       "      <td>267.4</td>\n",
       "      <td>2</td>\n",
       "      <td>Yes</td>\n",
       "    </tr>\n",
       "  </tbody>\n",
       "</table>\n",
       "</div>"
      ],
      "text/plain": [
       "   tenure  Monthly_Charges total_charges  internet_service_type_id  \\\n",
       "0       9             65.6         593.3                         1   \n",
       "1       9             59.9         542.4                         1   \n",
       "2       4             73.9        280.85                         2   \n",
       "3      13             98.0       1237.85                         2   \n",
       "4       3             83.9         267.4                         2   \n",
       "\n",
       "  phone_service  \n",
       "0           Yes  \n",
       "1           Yes  \n",
       "2           Yes  \n",
       "3           Yes  \n",
       "4           Yes  "
      ]
     },
     "execution_count": 56,
     "metadata": {},
     "output_type": "execute_result"
    }
   ],
   "source": [
    "query = \"\"\"\n",
    "SELECT tenure, Monthly_Charges, total_charges, internet_service_type_id,phone_service \n",
    "FROM customers;\n",
    "\"\"\"\n",
    "\n",
    "telco = pd.read_sql(query, env.get_db_access(\"telco_churn\"))\n",
    "telco.head()"
   ]
  },
  {
   "cell_type": "markdown",
   "id": "dbfaa2b1",
   "metadata": {},
   "source": [
    "### A and B\n",
    "\n",
    "**Step 1: Determin the appropriate test**\n",
    " - Because the question is looking for correlation (relationship + significance) between two variables, I will use the pearson's r test\n",
    "\n",
    "**Step 2: Setup**\n",
    "\n",
    "- Set null and alternate hypothesis and the alpha-values ().\n",
    "\n",
    "    **a**\n",
    "\n",
    "    - $H_0$: There is no linear correlation between tenure and monthy charges.\n",
    "    - $H_a$: There is a linear correlation between tenure and monthy charges.\n",
    "\n",
    "    **b**\n",
    "\n",
    "    - $H_0$: There is no linear correlation between tenure and total charges.\n",
    "    - $H_a$: There is a linear correlation between tenure and total charges.\n"
   ]
  },
  {
   "cell_type": "code",
   "execution_count": 57,
   "id": "406d95a2",
   "metadata": {},
   "outputs": [],
   "source": [
    "# confidence level\n",
    "alpha = 0.05"
   ]
  },
  {
   "cell_type": "markdown",
   "id": "44519034",
   "metadata": {},
   "source": [
    "**Step 3: Visualize**"
   ]
  },
  {
   "cell_type": "code",
   "execution_count": 58,
   "id": "5f7ca740",
   "metadata": {},
   "outputs": [],
   "source": [
    "# a bit of cleaning\n",
    "telco = telco[telco[\"total_charges\"] != \" \"]"
   ]
  },
  {
   "cell_type": "code",
   "execution_count": 59,
   "id": "e12f611c",
   "metadata": {
    "scrolled": true
   },
   "outputs": [
    {
     "data": {
      "text/plain": [
       "<Axes: xlabel='tenure', ylabel='Monthly_Charges'>"
      ]
     },
     "execution_count": 59,
     "metadata": {},
     "output_type": "execute_result"
    },
    {
     "data": {
      "image/png": "[encoded data removed]",
      "text/plain": [
       "<Figure size 500x300 with 1 Axes>"
      ]
     },
     "metadata": {},
     "output_type": "display_data"
    }
   ],
   "source": [
    "monthly_charges = telco[\"Monthly_Charges\"]\n",
    "est_tenure = telco[\"tenure\"]\n",
    "\n",
    "plt.figure(figsize=(5,3))\n",
    "sns.scatterplot(y= monthly_charges, x= est_tenure)"
   ]
  },
  {
   "cell_type": "code",
   "execution_count": 60,
   "id": "48514f91",
   "metadata": {},
   "outputs": [
    {
     "data": {
      "text/plain": [
       "<Axes: xlabel='tenure', ylabel='total_charges'>"
      ]
     },
     "execution_count": 60,
     "metadata": {},
     "output_type": "execute_result"
    },
    {
     "data": {
      "image/png": "[encoded data removed]",
      "text/plain": [
       "<Figure size 500x300 with 1 Axes>"
      ]
     },
     "metadata": {},
     "output_type": "display_data"
    }
   ],
   "source": [
    "total_charges = telco.total_charges.astype(float)\n",
    "est_tenure = telco.tenure\n",
    "\n",
    "plt.figure(figsize=(5,3))\n",
    "sns.scatterplot(x= est_tenure, y= total_charges)"
   ]
  },
  {
   "cell_type": "markdown",
   "id": "178f02a0",
   "metadata": {},
   "source": [
    "**Step 4. Calculatate test statistics and p value**"
   ]
  },
  {
   "cell_type": "code",
   "execution_count": 61,
   "id": "6c9a8640",
   "metadata": {
    "scrolled": true
   },
   "outputs": [
    {
     "data": {
      "text/plain": [
       "(0.2468617666408956, 3.9898213232510553e-98)"
      ]
     },
     "execution_count": 61,
     "metadata": {},
     "output_type": "execute_result"
    }
   ],
   "source": [
    "r1, p_value1 = stats.pearsonr(monthly_charges, est_tenure)\n",
    "r1, p_value1"
   ]
  },
  {
   "cell_type": "code",
   "execution_count": 62,
   "id": "18543e3b",
   "metadata": {},
   "outputs": [
    {
     "data": {
      "text/plain": [
       "(0.8258804609332071, 0.0)"
      ]
     },
     "execution_count": 62,
     "metadata": {},
     "output_type": "execute_result"
    }
   ],
   "source": [
    "r2, p_value2 = stats.pearsonr(total_charges, est_tenure)\n",
    "r2, p_value2"
   ]
  },
  {
   "cell_type": "markdown",
   "id": "8770879b",
   "metadata": {},
   "source": [
    "**Step 5: Conclude**"
   ]
  },
  {
   "cell_type": "code",
   "execution_count": 67,
   "id": "e66a8282",
   "metadata": {},
   "outputs": [],
   "source": [
    "def correlation_conclude(p_value, alpha):\n",
    "    if p_value < alpha:\n",
    "        print(\"We reject the null hypothesis\")\n",
    "    else:\n",
    "        print(\"We fail to reject the null hypothesis\")"
   ]
  },
  {
   "cell_type": "code",
   "execution_count": 68,
   "id": "e9785169",
   "metadata": {},
   "outputs": [
    {
     "name": "stdout",
     "output_type": "stream",
     "text": [
      "We reject the null hypothesis\n",
      "We reject the null hypothesis\n"
     ]
    }
   ],
   "source": [
    "# a\n",
    "correlation_conclude(p_value1, alpha)\n",
    "# b\n",
    "correlation_conclude(p_value2, alpha)"
   ]
  },
  {
   "cell_type": "markdown",
   "id": "34093ad5",
   "metadata": {},
   "source": [
    "**c. What happens if you control for phone and internet service?**\n",
    "\n",
    "**Step 1: Determin the appropriate test**\n",
    " - Because the question is looking for correlation (relationship + significance) between two variables, I will use the pearson's r test\n",
    "\n",
    "**Step 2: Setup**\n",
    "\n",
    "- Set null and alternate hypothesis and the alpha-values ().\n",
    "\n",
    "    - $H_0$: There is no correlation between phone service and monthly charges or total charges service.\n",
    "    - $H_0$: There is a correlation between phone service and monthly charges or total charges service.\n",
    "    \n",
    "    - $H_02$: There is no correlation between internet service and monthly charges or total charges service.\n",
    "    - $H_a2$: There is a correlation between internet service and monthly charges or total charges service.\n",
    "    "
   ]
  },
  {
   "cell_type": "code",
   "execution_count": 93,
   "id": "f718fdcc",
   "metadata": {},
   "outputs": [
    {
     "data": {
      "text/plain": [
       "2 Yes    3096\n",
       "1 Yes    1736\n",
       "3 Yes    1520\n",
       "1 No      680\n",
       "Name: telcom_setup, dtype: int64"
      ]
     },
     "execution_count": 93,
     "metadata": {},
     "output_type": "execute_result"
    }
   ],
   "source": [
    "alpha = 0.05\n",
    "\n",
    "telco[\"telcom_setup\"] = telco.internet_service_type_id.astype(\"str\") + \" \" + telco.phone_service.astype(\"str\")\n",
    "telco.telcom_setup.value_counts()\n"
   ]
  },
  {
   "cell_type": "code",
   "execution_count": 109,
   "id": "6e843ebc",
   "metadata": {
    "scrolled": false
   },
   "outputs": [
    {
     "data": {
      "text/plain": [
       "Index(['2 Yes', '1 Yes', '3 Yes', '1 No'], dtype='object')"
      ]
     },
     "execution_count": 109,
     "metadata": {},
     "output_type": "execute_result"
    }
   ],
   "source": [
    "options = telco.telcom_setup.value_counts().index\n",
    "options"
   ]
  },
  {
   "cell_type": "markdown",
   "id": "8fd18701",
   "metadata": {},
   "source": [
    "**step 4 to 6**"
   ]
  },
  {
   "cell_type": "code",
   "execution_count": 97,
   "id": "a1f6d0de",
   "metadata": {},
   "outputs": [],
   "source": [
    "def correlation_test(x, y):\n",
    "    message = \"\"\n",
    "    corr, p = stats.pearsonr(x, y)\n",
    "    \n",
    "    if p < alpha:\n",
    "        message = \"reject the null hypothesis that there is no linear correlation. Evidence supports a linear correlation.\" \n",
    "    else:\n",
    "        message = \"fail to reject the null hypothesis that there is no linear correlation. Insufficient evidence to support a linear correlation between the two values.\"\n",
    "    \n",
    "    return corr, p, message"
   ]
  },
  {
   "cell_type": "code",
   "execution_count": 111,
   "id": "acf429c3",
   "metadata": {},
   "outputs": [
    {
     "data": {
      "text/html": [
       "<div>\n",
       "<style scoped>\n",
       "    .dataframe tbody tr th:only-of-type {\n",
       "        vertical-align: middle;\n",
       "    }\n",
       "\n",
       "    .dataframe tbody tr th {\n",
       "        vertical-align: top;\n",
       "    }\n",
       "\n",
       "    .dataframe thead th {\n",
       "        text-align: right;\n",
       "    }\n",
       "</style>\n",
       "<table border=\"1\" class=\"dataframe\">\n",
       "  <thead>\n",
       "    <tr style=\"text-align: right;\">\n",
       "      <th></th>\n",
       "      <th>option</th>\n",
       "      <th>coeficient_r</th>\n",
       "      <th>p_value</th>\n",
       "      <th>message</th>\n",
       "    </tr>\n",
       "  </thead>\n",
       "  <tbody>\n",
       "    <tr>\n",
       "      <th>0</th>\n",
       "      <td>2 Yes</td>\n",
       "      <td>0.624621</td>\n",
       "      <td>0.000000e+00</td>\n",
       "      <td>reject the null hypothesis that there is no linear correlation. Evidence supports a li...</td>\n",
       "    </tr>\n",
       "    <tr>\n",
       "      <th>1</th>\n",
       "      <td>1 Yes</td>\n",
       "      <td>0.658094</td>\n",
       "      <td>5.781402e-216</td>\n",
       "      <td>reject the null hypothesis that there is no linear correlation. Evidence supports a li...</td>\n",
       "    </tr>\n",
       "    <tr>\n",
       "      <th>2</th>\n",
       "      <td>3 Yes</td>\n",
       "      <td>0.346188</td>\n",
       "      <td>4.896605e-44</td>\n",
       "      <td>reject the null hypothesis that there is no linear correlation. Evidence supports a li...</td>\n",
       "    </tr>\n",
       "    <tr>\n",
       "      <th>3</th>\n",
       "      <td>1 No</td>\n",
       "      <td>0.592430</td>\n",
       "      <td>1.173274e-65</td>\n",
       "      <td>reject the null hypothesis that there is no linear correlation. Evidence supports a li...</td>\n",
       "    </tr>\n",
       "  </tbody>\n",
       "</table>\n",
       "</div>"
      ],
      "text/plain": [
       "  option  coeficient_r        p_value  \\\n",
       "0  2 Yes      0.624621   0.000000e+00   \n",
       "1  1 Yes      0.658094  5.781402e-216   \n",
       "2  3 Yes      0.346188   4.896605e-44   \n",
       "3   1 No      0.592430   1.173274e-65   \n",
       "\n",
       "                                                                                     message  \n",
       "0  reject the null hypothesis that there is no linear correlation. Evidence supports a li...  \n",
       "1  reject the null hypothesis that there is no linear correlation. Evidence supports a li...  \n",
       "2  reject the null hypothesis that there is no linear correlation. Evidence supports a li...  \n",
       "3  reject the null hypothesis that there is no linear correlation. Evidence supports a li...  "
      ]
     },
     "execution_count": 111,
     "metadata": {},
     "output_type": "execute_result"
    }
   ],
   "source": [
    "# Montly charges correlation\n",
    "\n",
    "output = []\n",
    "\n",
    "for i in options:\n",
    "    subset= telco[telco.telcom_setup == i]\n",
    "    coeficient_r, p_value, message = correlation_test(subset.tenure, subset.Monthly_Charges)\n",
    "    result = {\n",
    "        \"option\": i,\n",
    "        \"coeficient_r\": coeficient_r,\n",
    "        \"p_value\": p_value,\n",
    "        \"message\":message\n",
    "        \n",
    "    }\n",
    "    output.append(result)\n",
    "    \n",
    "pd.DataFrame(output)\n",
    "    "
   ]
  },
  {
   "cell_type": "code",
   "execution_count": null,
   "id": "0d1eb07f",
   "metadata": {},
   "outputs": [],
   "source": [
    "# Total charges correlation\n",
    "\n",
    "output = []\n",
    "\n",
    "for i in options:\n",
    "    subset= telco[telco.telcom_setup == i]\n",
    "    coeficient_r, p_value, message = correlation_test(subset.tenure, subset.total_charges)\n",
    "    result = {\n",
    "        \"option\": i,\n",
    "        \"coeficient_r\": coeficient_r,\n",
    "        \"p_value\": p_value,\n",
    "        \"message\":message\n",
    "        \n",
    "    }\n",
    "    output.append(result)\n",
    "    \n",
    "pd.DataFrame(output)\n",
    "    "
   ]
  },
  {
   "cell_type": "markdown",
   "id": "d098f0c4",
   "metadata": {},
   "source": [
    "we reject the null hypothesis that says there is no linear relationship between total charges and tenure.\n",
    "\n",
    "3. Use the employees database.\n",
    "- Is there a relationship between how long an employee has been with the company and their salary?\n",
    "- Is there a relationship between how long an employee has been with the company and the number of titles they have had?"
   ]
  },
  {
   "cell_type": "code",
   "execution_count": 120,
   "id": "7a2e2e0e",
   "metadata": {},
   "outputs": [
    {
     "data": {
      "text/html": [
       "<div>\n",
       "<style scoped>\n",
       "    .dataframe tbody tr th:only-of-type {\n",
       "        vertical-align: middle;\n",
       "    }\n",
       "\n",
       "    .dataframe tbody tr th {\n",
       "        vertical-align: top;\n",
       "    }\n",
       "\n",
       "    .dataframe thead th {\n",
       "        text-align: right;\n",
       "    }\n",
       "</style>\n",
       "<table border=\"1\" class=\"dataframe\">\n",
       "  <thead>\n",
       "    <tr style=\"text-align: right;\">\n",
       "      <th></th>\n",
       "      <th>days_on_job</th>\n",
       "      <th>salary</th>\n",
       "    </tr>\n",
       "  </thead>\n",
       "  <tbody>\n",
       "    <tr>\n",
       "      <th>0</th>\n",
       "      <td>13493</td>\n",
       "      <td>88958</td>\n",
       "    </tr>\n",
       "    <tr>\n",
       "      <th>1</th>\n",
       "      <td>13710</td>\n",
       "      <td>72527</td>\n",
       "    </tr>\n",
       "    <tr>\n",
       "      <th>2</th>\n",
       "      <td>13430</td>\n",
       "      <td>43311</td>\n",
       "    </tr>\n",
       "    <tr>\n",
       "      <th>3</th>\n",
       "      <td>13335</td>\n",
       "      <td>74057</td>\n",
       "    </tr>\n",
       "    <tr>\n",
       "      <th>4</th>\n",
       "      <td>12319</td>\n",
       "      <td>94692</td>\n",
       "    </tr>\n",
       "  </tbody>\n",
       "</table>\n",
       "</div>"
      ],
      "text/plain": [
       "   days_on_job  salary\n",
       "0        13493   88958\n",
       "1        13710   72527\n",
       "2        13430   43311\n",
       "3        13335   74057\n",
       "4        12319   94692"
      ]
     },
     "execution_count": 120,
     "metadata": {},
     "output_type": "execute_result"
    }
   ],
   "source": [
    "query = \"\"\"\n",
    "select datediff(curdate(), hire_date) as days_on_job, salary\n",
    "from employees\n",
    "join salaries using(emp_no)\n",
    "where to_date > curdate();\n",
    "\"\"\"\n",
    "\n",
    "employees = pd.read_sql(query, env.get_db_access(\"employees\"))\n",
    "employees.head()"
   ]
  },
  {
   "cell_type": "markdown",
   "id": "057d89c4",
   "metadata": {},
   "source": [
    "a. Is there a relationship between how long an employee has been with the company and their salary?\n",
    "\n",
    "**Step 1: Determin the appropriate test**\n",
    " - Because the question is looking for correlation (relationship + significance) between two variables, I will use the pearson's r test\n",
    "\n",
    "**Step 2: Setup**\n",
    "\n",
    "- Set null and alternate hypothesis and the alpha-values ().\n",
    "\n",
    "    **a**\n",
    "    - $H_0$: There is a relationship between how long an employee has been witht the company and thier salary.\n",
    "    - $H_a$: There is no relationship between how long an employee has been witht the company and thier salary.\n",
    "    \n",
    "    **b**\n",
    "    - $H_0$ There is no relationship between how long an employee has been witht the company and the number of titles they have had.\n",
    "    - $H_a$: There is a relationship between how long an employee has been witht the company and the number of titles they have had.\n"
   ]
  },
  {
   "cell_type": "code",
   "execution_count": 113,
   "id": "1d257fdb",
   "metadata": {},
   "outputs": [],
   "source": [
    "alpha = 0.05"
   ]
  },
  {
   "cell_type": "code",
   "execution_count": 117,
   "id": "71f8eda6",
   "metadata": {},
   "outputs": [
    {
     "data": {
      "text/plain": [
       "<Axes: xlabel='days_on_job', ylabel='salary'>"
      ]
     },
     "execution_count": 117,
     "metadata": {},
     "output_type": "execute_result"
    },
    {
     "data": {
      "image/png": "[encoded data removed]",
      "text/plain": [
       "<Figure size 500x300 with 1 Axes>"
      ]
     },
     "metadata": {},
     "output_type": "display_data"
    }
   ],
   "source": [
    "plt.figure(figsize=(5,3))\n",
    "sns.scatterplot(x=\"days_on_job\", y=\"salary\", data=employees)"
   ]
  },
  {
   "cell_type": "code",
   "execution_count": 118,
   "id": "87bffc90",
   "metadata": {},
   "outputs": [
    {
     "name": "stdout",
     "output_type": "stream",
     "text": [
      "We reject the null hypothesis\n",
      "Evidence supports the claim that there is a linear correlation\n"
     ]
    },
    {
     "data": {
      "text/plain": [
       "(0.3064625613186014, 0.0)"
      ]
     },
     "execution_count": 118,
     "metadata": {},
     "output_type": "execute_result"
    }
   ],
   "source": [
    "corr, p = stats.pearsonr(employees.days_on_job, employees.salary)\n",
    "\n",
    "if p < alpha:\n",
    "    print(\"We reject the null hypothesis\")\n",
    "    print(\"Evidence supports the claim that there is a linear correlation\")\n",
    "else:\n",
    "    print(\"We fail to reject the null hypothesis\")\n",
    "\n",
    "corr, p\n"
   ]
  },
  {
   "cell_type": "markdown",
   "id": "51fb41c8",
   "metadata": {},
   "source": [
    "**b. Is there a relationship between how long an employee has been with the company and the number of titles they have had?**"
   ]
  },
  {
   "cell_type": "code",
   "execution_count": 121,
   "id": "f6c42355",
   "metadata": {},
   "outputs": [
    {
     "data": {
      "text/html": [
       "<div>\n",
       "<style scoped>\n",
       "    .dataframe tbody tr th:only-of-type {\n",
       "        vertical-align: middle;\n",
       "    }\n",
       "\n",
       "    .dataframe tbody tr th {\n",
       "        vertical-align: top;\n",
       "    }\n",
       "\n",
       "    .dataframe thead th {\n",
       "        text-align: right;\n",
       "    }\n",
       "</style>\n",
       "<table border=\"1\" class=\"dataframe\">\n",
       "  <thead>\n",
       "    <tr style=\"text-align: right;\">\n",
       "      <th></th>\n",
       "      <th>emp_no</th>\n",
       "      <th>title_count</th>\n",
       "      <th>days_on_job</th>\n",
       "    </tr>\n",
       "  </thead>\n",
       "  <tbody>\n",
       "    <tr>\n",
       "      <th>0</th>\n",
       "      <td>10001</td>\n",
       "      <td>1</td>\n",
       "      <td>13493</td>\n",
       "    </tr>\n",
       "    <tr>\n",
       "      <th>1</th>\n",
       "      <td>10002</td>\n",
       "      <td>1</td>\n",
       "      <td>13710</td>\n",
       "    </tr>\n",
       "    <tr>\n",
       "      <th>2</th>\n",
       "      <td>10003</td>\n",
       "      <td>1</td>\n",
       "      <td>13430</td>\n",
       "    </tr>\n",
       "    <tr>\n",
       "      <th>3</th>\n",
       "      <td>10004</td>\n",
       "      <td>2</td>\n",
       "      <td>13335</td>\n",
       "    </tr>\n",
       "    <tr>\n",
       "      <th>4</th>\n",
       "      <td>10005</td>\n",
       "      <td>2</td>\n",
       "      <td>12319</td>\n",
       "    </tr>\n",
       "  </tbody>\n",
       "</table>\n",
       "</div>"
      ],
      "text/plain": [
       "   emp_no  title_count  days_on_job\n",
       "0   10001            1        13493\n",
       "1   10002            1        13710\n",
       "2   10003            1        13430\n",
       "3   10004            2        13335\n",
       "4   10005            2        12319"
      ]
     },
     "execution_count": 121,
     "metadata": {},
     "output_type": "execute_result"
    }
   ],
   "source": [
    "query= \"\"\"\n",
    "select emp_no, count(title) as title_count, datediff(curdate(), hire_date) as days_on_job\n",
    "from employees\n",
    "join titles using(emp_no)\n",
    "group by emp_no;\n",
    "\"\"\"\n",
    "\n",
    "employees = pd.read_sql(query, env.get_db_access(\"employees\"))\n",
    "employees.head()"
   ]
  },
  {
   "cell_type": "code",
   "execution_count": 123,
   "id": "5fb16e74",
   "metadata": {},
   "outputs": [
    {
     "name": "stdout",
     "output_type": "stream",
     "text": [
      "We reject the null hypothesis\n",
      "Evidence supports the claim that there is a linear correlation between tenure and number of titles\n"
     ]
    },
    {
     "data": {
      "text/plain": [
       "(0.2665989299134097, 0.0)"
      ]
     },
     "execution_count": 123,
     "metadata": {},
     "output_type": "execute_result"
    }
   ],
   "source": [
    "corr, p = stats.pearsonr(employees.days_on_job, employees.title_count)\n",
    "\n",
    "if p < alpha:\n",
    "    print(\"We reject the null hypothesis\")\n",
    "    print(\"Evidence supports the claim that there is a linear correlation between tenure and number of titles\")\n",
    "else:\n",
    "    print(\"We fail to reject the null hypothesis\")\n",
    "\n",
    "corr, p"
   ]
  },
  {
   "cell_type": "markdown",
   "id": "a834d34f",
   "metadata": {},
   "source": [
    "### 4. Use the sleepstudy data.\n",
    "- Is there a relationship between days and reaction time?"
   ]
  },
  {
   "cell_type": "code",
   "execution_count": 124,
   "id": "9df332cc",
   "metadata": {},
   "outputs": [
    {
     "data": {
      "text/html": [
       "<div>\n",
       "<style scoped>\n",
       "    .dataframe tbody tr th:only-of-type {\n",
       "        vertical-align: middle;\n",
       "    }\n",
       "\n",
       "    .dataframe tbody tr th {\n",
       "        vertical-align: top;\n",
       "    }\n",
       "\n",
       "    .dataframe thead th {\n",
       "        text-align: right;\n",
       "    }\n",
       "</style>\n",
       "<table border=\"1\" class=\"dataframe\">\n",
       "  <thead>\n",
       "    <tr style=\"text-align: right;\">\n",
       "      <th></th>\n",
       "      <th>Reaction</th>\n",
       "      <th>Days</th>\n",
       "      <th>Subject</th>\n",
       "    </tr>\n",
       "  </thead>\n",
       "  <tbody>\n",
       "    <tr>\n",
       "      <th>1</th>\n",
       "      <td>249.5600</td>\n",
       "      <td>0</td>\n",
       "      <td>308</td>\n",
       "    </tr>\n",
       "    <tr>\n",
       "      <th>2</th>\n",
       "      <td>258.7047</td>\n",
       "      <td>1</td>\n",
       "      <td>308</td>\n",
       "    </tr>\n",
       "    <tr>\n",
       "      <th>3</th>\n",
       "      <td>250.8006</td>\n",
       "      <td>2</td>\n",
       "      <td>308</td>\n",
       "    </tr>\n",
       "    <tr>\n",
       "      <th>4</th>\n",
       "      <td>321.4398</td>\n",
       "      <td>3</td>\n",
       "      <td>308</td>\n",
       "    </tr>\n",
       "    <tr>\n",
       "      <th>5</th>\n",
       "      <td>356.8519</td>\n",
       "      <td>4</td>\n",
       "      <td>308</td>\n",
       "    </tr>\n",
       "  </tbody>\n",
       "</table>\n",
       "</div>"
      ],
      "text/plain": [
       "   Reaction  Days  Subject\n",
       "1  249.5600     0      308\n",
       "2  258.7047     1      308\n",
       "3  250.8006     2      308\n",
       "4  321.4398     3      308\n",
       "5  356.8519     4      308"
      ]
     },
     "execution_count": 124,
     "metadata": {},
     "output_type": "execute_result"
    }
   ],
   "source": [
    "df = datasets.data(\"sleepstudy\")\n",
    "df.head()"
   ]
  },
  {
   "cell_type": "markdown",
   "id": "79245552",
   "metadata": {},
   "source": [
    "$H_0$:There is no linear relationship between days and reaction time\n",
    "\n",
    "$H_a$: There is a linear relationship between days and reaction time"
   ]
  },
  {
   "cell_type": "code",
   "execution_count": 126,
   "id": "527db837",
   "metadata": {},
   "outputs": [
    {
     "name": "stdout",
     "output_type": "stream",
     "text": [
      "We reject the null hypothesis\n"
     ]
    },
    {
     "data": {
      "text/plain": [
       "(0.5352302262650255, 9.89409632221439e-15)"
      ]
     },
     "execution_count": 126,
     "metadata": {},
     "output_type": "execute_result"
    }
   ],
   "source": [
    "corr, p = stats.pearsonr(df.Days, df.Reaction)\n",
    "\n",
    "if p < alpha:\n",
    "    print(\"We reject the null hypothesis\")\n",
    "else:\n",
    "    print(\"We fail to reject the null hypothesis\")\n",
    "\n",
    "corr, p"
   ]
  },
  {
   "cell_type": "markdown",
   "id": "c7a84269",
   "metadata": {},
   "source": [
    "# Comparison of Groups\n",
    "\n",
    "1. Answer with the type of stats test you would use (assume normal distribution):\n",
    "\n",
    "- Do students get better test grades if they have a rubber duck on their desk?\n",
    "    - One sample t-test\n",
    "- Does smoking affect when or not someone has lung cancer?\n",
    "    - Chi-squre test\n",
    "- Is gender independent of a person’s blood type?\n",
    "    - Chi-square test\n",
    "- A farming company wants to know if a new fertilizer has improved crop yield or not\n",
    "    - two sample t-test, indipendent t-test\n",
    "- Does the length of time of the lecture correlate with a students grade?\n",
    "     - chi-square test\n",
    "- Do people with dogs live in apartments more than people with cats?\n",
    "    - pearon'r \n",
    "    \n",
    "2. Use the following contingency table to help answer the question of whether using a macbook and being a codeup student are independent of each other.\n",
    "||Codeup Student|Not Codeup Student|\n",
    "|----|----|----|\n",
    "|Use macbook|49|20|\n",
    "|Doesn't use mackbook|1|30|\n",
    "\n",
    "$H_0$: There is NO indipendent relationshp between using macbook and being a codeup student.\n",
    "$H_a$: There is a indipendent relationshp between using macbook and being a codeup student."
   ]
  },
  {
   "cell_type": "code",
   "execution_count": 127,
   "id": "cfa2d159",
   "metadata": {},
   "outputs": [
    {
     "name": "stdout",
     "output_type": "stream",
     "text": [
      "Observed\n",
      "[[40, 20], [1, 30]]\n",
      "\n",
      "Expected\n",
      "[[27 32]\n",
      " [13 17]]\n",
      "\n",
      "----\n",
      "chi^2 = 30.7173\n",
      "p_value     = 0.0000\n"
     ]
    }
   ],
   "source": [
    "alpha = 0.05\n",
    "observed = [[40,20],\n",
    "            [1,30]]\n",
    "\n",
    "# use the chi2 function\n",
    "chi_square, p_value, degree_of_freedom, expected =stats.chi2_contingency(observed)\n",
    "\n",
    "print('Observed')\n",
    "print(observed)\n",
    "print('\\nExpected')\n",
    "print(expected.astype(int))\n",
    "print('\\n----')\n",
    "print(f'chi^2 = {chi_square:.4f}')\n",
    "print(f'p_value     = {p_value:.4f}')"
   ]
  },
  {
   "cell_type": "code",
   "execution_count": 128,
   "id": "9191d3b9",
   "metadata": {},
   "outputs": [
    {
     "name": "stdout",
     "output_type": "stream",
     "text": [
      "We reject the null\n"
     ]
    }
   ],
   "source": [
    "if p_value < alpha:\n",
    "    print('We reject the null')\n",
    "else:\n",
    "    print(\"we fail to reject the null\")"
   ]
  },
  {
   "cell_type": "markdown",
   "id": "4a2ba60c",
   "metadata": {},
   "source": [
    "Choose another 2 categorical variables from the mpg dataset and perform a $chi^2$ contingency table test with them. Be sure to state your null and alternative hypotheses."
   ]
  },
  {
   "cell_type": "code",
   "execution_count": 129,
   "id": "1d98a5bb",
   "metadata": {},
   "outputs": [
    {
     "data": {
      "text/html": [
       "<div>\n",
       "<style scoped>\n",
       "    .dataframe tbody tr th:only-of-type {\n",
       "        vertical-align: middle;\n",
       "    }\n",
       "\n",
       "    .dataframe tbody tr th {\n",
       "        vertical-align: top;\n",
       "    }\n",
       "\n",
       "    .dataframe thead th {\n",
       "        text-align: right;\n",
       "    }\n",
       "</style>\n",
       "<table border=\"1\" class=\"dataframe\">\n",
       "  <thead>\n",
       "    <tr style=\"text-align: right;\">\n",
       "      <th></th>\n",
       "      <th>1</th>\n",
       "      <th>2</th>\n",
       "      <th>3</th>\n",
       "      <th>4</th>\n",
       "      <th>5</th>\n",
       "      <th>6</th>\n",
       "      <th>7</th>\n",
       "      <th>8</th>\n",
       "      <th>9</th>\n",
       "      <th>10</th>\n",
       "    </tr>\n",
       "  </thead>\n",
       "  <tbody>\n",
       "    <tr>\n",
       "      <th>manufacturer</th>\n",
       "      <td>audi</td>\n",
       "      <td>audi</td>\n",
       "      <td>audi</td>\n",
       "      <td>audi</td>\n",
       "      <td>audi</td>\n",
       "      <td>audi</td>\n",
       "      <td>audi</td>\n",
       "      <td>audi</td>\n",
       "      <td>audi</td>\n",
       "      <td>audi</td>\n",
       "    </tr>\n",
       "    <tr>\n",
       "      <th>model</th>\n",
       "      <td>a4</td>\n",
       "      <td>a4</td>\n",
       "      <td>a4</td>\n",
       "      <td>a4</td>\n",
       "      <td>a4</td>\n",
       "      <td>a4</td>\n",
       "      <td>a4</td>\n",
       "      <td>a4 quattro</td>\n",
       "      <td>a4 quattro</td>\n",
       "      <td>a4 quattro</td>\n",
       "    </tr>\n",
       "    <tr>\n",
       "      <th>displ</th>\n",
       "      <td>1.8</td>\n",
       "      <td>1.8</td>\n",
       "      <td>2.0</td>\n",
       "      <td>2.0</td>\n",
       "      <td>2.8</td>\n",
       "      <td>2.8</td>\n",
       "      <td>3.1</td>\n",
       "      <td>1.8</td>\n",
       "      <td>1.8</td>\n",
       "      <td>2.0</td>\n",
       "    </tr>\n",
       "    <tr>\n",
       "      <th>year</th>\n",
       "      <td>1999</td>\n",
       "      <td>1999</td>\n",
       "      <td>2008</td>\n",
       "      <td>2008</td>\n",
       "      <td>1999</td>\n",
       "      <td>1999</td>\n",
       "      <td>2008</td>\n",
       "      <td>1999</td>\n",
       "      <td>1999</td>\n",
       "      <td>2008</td>\n",
       "    </tr>\n",
       "    <tr>\n",
       "      <th>cyl</th>\n",
       "      <td>4</td>\n",
       "      <td>4</td>\n",
       "      <td>4</td>\n",
       "      <td>4</td>\n",
       "      <td>6</td>\n",
       "      <td>6</td>\n",
       "      <td>6</td>\n",
       "      <td>4</td>\n",
       "      <td>4</td>\n",
       "      <td>4</td>\n",
       "    </tr>\n",
       "    <tr>\n",
       "      <th>trans</th>\n",
       "      <td>auto(l5)</td>\n",
       "      <td>manual(m5)</td>\n",
       "      <td>manual(m6)</td>\n",
       "      <td>auto(av)</td>\n",
       "      <td>auto(l5)</td>\n",
       "      <td>manual(m5)</td>\n",
       "      <td>auto(av)</td>\n",
       "      <td>manual(m5)</td>\n",
       "      <td>auto(l5)</td>\n",
       "      <td>manual(m6)</td>\n",
       "    </tr>\n",
       "    <tr>\n",
       "      <th>drv</th>\n",
       "      <td>f</td>\n",
       "      <td>f</td>\n",
       "      <td>f</td>\n",
       "      <td>f</td>\n",
       "      <td>f</td>\n",
       "      <td>f</td>\n",
       "      <td>f</td>\n",
       "      <td>4</td>\n",
       "      <td>4</td>\n",
       "      <td>4</td>\n",
       "    </tr>\n",
       "    <tr>\n",
       "      <th>cty</th>\n",
       "      <td>18</td>\n",
       "      <td>21</td>\n",
       "      <td>20</td>\n",
       "      <td>21</td>\n",
       "      <td>16</td>\n",
       "      <td>18</td>\n",
       "      <td>18</td>\n",
       "      <td>18</td>\n",
       "      <td>16</td>\n",
       "      <td>20</td>\n",
       "    </tr>\n",
       "    <tr>\n",
       "      <th>hwy</th>\n",
       "      <td>29</td>\n",
       "      <td>29</td>\n",
       "      <td>31</td>\n",
       "      <td>30</td>\n",
       "      <td>26</td>\n",
       "      <td>26</td>\n",
       "      <td>27</td>\n",
       "      <td>26</td>\n",
       "      <td>25</td>\n",
       "      <td>28</td>\n",
       "    </tr>\n",
       "    <tr>\n",
       "      <th>fl</th>\n",
       "      <td>p</td>\n",
       "      <td>p</td>\n",
       "      <td>p</td>\n",
       "      <td>p</td>\n",
       "      <td>p</td>\n",
       "      <td>p</td>\n",
       "      <td>p</td>\n",
       "      <td>p</td>\n",
       "      <td>p</td>\n",
       "      <td>p</td>\n",
       "    </tr>\n",
       "    <tr>\n",
       "      <th>class</th>\n",
       "      <td>compact</td>\n",
       "      <td>compact</td>\n",
       "      <td>compact</td>\n",
       "      <td>compact</td>\n",
       "      <td>compact</td>\n",
       "      <td>compact</td>\n",
       "      <td>compact</td>\n",
       "      <td>compact</td>\n",
       "      <td>compact</td>\n",
       "      <td>compact</td>\n",
       "    </tr>\n",
       "  </tbody>\n",
       "</table>\n",
       "</div>"
      ],
      "text/plain": [
       "                    1           2           3         4         5   \\\n",
       "manufacturer      audi        audi        audi      audi      audi   \n",
       "model               a4          a4          a4        a4        a4   \n",
       "displ              1.8         1.8         2.0       2.0       2.8   \n",
       "year              1999        1999        2008      2008      1999   \n",
       "cyl                  4           4           4         4         6   \n",
       "trans         auto(l5)  manual(m5)  manual(m6)  auto(av)  auto(l5)   \n",
       "drv                  f           f           f         f         f   \n",
       "cty                 18          21          20        21        16   \n",
       "hwy                 29          29          31        30        26   \n",
       "fl                   p           p           p         p         p   \n",
       "class          compact     compact     compact   compact   compact   \n",
       "\n",
       "                      6         7           8           9           10  \n",
       "manufacturer        audi      audi        audi        audi        audi  \n",
       "model                 a4        a4  a4 quattro  a4 quattro  a4 quattro  \n",
       "displ                2.8       3.1         1.8         1.8         2.0  \n",
       "year                1999      2008        1999        1999        2008  \n",
       "cyl                    6         6           4           4           4  \n",
       "trans         manual(m5)  auto(av)  manual(m5)    auto(l5)  manual(m6)  \n",
       "drv                    f         f           4           4           4  \n",
       "cty                   18        18          18          16          20  \n",
       "hwy                   26        27          26          25          28  \n",
       "fl                     p         p           p           p           p  \n",
       "class            compact   compact     compact     compact     compact  "
      ]
     },
     "execution_count": 129,
     "metadata": {},
     "output_type": "execute_result"
    }
   ],
   "source": [
    "mpg = datasets.data(\"mpg\")\n",
    "mpg.head(10).T"
   ]
  },
  {
   "cell_type": "code",
   "execution_count": 130,
   "id": "f748bf2d",
   "metadata": {},
   "outputs": [
    {
     "name": "stdout",
     "output_type": "stream",
     "text": [
      "<class 'pandas.core.frame.DataFrame'>\n",
      "Int64Index: 234 entries, 1 to 234\n",
      "Data columns (total 11 columns):\n",
      " #   Column        Non-Null Count  Dtype  \n",
      "---  ------        --------------  -----  \n",
      " 0   manufacturer  234 non-null    object \n",
      " 1   model         234 non-null    object \n",
      " 2   displ         234 non-null    float64\n",
      " 3   year          234 non-null    int64  \n",
      " 4   cyl           234 non-null    int64  \n",
      " 5   trans         234 non-null    object \n",
      " 6   drv           234 non-null    object \n",
      " 7   cty           234 non-null    int64  \n",
      " 8   hwy           234 non-null    int64  \n",
      " 9   fl            234 non-null    object \n",
      " 10  class         234 non-null    object \n",
      "dtypes: float64(1), int64(4), object(6)\n",
      "memory usage: 21.9+ KB\n"
     ]
    }
   ],
   "source": [
    "mpg.info()"
   ]
  },
  {
   "cell_type": "code",
   "execution_count": 131,
   "id": "1a3ec3b5",
   "metadata": {},
   "outputs": [
    {
     "data": {
      "text/plain": [
       "dodge         37\n",
       "toyota        34\n",
       "volkswagen    27\n",
       "ford          25\n",
       "chevrolet     19\n",
       "audi          18\n",
       "hyundai       14\n",
       "subaru        14\n",
       "nissan        13\n",
       "honda          9\n",
       "jeep           8\n",
       "pontiac        5\n",
       "land rover     4\n",
       "mercury        4\n",
       "lincoln        3\n",
       "Name: manufacturer, dtype: int64"
      ]
     },
     "execution_count": 131,
     "metadata": {},
     "output_type": "execute_result"
    }
   ],
   "source": [
    "mpg.manufacturer.value_counts()"
   ]
  },
  {
   "cell_type": "code",
   "execution_count": 132,
   "id": "87f067c8",
   "metadata": {},
   "outputs": [
    {
     "data": {
      "text/plain": [
       "auto(l4)      83\n",
       "manual(m5)    58\n",
       "auto(l5)      39\n",
       "manual(m6)    19\n",
       "auto(s6)      16\n",
       "auto(l6)       6\n",
       "auto(av)       5\n",
       "auto(s5)       3\n",
       "auto(s4)       3\n",
       "auto(l3)       2\n",
       "Name: trans, dtype: int64"
      ]
     },
     "execution_count": 132,
     "metadata": {},
     "output_type": "execute_result"
    }
   ],
   "source": [
    "mpg.trans.value_counts()"
   ]
  },
  {
   "cell_type": "markdown",
   "id": "5b12f1b2",
   "metadata": {},
   "source": [
    "**Step 1**: Formulate Hypothesis\n",
    "\n",
    "- $H_0$: There is no independent relationship between between Car manufacturers and transmission type.\n",
    "- $H_a$: There is independent relationship between between Car manufacturers and transmission type."
   ]
  },
  {
   "cell_type": "code",
   "execution_count": 133,
   "id": "f28159af",
   "metadata": {},
   "outputs": [
    {
     "name": "stderr",
     "output_type": "stream",
     "text": [
      "/var/folders/jq/1gsqwxz13gxf_lpnwb_27r0c0000gn/T/ipykernel_39631/712578513.py:3: FutureWarning: In a future version of pandas all arguments of Series.where except for the arguments 'cond' and 'other' will be keyword-only.\n",
      "  mpg[\"new_trans\"]=mpg[\"trans\"].where(auto, True,False)\n"
     ]
    },
    {
     "data": {
      "text/html": [
       "<div>\n",
       "<style scoped>\n",
       "    .dataframe tbody tr th:only-of-type {\n",
       "        vertical-align: middle;\n",
       "    }\n",
       "\n",
       "    .dataframe tbody tr th {\n",
       "        vertical-align: top;\n",
       "    }\n",
       "\n",
       "    .dataframe thead th {\n",
       "        text-align: right;\n",
       "    }\n",
       "</style>\n",
       "<table border=\"1\" class=\"dataframe\">\n",
       "  <thead>\n",
       "    <tr style=\"text-align: right;\">\n",
       "      <th></th>\n",
       "      <th>manufacturer</th>\n",
       "      <th>model</th>\n",
       "      <th>displ</th>\n",
       "      <th>year</th>\n",
       "      <th>cyl</th>\n",
       "      <th>trans</th>\n",
       "      <th>drv</th>\n",
       "      <th>cty</th>\n",
       "      <th>hwy</th>\n",
       "      <th>fl</th>\n",
       "      <th>class</th>\n",
       "      <th>new_trans</th>\n",
       "    </tr>\n",
       "  </thead>\n",
       "  <tbody>\n",
       "    <tr>\n",
       "      <th>1</th>\n",
       "      <td>audi</td>\n",
       "      <td>a4</td>\n",
       "      <td>1.8</td>\n",
       "      <td>1999</td>\n",
       "      <td>4</td>\n",
       "      <td>auto(l5)</td>\n",
       "      <td>f</td>\n",
       "      <td>18</td>\n",
       "      <td>29</td>\n",
       "      <td>p</td>\n",
       "      <td>compact</td>\n",
       "      <td>auto(l5)</td>\n",
       "    </tr>\n",
       "    <tr>\n",
       "      <th>2</th>\n",
       "      <td>audi</td>\n",
       "      <td>a4</td>\n",
       "      <td>1.8</td>\n",
       "      <td>1999</td>\n",
       "      <td>4</td>\n",
       "      <td>manual(m5)</td>\n",
       "      <td>f</td>\n",
       "      <td>21</td>\n",
       "      <td>29</td>\n",
       "      <td>p</td>\n",
       "      <td>compact</td>\n",
       "      <td>True</td>\n",
       "    </tr>\n",
       "    <tr>\n",
       "      <th>3</th>\n",
       "      <td>audi</td>\n",
       "      <td>a4</td>\n",
       "      <td>2.0</td>\n",
       "      <td>2008</td>\n",
       "      <td>4</td>\n",
       "      <td>manual(m6)</td>\n",
       "      <td>f</td>\n",
       "      <td>20</td>\n",
       "      <td>31</td>\n",
       "      <td>p</td>\n",
       "      <td>compact</td>\n",
       "      <td>True</td>\n",
       "    </tr>\n",
       "    <tr>\n",
       "      <th>4</th>\n",
       "      <td>audi</td>\n",
       "      <td>a4</td>\n",
       "      <td>2.0</td>\n",
       "      <td>2008</td>\n",
       "      <td>4</td>\n",
       "      <td>auto(av)</td>\n",
       "      <td>f</td>\n",
       "      <td>21</td>\n",
       "      <td>30</td>\n",
       "      <td>p</td>\n",
       "      <td>compact</td>\n",
       "      <td>auto(av)</td>\n",
       "    </tr>\n",
       "    <tr>\n",
       "      <th>5</th>\n",
       "      <td>audi</td>\n",
       "      <td>a4</td>\n",
       "      <td>2.8</td>\n",
       "      <td>1999</td>\n",
       "      <td>6</td>\n",
       "      <td>auto(l5)</td>\n",
       "      <td>f</td>\n",
       "      <td>16</td>\n",
       "      <td>26</td>\n",
       "      <td>p</td>\n",
       "      <td>compact</td>\n",
       "      <td>auto(l5)</td>\n",
       "    </tr>\n",
       "    <tr>\n",
       "      <th>...</th>\n",
       "      <td>...</td>\n",
       "      <td>...</td>\n",
       "      <td>...</td>\n",
       "      <td>...</td>\n",
       "      <td>...</td>\n",
       "      <td>...</td>\n",
       "      <td>...</td>\n",
       "      <td>...</td>\n",
       "      <td>...</td>\n",
       "      <td>...</td>\n",
       "      <td>...</td>\n",
       "      <td>...</td>\n",
       "    </tr>\n",
       "    <tr>\n",
       "      <th>230</th>\n",
       "      <td>volkswagen</td>\n",
       "      <td>passat</td>\n",
       "      <td>2.0</td>\n",
       "      <td>2008</td>\n",
       "      <td>4</td>\n",
       "      <td>auto(s6)</td>\n",
       "      <td>f</td>\n",
       "      <td>19</td>\n",
       "      <td>28</td>\n",
       "      <td>p</td>\n",
       "      <td>midsize</td>\n",
       "      <td>auto(s6)</td>\n",
       "    </tr>\n",
       "    <tr>\n",
       "      <th>231</th>\n",
       "      <td>volkswagen</td>\n",
       "      <td>passat</td>\n",
       "      <td>2.0</td>\n",
       "      <td>2008</td>\n",
       "      <td>4</td>\n",
       "      <td>manual(m6)</td>\n",
       "      <td>f</td>\n",
       "      <td>21</td>\n",
       "      <td>29</td>\n",
       "      <td>p</td>\n",
       "      <td>midsize</td>\n",
       "      <td>True</td>\n",
       "    </tr>\n",
       "    <tr>\n",
       "      <th>232</th>\n",
       "      <td>volkswagen</td>\n",
       "      <td>passat</td>\n",
       "      <td>2.8</td>\n",
       "      <td>1999</td>\n",
       "      <td>6</td>\n",
       "      <td>auto(l5)</td>\n",
       "      <td>f</td>\n",
       "      <td>16</td>\n",
       "      <td>26</td>\n",
       "      <td>p</td>\n",
       "      <td>midsize</td>\n",
       "      <td>auto(l5)</td>\n",
       "    </tr>\n",
       "    <tr>\n",
       "      <th>233</th>\n",
       "      <td>volkswagen</td>\n",
       "      <td>passat</td>\n",
       "      <td>2.8</td>\n",
       "      <td>1999</td>\n",
       "      <td>6</td>\n",
       "      <td>manual(m5)</td>\n",
       "      <td>f</td>\n",
       "      <td>18</td>\n",
       "      <td>26</td>\n",
       "      <td>p</td>\n",
       "      <td>midsize</td>\n",
       "      <td>True</td>\n",
       "    </tr>\n",
       "    <tr>\n",
       "      <th>234</th>\n",
       "      <td>volkswagen</td>\n",
       "      <td>passat</td>\n",
       "      <td>3.6</td>\n",
       "      <td>2008</td>\n",
       "      <td>6</td>\n",
       "      <td>auto(s6)</td>\n",
       "      <td>f</td>\n",
       "      <td>17</td>\n",
       "      <td>26</td>\n",
       "      <td>p</td>\n",
       "      <td>midsize</td>\n",
       "      <td>auto(s6)</td>\n",
       "    </tr>\n",
       "  </tbody>\n",
       "</table>\n",
       "<p>234 rows × 12 columns</p>\n",
       "</div>"
      ],
      "text/plain": [
       "    manufacturer   model  displ  year  cyl       trans drv  cty  hwy fl  \\\n",
       "1           audi      a4    1.8  1999    4    auto(l5)   f   18   29  p   \n",
       "2           audi      a4    1.8  1999    4  manual(m5)   f   21   29  p   \n",
       "3           audi      a4    2.0  2008    4  manual(m6)   f   20   31  p   \n",
       "4           audi      a4    2.0  2008    4    auto(av)   f   21   30  p   \n",
       "5           audi      a4    2.8  1999    6    auto(l5)   f   16   26  p   \n",
       "..           ...     ...    ...   ...  ...         ...  ..  ...  ... ..   \n",
       "230   volkswagen  passat    2.0  2008    4    auto(s6)   f   19   28  p   \n",
       "231   volkswagen  passat    2.0  2008    4  manual(m6)   f   21   29  p   \n",
       "232   volkswagen  passat    2.8  1999    6    auto(l5)   f   16   26  p   \n",
       "233   volkswagen  passat    2.8  1999    6  manual(m5)   f   18   26  p   \n",
       "234   volkswagen  passat    3.6  2008    6    auto(s6)   f   17   26  p   \n",
       "\n",
       "       class new_trans  \n",
       "1    compact  auto(l5)  \n",
       "2    compact      True  \n",
       "3    compact      True  \n",
       "4    compact  auto(av)  \n",
       "5    compact  auto(l5)  \n",
       "..       ...       ...  \n",
       "230  midsize  auto(s6)  \n",
       "231  midsize      True  \n",
       "232  midsize  auto(l5)  \n",
       "233  midsize      True  \n",
       "234  midsize  auto(s6)  \n",
       "\n",
       "[234 rows x 12 columns]"
      ]
     },
     "execution_count": 133,
     "metadata": {},
     "output_type": "execute_result"
    }
   ],
   "source": [
    "auto = mpg.trans.str.contains(\"auto\")\n",
    "\n",
    "mpg[\"new_trans\"]=mpg[\"trans\"].where(auto, True,False)\n",
    "mpg\n",
    "# mpg[\"trans\"].where(mpg.trans.str.contains(\"manu\"), \"Manual\").value_counts()\n"
   ]
  },
  {
   "cell_type": "markdown",
   "id": "ea8847dc",
   "metadata": {},
   "source": [
    "**Step 2**: Create a pivit table for the observed data"
   ]
  },
  {
   "cell_type": "code",
   "execution_count": 134,
   "id": "247e2545",
   "metadata": {},
   "outputs": [
    {
     "data": {
      "text/html": [
       "<div>\n",
       "<style scoped>\n",
       "    .dataframe tbody tr th:only-of-type {\n",
       "        vertical-align: middle;\n",
       "    }\n",
       "\n",
       "    .dataframe tbody tr th {\n",
       "        vertical-align: top;\n",
       "    }\n",
       "\n",
       "    .dataframe thead th {\n",
       "        text-align: right;\n",
       "    }\n",
       "</style>\n",
       "<table border=\"1\" class=\"dataframe\">\n",
       "  <thead>\n",
       "    <tr style=\"text-align: right;\">\n",
       "      <th>manufacturer</th>\n",
       "      <th>audi</th>\n",
       "      <th>chevrolet</th>\n",
       "      <th>dodge</th>\n",
       "      <th>ford</th>\n",
       "      <th>honda</th>\n",
       "      <th>hyundai</th>\n",
       "      <th>jeep</th>\n",
       "      <th>land rover</th>\n",
       "      <th>lincoln</th>\n",
       "      <th>mercury</th>\n",
       "      <th>nissan</th>\n",
       "      <th>pontiac</th>\n",
       "      <th>subaru</th>\n",
       "      <th>toyota</th>\n",
       "      <th>volkswagen</th>\n",
       "    </tr>\n",
       "    <tr>\n",
       "      <th>trans</th>\n",
       "      <th></th>\n",
       "      <th></th>\n",
       "      <th></th>\n",
       "      <th></th>\n",
       "      <th></th>\n",
       "      <th></th>\n",
       "      <th></th>\n",
       "      <th></th>\n",
       "      <th></th>\n",
       "      <th></th>\n",
       "      <th></th>\n",
       "      <th></th>\n",
       "      <th></th>\n",
       "      <th></th>\n",
       "      <th></th>\n",
       "    </tr>\n",
       "  </thead>\n",
       "  <tbody>\n",
       "    <tr>\n",
       "      <th>auto(av)</th>\n",
       "      <td>2</td>\n",
       "      <td>0</td>\n",
       "      <td>0</td>\n",
       "      <td>0</td>\n",
       "      <td>0</td>\n",
       "      <td>0</td>\n",
       "      <td>0</td>\n",
       "      <td>0</td>\n",
       "      <td>0</td>\n",
       "      <td>0</td>\n",
       "      <td>3</td>\n",
       "      <td>0</td>\n",
       "      <td>0</td>\n",
       "      <td>0</td>\n",
       "      <td>0</td>\n",
       "    </tr>\n",
       "    <tr>\n",
       "      <th>auto(l3)</th>\n",
       "      <td>0</td>\n",
       "      <td>0</td>\n",
       "      <td>1</td>\n",
       "      <td>0</td>\n",
       "      <td>0</td>\n",
       "      <td>0</td>\n",
       "      <td>0</td>\n",
       "      <td>0</td>\n",
       "      <td>0</td>\n",
       "      <td>0</td>\n",
       "      <td>0</td>\n",
       "      <td>0</td>\n",
       "      <td>0</td>\n",
       "      <td>1</td>\n",
       "      <td>0</td>\n",
       "    </tr>\n",
       "    <tr>\n",
       "      <th>auto(l4)</th>\n",
       "      <td>0</td>\n",
       "      <td>14</td>\n",
       "      <td>16</td>\n",
       "      <td>10</td>\n",
       "      <td>2</td>\n",
       "      <td>6</td>\n",
       "      <td>2</td>\n",
       "      <td>2</td>\n",
       "      <td>2</td>\n",
       "      <td>1</td>\n",
       "      <td>3</td>\n",
       "      <td>4</td>\n",
       "      <td>5</td>\n",
       "      <td>11</td>\n",
       "      <td>5</td>\n",
       "    </tr>\n",
       "    <tr>\n",
       "      <th>auto(l5)</th>\n",
       "      <td>5</td>\n",
       "      <td>0</td>\n",
       "      <td>11</td>\n",
       "      <td>5</td>\n",
       "      <td>2</td>\n",
       "      <td>1</td>\n",
       "      <td>6</td>\n",
       "      <td>0</td>\n",
       "      <td>0</td>\n",
       "      <td>2</td>\n",
       "      <td>1</td>\n",
       "      <td>0</td>\n",
       "      <td>0</td>\n",
       "      <td>4</td>\n",
       "      <td>2</td>\n",
       "    </tr>\n",
       "    <tr>\n",
       "      <th>auto(l6)</th>\n",
       "      <td>0</td>\n",
       "      <td>0</td>\n",
       "      <td>2</td>\n",
       "      <td>2</td>\n",
       "      <td>0</td>\n",
       "      <td>0</td>\n",
       "      <td>0</td>\n",
       "      <td>0</td>\n",
       "      <td>1</td>\n",
       "      <td>1</td>\n",
       "      <td>0</td>\n",
       "      <td>0</td>\n",
       "      <td>0</td>\n",
       "      <td>0</td>\n",
       "      <td>0</td>\n",
       "    </tr>\n",
       "    <tr>\n",
       "      <th>auto(s4)</th>\n",
       "      <td>0</td>\n",
       "      <td>0</td>\n",
       "      <td>0</td>\n",
       "      <td>0</td>\n",
       "      <td>0</td>\n",
       "      <td>0</td>\n",
       "      <td>0</td>\n",
       "      <td>0</td>\n",
       "      <td>0</td>\n",
       "      <td>0</td>\n",
       "      <td>0</td>\n",
       "      <td>1</td>\n",
       "      <td>2</td>\n",
       "      <td>0</td>\n",
       "      <td>0</td>\n",
       "    </tr>\n",
       "    <tr>\n",
       "      <th>auto(s5)</th>\n",
       "      <td>0</td>\n",
       "      <td>0</td>\n",
       "      <td>0</td>\n",
       "      <td>0</td>\n",
       "      <td>0</td>\n",
       "      <td>0</td>\n",
       "      <td>0</td>\n",
       "      <td>0</td>\n",
       "      <td>0</td>\n",
       "      <td>0</td>\n",
       "      <td>1</td>\n",
       "      <td>0</td>\n",
       "      <td>0</td>\n",
       "      <td>2</td>\n",
       "      <td>0</td>\n",
       "    </tr>\n",
       "    <tr>\n",
       "      <th>auto(s6)</th>\n",
       "      <td>4</td>\n",
       "      <td>2</td>\n",
       "      <td>0</td>\n",
       "      <td>0</td>\n",
       "      <td>0</td>\n",
       "      <td>0</td>\n",
       "      <td>0</td>\n",
       "      <td>2</td>\n",
       "      <td>0</td>\n",
       "      <td>0</td>\n",
       "      <td>0</td>\n",
       "      <td>0</td>\n",
       "      <td>0</td>\n",
       "      <td>2</td>\n",
       "      <td>6</td>\n",
       "    </tr>\n",
       "    <tr>\n",
       "      <th>manual(m5)</th>\n",
       "      <td>4</td>\n",
       "      <td>0</td>\n",
       "      <td>3</td>\n",
       "      <td>7</td>\n",
       "      <td>4</td>\n",
       "      <td>6</td>\n",
       "      <td>0</td>\n",
       "      <td>0</td>\n",
       "      <td>0</td>\n",
       "      <td>0</td>\n",
       "      <td>3</td>\n",
       "      <td>0</td>\n",
       "      <td>7</td>\n",
       "      <td>13</td>\n",
       "      <td>11</td>\n",
       "    </tr>\n",
       "    <tr>\n",
       "      <th>manual(m6)</th>\n",
       "      <td>3</td>\n",
       "      <td>3</td>\n",
       "      <td>4</td>\n",
       "      <td>1</td>\n",
       "      <td>1</td>\n",
       "      <td>1</td>\n",
       "      <td>0</td>\n",
       "      <td>0</td>\n",
       "      <td>0</td>\n",
       "      <td>0</td>\n",
       "      <td>2</td>\n",
       "      <td>0</td>\n",
       "      <td>0</td>\n",
       "      <td>1</td>\n",
       "      <td>3</td>\n",
       "    </tr>\n",
       "  </tbody>\n",
       "</table>\n",
       "</div>"
      ],
      "text/plain": [
       "manufacturer  audi  chevrolet  dodge  ford  honda  hyundai  jeep  land rover  \\\n",
       "trans                                                                          \n",
       "auto(av)         2          0      0     0      0        0     0           0   \n",
       "auto(l3)         0          0      1     0      0        0     0           0   \n",
       "auto(l4)         0         14     16    10      2        6     2           2   \n",
       "auto(l5)         5          0     11     5      2        1     6           0   \n",
       "auto(l6)         0          0      2     2      0        0     0           0   \n",
       "auto(s4)         0          0      0     0      0        0     0           0   \n",
       "auto(s5)         0          0      0     0      0        0     0           0   \n",
       "auto(s6)         4          2      0     0      0        0     0           2   \n",
       "manual(m5)       4          0      3     7      4        6     0           0   \n",
       "manual(m6)       3          3      4     1      1        1     0           0   \n",
       "\n",
       "manufacturer  lincoln  mercury  nissan  pontiac  subaru  toyota  volkswagen  \n",
       "trans                                                                        \n",
       "auto(av)            0        0       3        0       0       0           0  \n",
       "auto(l3)            0        0       0        0       0       1           0  \n",
       "auto(l4)            2        1       3        4       5      11           5  \n",
       "auto(l5)            0        2       1        0       0       4           2  \n",
       "auto(l6)            1        1       0        0       0       0           0  \n",
       "auto(s4)            0        0       0        1       2       0           0  \n",
       "auto(s5)            0        0       1        0       0       2           0  \n",
       "auto(s6)            0        0       0        0       0       2           6  \n",
       "manual(m5)          0        0       3        0       7      13          11  \n",
       "manual(m6)          0        0       2        0       0       1           3  "
      ]
     },
     "execution_count": 134,
     "metadata": {},
     "output_type": "execute_result"
    }
   ],
   "source": [
    "alpha= 0.05\n",
    "\n",
    "# use crosstab function\n",
    "observed = pd.crosstab(mpg.trans, mpg.manufacturer)\n",
    "observed"
   ]
  },
  {
   "cell_type": "markdown",
   "id": "35902c5f",
   "metadata": {},
   "source": [
    "**Step 3**: create the Chi squared contegency table"
   ]
  },
  {
   "cell_type": "code",
   "execution_count": 135,
   "id": "1d204a7c",
   "metadata": {},
   "outputs": [
    {
     "name": "stdout",
     "output_type": "stream",
     "text": [
      "Observed\n",
      "manufacturer  audi  chevrolet  dodge  ford  honda  hyundai  jeep  land rover  \\\n",
      "trans                                                                          \n",
      "auto(av)         2          0      0     0      0        0     0           0   \n",
      "auto(l3)         0          0      1     0      0        0     0           0   \n",
      "auto(l4)         0         14     16    10      2        6     2           2   \n",
      "auto(l5)         5          0     11     5      2        1     6           0   \n",
      "auto(l6)         0          0      2     2      0        0     0           0   \n",
      "auto(s4)         0          0      0     0      0        0     0           0   \n",
      "auto(s5)         0          0      0     0      0        0     0           0   \n",
      "auto(s6)         4          2      0     0      0        0     0           2   \n",
      "manual(m5)       4          0      3     7      4        6     0           0   \n",
      "manual(m6)       3          3      4     1      1        1     0           0   \n",
      "\n",
      "manufacturer  lincoln  mercury  nissan  pontiac  subaru  toyota  volkswagen  \n",
      "trans                                                                        \n",
      "auto(av)            0        0       3        0       0       0           0  \n",
      "auto(l3)            0        0       0        0       0       1           0  \n",
      "auto(l4)            2        1       3        4       5      11           5  \n",
      "auto(l5)            0        2       1        0       0       4           2  \n",
      "auto(l6)            1        1       0        0       0       0           0  \n",
      "auto(s4)            0        0       0        1       2       0           0  \n",
      "auto(s5)            0        0       1        0       0       2           0  \n",
      "auto(s6)            0        0       0        0       0       2           6  \n",
      "manual(m5)          0        0       3        0       7      13          11  \n",
      "manual(m6)          0        0       2        0       0       1           3  \n",
      "\n",
      "Expected\n",
      "[[ 0  0  0  0  0  0  0  0  0  0  0  0  0  0  0]\n",
      " [ 0  0  0  0  0  0  0  0  0  0  0  0  0  0  0]\n",
      " [ 6  6 13  8  3  4  2  1  1  1  4  1  4 12  9]\n",
      " [ 3  3  6  4  1  2  1  0  0  0  2  0  2  5  4]\n",
      " [ 0  0  0  0  0  0  0  0  0  0  0  0  0  0  0]\n",
      " [ 0  0  0  0  0  0  0  0  0  0  0  0  0  0  0]\n",
      " [ 0  0  0  0  0  0  0  0  0  0  0  0  0  0  0]\n",
      " [ 1  1  2  1  0  0  0  0  0  0  0  0  0  2  1]\n",
      " [ 4  4  9  6  2  3  1  0  0  0  3  1  3  8  6]\n",
      " [ 1  1  3  2  0  1  0  0  0  0  1  0  1  2  2]]\n",
      "\n",
      "----\n",
      "chi^2 = 246.9191\n",
      "p_value     = 0.0000\n"
     ]
    }
   ],
   "source": [
    "# use chi2_contingency functino\n",
    "chi_square, p_value, degree_of_freedom, expected = stats.chi2_contingency(observed)\n",
    "\n",
    "print('Observed')\n",
    "print(observed)\n",
    "print('\\nExpected')\n",
    "print(expected.astype(int))\n",
    "print('\\n----')\n",
    "print(f'chi^2 = {chi_square:.4f}')\n",
    "print(f'p_value     = {p_value:.4f}')"
   ]
  },
  {
   "cell_type": "markdown",
   "id": "0a7978c5",
   "metadata": {},
   "source": [
    "**Step 3**: conclusion"
   ]
  },
  {
   "cell_type": "code",
   "execution_count": 136,
   "id": "a5f3723f",
   "metadata": {},
   "outputs": [
    {
     "name": "stdout",
     "output_type": "stream",
     "text": [
      "We reject the null\n"
     ]
    }
   ],
   "source": [
    "if p_value < alpha:\n",
    "    print('We reject the null')\n",
    "else:\n",
    "    print(\"we fail to reject the null\")"
   ]
  },
  {
   "cell_type": "markdown",
   "id": "fef8cb0d",
   "metadata": {},
   "source": [
    "4. Use the data from the employees database to answer these questions:\n",
    "\n",
    "- Is an employee's gender independent of whether an employee works in sales or marketing? (only look at current employees)"
   ]
  },
  {
   "cell_type": "code",
   "execution_count": 137,
   "id": "6c4fece8",
   "metadata": {},
   "outputs": [
    {
     "data": {
      "text/html": [
       "<div>\n",
       "<style scoped>\n",
       "    .dataframe tbody tr th:only-of-type {\n",
       "        vertical-align: middle;\n",
       "    }\n",
       "\n",
       "    .dataframe tbody tr th {\n",
       "        vertical-align: top;\n",
       "    }\n",
       "\n",
       "    .dataframe thead th {\n",
       "        text-align: right;\n",
       "    }\n",
       "</style>\n",
       "<table border=\"1\" class=\"dataframe\">\n",
       "  <thead>\n",
       "    <tr style=\"text-align: right;\">\n",
       "      <th></th>\n",
       "      <th>emp_no</th>\n",
       "      <th>birth_date</th>\n",
       "      <th>first_name</th>\n",
       "      <th>last_name</th>\n",
       "      <th>gender</th>\n",
       "      <th>hire_date</th>\n",
       "      <th>title</th>\n",
       "      <th>from_date</th>\n",
       "      <th>to_date</th>\n",
       "    </tr>\n",
       "  </thead>\n",
       "  <tbody>\n",
       "    <tr>\n",
       "      <th>0</th>\n",
       "      <td>10001</td>\n",
       "      <td>1953-09-02</td>\n",
       "      <td>Georgi</td>\n",
       "      <td>Facello</td>\n",
       "      <td>M</td>\n",
       "      <td>1986-06-26</td>\n",
       "      <td>Senior Engineer</td>\n",
       "      <td>1986-06-26</td>\n",
       "      <td>9999-01-01</td>\n",
       "    </tr>\n",
       "    <tr>\n",
       "      <th>1</th>\n",
       "      <td>10002</td>\n",
       "      <td>1964-06-02</td>\n",
       "      <td>Bezalel</td>\n",
       "      <td>Simmel</td>\n",
       "      <td>F</td>\n",
       "      <td>1985-11-21</td>\n",
       "      <td>Staff</td>\n",
       "      <td>1996-08-03</td>\n",
       "      <td>9999-01-01</td>\n",
       "    </tr>\n",
       "    <tr>\n",
       "      <th>2</th>\n",
       "      <td>10003</td>\n",
       "      <td>1959-12-03</td>\n",
       "      <td>Parto</td>\n",
       "      <td>Bamford</td>\n",
       "      <td>M</td>\n",
       "      <td>1986-08-28</td>\n",
       "      <td>Senior Engineer</td>\n",
       "      <td>1995-12-03</td>\n",
       "      <td>9999-01-01</td>\n",
       "    </tr>\n",
       "    <tr>\n",
       "      <th>3</th>\n",
       "      <td>10004</td>\n",
       "      <td>1954-05-01</td>\n",
       "      <td>Chirstian</td>\n",
       "      <td>Koblick</td>\n",
       "      <td>M</td>\n",
       "      <td>1986-12-01</td>\n",
       "      <td>Engineer</td>\n",
       "      <td>1986-12-01</td>\n",
       "      <td>1995-12-01</td>\n",
       "    </tr>\n",
       "    <tr>\n",
       "      <th>4</th>\n",
       "      <td>10004</td>\n",
       "      <td>1954-05-01</td>\n",
       "      <td>Chirstian</td>\n",
       "      <td>Koblick</td>\n",
       "      <td>M</td>\n",
       "      <td>1986-12-01</td>\n",
       "      <td>Senior Engineer</td>\n",
       "      <td>1995-12-01</td>\n",
       "      <td>9999-01-01</td>\n",
       "    </tr>\n",
       "  </tbody>\n",
       "</table>\n",
       "</div>"
      ],
      "text/plain": [
       "   emp_no  birth_date first_name last_name gender   hire_date  \\\n",
       "0   10001  1953-09-02     Georgi   Facello      M  1986-06-26   \n",
       "1   10002  1964-06-02    Bezalel    Simmel      F  1985-11-21   \n",
       "2   10003  1959-12-03      Parto   Bamford      M  1986-08-28   \n",
       "3   10004  1954-05-01  Chirstian   Koblick      M  1986-12-01   \n",
       "4   10004  1954-05-01  Chirstian   Koblick      M  1986-12-01   \n",
       "\n",
       "             title   from_date     to_date  \n",
       "0  Senior Engineer  1986-06-26  9999-01-01  \n",
       "1            Staff  1996-08-03  9999-01-01  \n",
       "2  Senior Engineer  1995-12-03  9999-01-01  \n",
       "3         Engineer  1986-12-01  1995-12-01  \n",
       "4  Senior Engineer  1995-12-01  9999-01-01  "
      ]
     },
     "execution_count": 137,
     "metadata": {},
     "output_type": "execute_result"
    }
   ],
   "source": [
    "query = \"\"\"\n",
    "SELECT * \n",
    "FROM employees\n",
    "JOIN titles USING(emp_no);\n",
    "\"\"\"\n",
    "\n",
    "employees = pd.read_sql(query, env.get_db_access(\"employees\"))\n",
    "employees.head()"
   ]
  },
  {
   "cell_type": "markdown",
   "id": "a8bec9c2",
   "metadata": {},
   "source": []
  },
  {
   "cell_type": "code",
   "execution_count": 138,
   "id": "ce9d3020",
   "metadata": {},
   "outputs": [],
   "source": [
    "observed = pd.crosstab(employees.gender, employees.title)"
   ]
  },
  {
   "cell_type": "code",
   "execution_count": 139,
   "id": "26189d8e",
   "metadata": {},
   "outputs": [
    {
     "name": "stdout",
     "output_type": "stream",
     "text": [
      "Observed\n",
      "title   Assistant Engineer  Engineer  Manager  Senior Engineer  Senior Staff  \\\n",
      "gender                                                                         \n",
      "F                     5952     46063       13            39141         37087   \n",
      "M                     9176     68940       11            58609         55766   \n",
      "\n",
      "title   Staff  Technique Leader  \n",
      "gender                           \n",
      "F       42854              6114  \n",
      "M       64537              9045  \n",
      "\n",
      "Expected\n",
      "[[ 6047 45975     9 39078 37120 42932  6060]\n",
      " [ 9080 69027    14 58671 55732 64458  9098]]\n",
      "\n",
      "----\n",
      "chi^2 = 6.0729\n",
      "p_value     = 0.4151\n"
     ]
    }
   ],
   "source": [
    "chi_square, p_value, degree_of_freedom, expected = stats.chi2_contingency(observed)\n",
    "\n",
    "print('Observed')\n",
    "print(observed)\n",
    "print('\\nExpected')\n",
    "print(expected.astype(int))\n",
    "print('\\n----')\n",
    "print(f'chi^2 = {chi_square:.4f}')\n",
    "print(f'p_value     = {p_value:.4f}')"
   ]
  },
  {
   "cell_type": "code",
   "execution_count": 140,
   "id": "4b74395e",
   "metadata": {},
   "outputs": [
    {
     "name": "stdout",
     "output_type": "stream",
     "text": [
      "we fail to reject the null\n"
     ]
    }
   ],
   "source": [
    "if p_value < alpha:\n",
    "    print('We reject the null')\n",
    "else:\n",
    "    print(\"we fail to reject the null\")"
   ]
  },
  {
   "cell_type": "markdown",
   "id": "c0631607",
   "metadata": {},
   "source": [
    "- Is an employee's gender independent of whether or not they are or have been a manager?"
   ]
  },
  {
   "cell_type": "code",
   "execution_count": 141,
   "id": "c109ab45",
   "metadata": {},
   "outputs": [
    {
     "data": {
      "text/html": [
       "<div>\n",
       "<style scoped>\n",
       "    .dataframe tbody tr th:only-of-type {\n",
       "        vertical-align: middle;\n",
       "    }\n",
       "\n",
       "    .dataframe tbody tr th {\n",
       "        vertical-align: top;\n",
       "    }\n",
       "\n",
       "    .dataframe thead th {\n",
       "        text-align: right;\n",
       "    }\n",
       "</style>\n",
       "<table border=\"1\" class=\"dataframe\">\n",
       "  <thead>\n",
       "    <tr style=\"text-align: right;\">\n",
       "      <th>title</th>\n",
       "      <th>Manager</th>\n",
       "    </tr>\n",
       "    <tr>\n",
       "      <th>gender</th>\n",
       "      <th></th>\n",
       "    </tr>\n",
       "  </thead>\n",
       "  <tbody>\n",
       "    <tr>\n",
       "      <th>F</th>\n",
       "      <td>13</td>\n",
       "    </tr>\n",
       "    <tr>\n",
       "      <th>M</th>\n",
       "      <td>11</td>\n",
       "    </tr>\n",
       "  </tbody>\n",
       "</table>\n",
       "</div>"
      ],
      "text/plain": [
       "title   Manager\n",
       "gender         \n",
       "F            13\n",
       "M            11"
      ]
     },
     "execution_count": 141,
     "metadata": {},
     "output_type": "execute_result"
    }
   ],
   "source": [
    "# select only managers\n",
    "managers = employees[employees.title.str.contains(\"anager\")].title\n",
    "\n",
    "# get crosstab\n",
    "observed = pd.crosstab(employees.gender, managers)\n",
    "observed"
   ]
  },
  {
   "cell_type": "code",
   "execution_count": 142,
   "id": "2abdaf5b",
   "metadata": {},
   "outputs": [
    {
     "name": "stdout",
     "output_type": "stream",
     "text": [
      "Observed\n",
      "title   Manager\n",
      "gender         \n",
      "F            13\n",
      "M            11\n",
      "\n",
      "Expected\n",
      "[[13]\n",
      " [11]]\n",
      "\n",
      "----\n",
      "chi^2 = 0.0000\n",
      "p_value     = 1.0000\n"
     ]
    }
   ],
   "source": [
    "# perform the chi square test\n",
    "chi_square, p_value, degree_of_freedom, expected = stats.chi2_contingency(observed)\n",
    "\n",
    "print('Observed')\n",
    "print(observed)\n",
    "print('\\nExpected')\n",
    "print(expected.astype(int))\n",
    "print('\\n----')\n",
    "print(f'chi^2 = {chi_square:.4f}')\n",
    "print(f'p_value     = {p_value:.4f}')"
   ]
  },
  {
   "cell_type": "code",
   "execution_count": 143,
   "id": "20bdcd98",
   "metadata": {},
   "outputs": [
    {
     "name": "stdout",
     "output_type": "stream",
     "text": [
      "we fail to reject the null\n"
     ]
    }
   ],
   "source": [
    "if p_value < alpha:\n",
    "    print('We reject the null')\n",
    "else:\n",
    "    print(\"we fail to reject the null\")"
   ]
  }
 ],
 "metadata": {
  "kernelspec": {
   "display_name": "Python 3 (ipykernel)",
   "language": "python",
   "name": "python3"
  },
  "language_info": {
   "codemirror_mode": {
    "name": "ipython",
    "version": 3
   },
   "file_extension": ".py",
   "mimetype": "text/x-python",
   "name": "python",
   "nbconvert_exporter": "python",
   "pygments_lexer": "ipython3",
   "version": "3.10.9"
  }
 },
 "nbformat": 4,
 "nbformat_minor": 5
}
